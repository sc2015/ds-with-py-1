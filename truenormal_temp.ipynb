{
 "cells": [
  {
   "cell_type": "markdown",
   "metadata": {},
   "source": [
    "# What is the True Normal Human Body Temperature? \n",
    "\n",
    "#### Background\n",
    "\n",
    "The mean normal body temperature was held to be 37$^{\\circ}$C or 98.6$^{\\circ}$F for more than 120 years since it was first conceptualized and reported by Carl Wunderlich in a famous 1868 book. But, is this value statistically correct?"
   ]
  },
  {
   "cell_type": "markdown",
   "metadata": {},
   "source": [
    "<h3>Exercises</h3>\n",
    "\n",
    "<p>In this exercise, you will analyze a dataset of human body temperatures and employ the concepts of hypothesis testing, confidence intervals, and statistical significance.</p>\n",
    "\n",
    "<p>Answer the following questions <b>in this notebook below and submit to your Github account</b>.</p> \n",
    "\n",
    "<ol>\n",
    "<li>  Is the distribution of body temperatures normal? \n",
    "    <ul>\n",
    "    <li> Although this is not a requirement for CLT to hold (read CLT carefully), it gives us some peace of mind that the population may also be normally distributed if we assume that this sample is representative of the population.\n",
    "    </ul>\n",
    "<li>  Is the sample size large? Are the observations independent?\n",
    "    <ul>\n",
    "    <li> Remember that this is a condition for the CLT, and hence the statistical tests we are using, to apply.\n",
    "    </ul>\n",
    "<li>  Is the true population mean really 98.6 degrees F?\n",
    "    <ul>\n",
    "    <li> Would you use a one-sample or two-sample test? Why?\n",
    "    <li> In this situation, is it appropriate to use the $t$ or $z$ statistic? \n",
    "    <li> Now try using the other test. How is the result be different? Why?\n",
    "    </ul>\n",
    "<li>  Draw a small sample of size 10 from the data and repeat both tests. \n",
    "    <ul>\n",
    "    <li> Which one is the correct one to use? \n",
    "    <li> What do you notice? What does this tell you about the difference in application of the $t$ and $z$ statistic?\n",
    "    </ul>\n",
    "<li>  At what temperature should we consider someone's temperature to be \"abnormal\"?\n",
    "    <ul>\n",
    "    <li> Start by computing the margin of error and confidence interval.\n",
    "    </ul>\n",
    "<li>  Is there a significant difference between males and females in normal temperature?\n",
    "    <ul>\n",
    "    <li> What test did you use and why?\n",
    "    <li> Write a story with your conclusion in the context of the original problem.\n",
    "    </ul>\n",
    "</ol>\n",
    "\n",
    "You can include written notes in notebook cells using Markdown: \n",
    "   - In the control panel at the top, choose Cell > Cell Type > Markdown\n",
    "   - Markdown syntax: http://nestacms.com/docs/creating-content/markdown-cheat-sheet\n",
    "\n",
    "#### Resources\n",
    "\n",
    "+ Information and data sources: http://www.amstat.org/publications/jse/datasets/normtemp.txt, http://www.amstat.org/publications/jse/jse_data_archive.htm\n",
    "+ Markdown syntax: http://nestacms.com/docs/creating-content/markdown-cheat-sheet\n",
    "\n",
    "****"
   ]
  },
  {
   "cell_type": "code",
   "execution_count": 2,
   "metadata": {},
   "outputs": [],
   "source": [
    "import pandas as pd \n",
    "import numpy as np\n",
    "import matplotlib.pyplot as plt\n",
    "import seaborn as sns\n",
    "import scipy.stats as stats\n",
    "import pylab\n",
    "\n",
    "df = pd.read_csv('data/human_body_temperature.csv')"
   ]
  },
  {
   "cell_type": "code",
   "execution_count": 21,
   "metadata": {},
   "outputs": [
    {
     "data": {
      "text/html": [
       "<div>\n",
       "<style>\n",
       "    .dataframe thead tr:only-child th {\n",
       "        text-align: right;\n",
       "    }\n",
       "\n",
       "    .dataframe thead th {\n",
       "        text-align: left;\n",
       "    }\n",
       "\n",
       "    .dataframe tbody tr th {\n",
       "        vertical-align: top;\n",
       "    }\n",
       "</style>\n",
       "<table border=\"1\" class=\"dataframe\">\n",
       "  <thead>\n",
       "    <tr style=\"text-align: right;\">\n",
       "      <th></th>\n",
       "      <th>temperature</th>\n",
       "      <th>gender</th>\n",
       "      <th>heart_rate</th>\n",
       "    </tr>\n",
       "  </thead>\n",
       "  <tbody>\n",
       "    <tr>\n",
       "      <th>0</th>\n",
       "      <td>99.3</td>\n",
       "      <td>F</td>\n",
       "      <td>68.0</td>\n",
       "    </tr>\n",
       "    <tr>\n",
       "      <th>1</th>\n",
       "      <td>98.4</td>\n",
       "      <td>F</td>\n",
       "      <td>81.0</td>\n",
       "    </tr>\n",
       "    <tr>\n",
       "      <th>2</th>\n",
       "      <td>97.8</td>\n",
       "      <td>M</td>\n",
       "      <td>73.0</td>\n",
       "    </tr>\n",
       "    <tr>\n",
       "      <th>3</th>\n",
       "      <td>99.2</td>\n",
       "      <td>F</td>\n",
       "      <td>66.0</td>\n",
       "    </tr>\n",
       "    <tr>\n",
       "      <th>4</th>\n",
       "      <td>98.0</td>\n",
       "      <td>F</td>\n",
       "      <td>73.0</td>\n",
       "    </tr>\n",
       "  </tbody>\n",
       "</table>\n",
       "</div>"
      ],
      "text/plain": [
       "   temperature gender  heart_rate\n",
       "0         99.3      F        68.0\n",
       "1         98.4      F        81.0\n",
       "2         97.8      M        73.0\n",
       "3         99.2      F        66.0\n",
       "4         98.0      F        73.0"
      ]
     },
     "execution_count": 21,
     "metadata": {},
     "output_type": "execute_result"
    }
   ],
   "source": [
    "df.head()"
   ]
  },
  {
   "cell_type": "markdown",
   "metadata": {},
   "source": [
    "# Q 1\n",
    "* Is the distribution of body temperatures normal?"
   ]
  },
  {
   "cell_type": "code",
   "execution_count": 45,
   "metadata": {},
   "outputs": [
    {
     "data": {
      "image/png": "[encoded data removed]",
      "text/plain": [
       "<matplotlib.figure.Figure at 0x11ed23978>"
      ]
     },
     "metadata": {},
     "output_type": "display_data"
    }
   ],
   "source": [
    "%matplotlib inline\n",
    "ax = sns.distplot(df.temperature,kde=False)"
   ]
  },
  {
   "cell_type": "code",
   "execution_count": 46,
   "metadata": {},
   "outputs": [
    {
     "name": "stderr",
     "output_type": "stream",
     "text": [
      "/Applications/anaconda/lib/python3.5/site-packages/statsmodels/nonparametric/kdetools.py:20: VisibleDeprecationWarning: using a non-integer number instead of an integer will result in an error in the future\n",
      "  y = X[:m/2+1] + np.r_[0,X[m/2+1:],0]*1j\n"
     ]
    },
    {
     "data": {
      "image/png": "[encoded data removed]",
      "text/plain": [
       "<matplotlib.figure.Figure at 0x11fa3d588>"
      ]
     },
     "metadata": {},
     "output_type": "display_data"
    }
   ],
   "source": [
    "%matplotlib inline\n",
    "ax = sns.distplot(df.temperature)"
   ]
  },
  {
   "cell_type": "code",
   "execution_count": 44,
   "metadata": {},
   "outputs": [
    {
     "data": {
      "text/plain": [
       "NormaltestResult(statistic=2.7038014333192031, pvalue=0.2587479863488254)"
      ]
     },
     "execution_count": 44,
     "metadata": {},
     "output_type": "execute_result"
    }
   ],
   "source": [
    "stats.normaltest(df.temperature)"
   ]
  },
  {
   "cell_type": "markdown",
   "metadata": {},
   "source": [
    "# We can conclude that the body temperature is normal distributed based on the p value (0.25) of normal test "
   ]
  },
  {
   "cell_type": "markdown",
   "metadata": {},
   "source": [
    "# Q 2\n",
    "* Is the sample size large? Are the observations independent?"
   ]
  },
  {
   "cell_type": "code",
   "execution_count": null,
   "metadata": {
    "collapsed": true
   },
   "outputs": [],
   "source": []
  },
  {
   "cell_type": "markdown",
   "metadata": {},
   "source": [
    "Sample Size calculation is based on the following formula \n",
    "\n",
    "n = N*X / (X + N – 1),\n",
    "where,\n",
    "N = population size \n",
    "p = sample proportion \n",
    "Z = zscore for confidence interval \n",
    "X = Z^2 * p*(1-p) / Err^2,"
   ]
  },
  {
   "cell_type": "code",
   "execution_count": 55,
   "metadata": {},
   "outputs": [],
   "source": [
    "# dict of confidence interval to z-score mapping \n",
    "ci_to_z = { 80: 1.28,85:1.44,90:1.65,95:1.96,99:2.58}\n",
    "def GetSampleSize(psize, ci=95 , e=0.05,p=0.5):\n",
    "    zs = ci_to_z[ci]    # convert confidence interval to z-score\n",
    "    X = ((zs**2) * (p * (1-p)) / e** 2)\n",
    "    samp_size = psize * X  / (1 + psize + X)\n",
    "    return int(samp_size)"
   ]
  },
  {
   "cell_type": "code",
   "execution_count": 63,
   "metadata": {},
   "outputs": [
    {
     "name": "stdout",
     "output_type": "stream",
     "text": [
      "Sample Size for 1M population size with 95% Condifence Interval , 5% Error Margin = 384\n",
      "Sample Size for 1M population size with 90% Condifence Interval , 10% Error Margin = 68\n"
     ]
    }
   ],
   "source": [
    "print(\"Sample Size for 1M population size with 95% Condifence Interval , 5% Error Margin = \" + str(GetSampleSize(1000000))) \n",
    "print(\"Sample Size for 1M population size with 90% Condifence Interval , 10% Error Margin = \" + str(GetSampleSize(1000000,ci=90,e=0.1))) \n"
   ]
  },
  {
   "cell_type": "code",
   "execution_count": 33,
   "metadata": {},
   "outputs": [
    {
     "data": {
      "text/plain": [
       "<matplotlib.axes._subplots.AxesSubplot at 0x11e1b3048>"
      ]
     },
     "execution_count": 33,
     "metadata": {},
     "output_type": "execute_result"
    },
    {
     "data": {
      "image/png": "[encoded data removed]",
      "text/plain": [
       "<matplotlib.figure.Figure at 0x11512ce80>"
      ]
     },
     "metadata": {},
     "output_type": "display_data"
    }
   ],
   "source": [
    "\n",
    "sns.regplot(df['temperature'], df['heart_rate'])"
   ]
  },
  {
   "cell_type": "markdown",
   "metadata": {},
   "source": [
    "## The above computation specifies the optimal sample population size for various confidence intervals. However given that the sample is normally distributed , independent and sample size (130) is > 30 , the sample set is sufficient "
   ]
  },
  {
   "cell_type": "markdown",
   "metadata": {},
   "source": [
    "# Q3 & Q4\n",
    "* Is the true population mean really 98.6 degrees F?\n",
    "* Would you use a one-sample or two-sample test? Why?\n",
    "* In this situation, is it appropriate to use the  t or  z statistic?\n",
    "* Draw a small sample of size 10 from the data and repeat both tests.\n",
    "* Which one is the correct one to use?\n"
   ]
  },
  {
   "cell_type": "markdown",
   "metadata": {},
   "source": [
    "Ho - Null Hypothesis: The population mean is 98.6F\n",
    "Ha - Alternative Hypothesis: The population mean is NOT equal 98.6F\n",
    "\n",
    "As we are assuming the population mean = 98.6F , we can use a one sample t-test to compute the z/t-statistics/probably value "
   ]
  },
  {
   "cell_type": "code",
   "execution_count": 86,
   "metadata": {},
   "outputs": [
    {
     "name": "stdout",
     "output_type": "stream",
     "text": [
      "P Value is 0.000\n",
      "We reject the Null Hypothesis.True Population Mean is NOT 98.6 F\n"
     ]
    }
   ],
   "source": [
    "[tstat,pval] = stats.ttest_1samp(df['temperature'], popmean=98.6)\n",
    "print(\"P Value is {0:.3f}\".format(pval))\n",
    "if (pval < 0.05) :\n",
    "    print(\"We reject the Null Hypothesis.True Population Mean is NOT 98.6 F\")\n",
    "else:\n",
    "    print(\"We accept the Null Hypothesis.True Population Mean is 98.6 F\")"
   ]
  },
  {
   "cell_type": "markdown",
   "metadata": {},
   "source": [
    "## Based on 1 sample test  and p-values we conclude  that the  true mean of the human body temperature is NOT 98.6 "
   ]
  },
  {
   "cell_type": "markdown",
   "metadata": {},
   "source": [
    "Now lets test the one sample t-test with sample size of 10 "
   ]
  },
  {
   "cell_type": "code",
   "execution_count": 89,
   "metadata": {},
   "outputs": [
    {
     "name": "stdout",
     "output_type": "stream",
     "text": [
      "P Value is 0.024\n",
      "We accept the Null Hypothesis.True Population Mean is 98.6 F\n"
     ]
    }
   ],
   "source": [
    "rdm = np.random.choice(len(df),replace=False,size=10)\n",
    "subset= df.iloc[rdm]\n",
    "print(\"P Value is {0:.3f}\".format(pval))\n",
    "[tstat,pval] = stats.ttest_1samp(subset.temperature, popmean=98.6)\n",
    "if (pval < 0.05) :\n",
    "    print(\"We reject the Null Hypothesis.True Population Mean is NOT 98.6 F\")\n",
    "else:\n",
    "    print(\"We accept the Null Hypothesis.True Population Mean is 98.6 F\")"
   ]
  },
  {
   "cell_type": "markdown",
   "metadata": {},
   "source": []
  },
  {
   "cell_type": "markdown",
   "metadata": {},
   "source": [
    "f_t = df.temperature[df.gender == \"F\"]\n",
    "m_t = df.temperature[df.gender == \"M\"]\n",
    "df.gender.value_counts()\n",
    "\n",
    "print(\"Female:\")\n",
    "print(\"  Mean        \", f_t.mean())\n",
    "print(\"  Variance    \",f_t.var())\n",
    "print(\"  Sample size \",len(f_t))\n",
    "\n",
    "\n",
    "print(\"Male:\")\n",
    "print(\"  Mean        \", m_t.mean())\n",
    "print(\"  Variance    \",m_t.var())\n",
    "print(\"  Sample size \",len(m_t))"
   ]
  },
  {
   "cell_type": "markdown",
   "metadata": {},
   "source": [
    "# Q 5 \n",
    "* At what temperature should we consider someone's temperature to be \"abnormal\"?\n",
    "* Start by computing the margin of error and confidence interval.\n"
   ]
  },
  {
   "cell_type": "code",
   "execution_count": 76,
   "metadata": {},
   "outputs": [
    {
     "name": "stdout",
     "output_type": "stream",
     "text": [
      "98.1220029056 98.3764586329\n"
     ]
    }
   ],
   "source": [
    "x = df.temperature\n",
    "a,b = stats.t.interval(0.95,len(x)-1,loc=np.mean(x),scale=stats.sem(x))\n",
    "print(a,b)"
   ]
  },
  {
   "cell_type": "markdown",
   "metadata": {},
   "source": [
    "## Using the confidence interval from the Z test we can conclude  temperature values less than 98.122 or greater than  98.376 to be abnormal"
   ]
  },
  {
   "cell_type": "markdown",
   "metadata": {},
   "source": [
    "# Q 6\n",
    "\n",
    "Is there a significant difference between males and females in normal temperature?\n",
    "What test did you use and why?\n"
   ]
  },
  {
   "cell_type": "code",
   "execution_count": 54,
   "metadata": {},
   "outputs": [
    {
     "data": {
      "text/plain": [
       "[<matplotlib.axis.YTick at 0x11ffcf748>,\n",
       " <matplotlib.axis.YTick at 0x11ffcf208>,\n",
       " <matplotlib.axis.YTick at 0x11ffac780>,\n",
       " <matplotlib.axis.YTick at 0x11ec88ba8>,\n",
       " <matplotlib.axis.YTick at 0x11ec72550>,\n",
       " <matplotlib.axis.YTick at 0x11ec72f60>,\n",
       " <matplotlib.axis.YTick at 0x11ec649b0>,\n",
       " <matplotlib.axis.YTick at 0x11ec8c400>,\n",
       " <matplotlib.axis.YTick at 0x11ec8ce10>,\n",
       " <matplotlib.axis.YTick at 0x11ec79860>,\n",
       " <matplotlib.axis.YTick at 0x11efcb2b0>,\n",
       " <matplotlib.axis.YTick at 0x11efcbcc0>,\n",
       " <matplotlib.axis.YTick at 0x11efb9d68>,\n",
       " <matplotlib.axis.YTick at 0x11efbd748>,\n",
       " <matplotlib.axis.YTick at 0x11efbd240>,\n",
       " <matplotlib.axis.YTick at 0x11efcf5c0>,\n",
       " <matplotlib.axis.YTick at 0x11efcffd0>,\n",
       " <matplotlib.axis.YTick at 0x11efdca20>,\n",
       " <matplotlib.axis.YTick at 0x11efc7470>,\n",
       " <matplotlib.axis.YTick at 0x11efc7e80>,\n",
       " <matplotlib.axis.YTick at 0x11efd18d0>,\n",
       " <matplotlib.axis.YTick at 0x11efd3320>]"
      ]
     },
     "execution_count": 54,
     "metadata": {},
     "output_type": "execute_result"
    },
    {
     "data": {
      "image/png": "[encoded data removed]",
      "text/plain": [
       "<matplotlib.figure.Figure at 0x11ea7dda0>"
      ]
     },
     "metadata": {},
     "output_type": "display_data"
    }
   ],
   "source": [
    "plt.figure(figsize=(3,8))\n",
    "ax = sns.boxplot(x=\"gender\", y=\"temperature\", data=df,palette=\"Set2\", dodge=True)\n",
    "ax.set_yticks(np.arange(95.75,101.25,0.25))\n"
   ]
  },
  {
   "cell_type": "code",
   "execution_count": 24,
   "metadata": {},
   "outputs": [
    {
     "data": {
      "text/plain": [
       "<matplotlib.legend.Legend at 0x11e5d4390>"
      ]
     },
     "execution_count": 24,
     "metadata": {},
     "output_type": "execute_result"
    },
    {
     "data": {
      "image/png": "[encoded data removed]",
      "text/plain": [
       "<matplotlib.figure.Figure at 0x102a06c50>"
      ]
     },
     "metadata": {},
     "output_type": "display_data"
    }
   ],
   "source": [
    "sns.distplot(m_t,kde=False, label='male')\n",
    "sns.distplot(f_t, label='female',kde=False)\n",
    "plt.legend()"
   ]
  },
  {
   "cell_type": "markdown",
   "metadata": {},
   "source": [
    "Ho - Null Hypothesis: The population mean of Males is EQUAL to that of Femels\n",
    "Ha - Alternative Hypothesis: The population means of Males & Females are NOT  equal\n",
    "\n",
    "We use a two sample t-test to see if body temperatures are significantly different between males/females] "
   ]
  },
  {
   "cell_type": "code",
   "execution_count": 88,
   "metadata": {},
   "outputs": [
    {
     "name": "stdout",
     "output_type": "stream",
     "text": [
      "We reject the Null Hypothesis.Mean of Males is NOT EQUAL to Mean of Females\n"
     ]
    }
   ],
   "source": [
    "[tval,pval] = stats.ttest_ind(m_t,f_t)\n",
    "if (pval < 0.05) :\n",
    "    print(\"We reject the Null Hypothesis.Mean of Males is NOT EQUAL to Mean of Females\")\n",
    "else:\n",
    "    print(\"We accept the Null Hypothesis.Mean of Males is  EQUAL to Mean of Females\")"
   ]
  },
  {
   "cell_type": "markdown",
   "metadata": {},
   "source": [
    "Since our p-value is less than 0.05, we can reject our null hypothesis with 95% confidence."
   ]
  },
  {
   "cell_type": "markdown",
   "metadata": {},
   "source": [
    "## Based on two sample test  and p-values we conclude  that the  true mean of the males and females are NOT the same "
   ]
  },
  {
   "cell_type": "code",
   "execution_count": null,
   "metadata": {
    "collapsed": true
   },
   "outputs": [],
   "source": []
  }
 ],
 "metadata": {
  "kernelspec": {
   "display_name": "Python [Root]",
   "language": "python",
   "name": "Python [Root]"
  },
  "language_info": {
   "codemirror_mode": {
    "name": "ipython",
    "version": 3
   },
   "file_extension": ".py",
   "mimetype": "text/x-python",
   "name": "python",
   "nbconvert_exporter": "python",
   "pygments_lexer": "ipython3",
   "version": "3.5.2"
  }
 },
 "nbformat": 4,
 "nbformat_minor": 1
}
