{
 "cells": [
  {
   "cell_type": "markdown",
   "metadata": {
    "collapsed": true
   },
   "source": [
    "# Exploratary Data Analysis on EdX Data (2013-14)"
   ]
  },
  {
   "cell_type": "code",
   "execution_count": 1,
   "metadata": {
    "collapsed": true
   },
   "outputs": [],
   "source": [
    "import numpy as np \n",
    "import pandas as pd \n",
    "import time\n",
    "\n",
    "from sklearn.preprocessing import LabelEncoder\n",
    "from sklearn.linear_model import LinearRegression\n",
    "from sklearn.linear_model import LogisticRegression\n",
    "from sklearn import preprocessing\n",
    "from sklearn import metrics \n",
    "from sklearn.model_selection import train_test_split\n",
    "from sklearn.metrics import classification_report\n",
    "from sklearn.metrics import confusion_matrix\n",
    "from sklearn.metrics import mean_squared_error\n",
    "from sklearn.tree import DecisionTreeRegressor\n",
    "\n",
    "import matplotlib.pyplot as plt\n",
    "import seaborn as sb"
   ]
  },
  {
   "cell_type": "code",
   "execution_count": 2,
   "metadata": {
    "collapsed": true
   },
   "outputs": [],
   "source": [
    "# PATH to data file\n",
    "file='HMXPC13_DI_v2_5-14-14.csv'\n",
    "path='/Users/suka/Downloads/dataverse_files'\n",
    "filename=path+'/'+file"
   ]
  },
  {
   "cell_type": "code",
   "execution_count": 3,
   "metadata": {
    "collapsed": true
   },
   "outputs": [],
   "source": [
    "#  READ THE CSV to data frame \n",
    "full_df = pd.read_csv(filename,parse_dates=True)\n"
   ]
  },
  {
   "cell_type": "code",
   "execution_count": 4,
   "metadata": {
    "collapsed": true
   },
   "outputs": [],
   "source": [
    "#filter out rows which do not have data for DoB , Education, etc\n",
    "#valid_rows = np.logical_and.reduce((full_df['YoB'].notnull(),full_df['gender'].notnull(),full_df['LoE_DI'].notnull()))\n",
    "#df = full_df[valid_rows] # extract the rows with complete data\n",
    "\n",
    "\n",
    "# Extract relevant fields \n",
    "data = full_df[['course_id','userid_DI','final_cc_cname_DI','LoE_DI','YoB','gender','start_time_DI','grade','viewed','explored','nevents','ndays_act','nplay_video','nchapters','certified','registered','incomplete_flag']].copy()\n",
    "\n",
    "# split the course id into multiple fields\n",
    "a,b,c = data['course_id'].str.split('/').str\n",
    "data.insert(1,'institution',a)\n",
    "data.insert(2,'course',b)\n",
    "\n",
    "# clean up the year which has the _spring,_fall suffixes \n",
    "a = c.str.split('_').str[0]\n",
    "b = c.str.split('_').str[1]\n",
    "\n",
    "data.insert(3,'year',a)\n",
    "data.insert(4,'term',b)\n",
    "\n",
    "data.drop('course_id',axis=1,inplace=True)\n",
    "\n",
    "# Create the mapping of course-id to title \n",
    "courselist = {'CB22x':'Greek Heros', 'CS50x':'Computer Science','ER22x':'Justice','PH207x':'Health Stat','PH278x':'Health Env','14.73x':'Poverty','2.01x':'Structures','3.091x':'SS Chemistry','6.002x':'Circuits','6.00x':'Computer Pgming','7.00x':'Biology','8.02x':'Electricity & Magnetism','8.MReV':'Mechanics'}\n",
    "data['course'].replace(courselist, inplace=True)\n",
    "\n",
    "#rename columns \n",
    "data.rename(columns={'nchapters':'chapters viewed','ndays_act':'days active','nplay_video':'videos played','course_id': 'course', 'final_cc_cname_DI': 'country','LoE_DI':'education','userid_DI':'user',\"start_time_DI\":\"start-time\"}, inplace=True)\n",
    "\n",
    "\n",
    "data['YoB'] = data.groupby('course')['YoB'].transform(lambda x: x.fillna(x.median()))\n",
    "data['gender'] = data.groupby('course')['gender'].transform(lambda x: x.fillna(x.value_counts().index[0]))\n",
    "data['education'] = data.groupby('course')['education'].transform(lambda x: x.fillna(x.value_counts().index[0]))\n",
    "\n"
   ]
  },
  {
   "cell_type": "code",
   "execution_count": 5,
   "metadata": {
    "collapsed": true
   },
   "outputs": [],
   "source": [
    "#Fill NaN data with zeros\n",
    "\n",
    "\n",
    "# change the datatypes of some of the columns\n",
    "data['institution']= data.institution.astype('category')\n",
    "data['course']= data.course.astype('category')\n",
    "\n",
    "e_order = [\"Less than Secondary\",\"Secondary\",\"Bachelor's\",\"Master's\",\"Doctorate\"]\n",
    "#e_type = pd.api.types.CategoricalDtype(categories=[\"Less than Secondary\",\"Secondary\",\"Bachelor's\",\"Master's\",\"Doctorate\"], ordered=True)\n",
    "\n",
    "data['grade'] = pd.to_numeric(data['grade'],errors='coerce')\n",
    "data['grade'] = data['grade'].fillna(0).multiply(100)\n",
    "data['education']= data.education.astype('category').cat.set_categories(e_order, ordered=True)\n",
    "\n",
    "\n",
    "data['chapters viewed'].fillna(0,inplace=True) # replace NaN with 0 \n",
    "data['nevents'].fillna(0,inplace=True) # replace NaN with 0 \n",
    "data['videos played'].fillna(0,inplace=True) # replace NaN with 0 \n",
    "data['chapters viewed'].fillna(0,inplace=True) # replace NaN with 0 \n",
    "data['days active'].fillna(0,inplace=True) # replace NaN with 0 \n",
    "data['term'].fillna('Fall',inplace=True)\n",
    "\n",
    "data['gender']= data.gender.astype('category')\n",
    "data['year']= data.year.astype('int')\n",
    "data['YoB']= data.YoB.astype('int')\n",
    "data['nevents']= data.nevents.astype('int')\n",
    "\n",
    "data['start-time'] = pd.to_datetime(data['start-time'])\n",
    "\n",
    "# Add a column \"age\" using YoB (age calculated as on 2014)\n",
    "data.insert(3,\"age\", [(x.year-x.YoB) for index, x in data.iterrows() ])"
   ]
  },
  {
   "cell_type": "code",
   "execution_count": 6,
   "metadata": {},
   "outputs": [
    {
     "name": "stdout",
     "output_type": "stream",
     "text": [
      "             user\n",
      "registered       \n",
      "2           78269\n",
      "3           21982\n",
      "4            7171\n",
      "5            2643\n",
      "6             900\n",
      "7             334\n",
      "8             132\n",
      "9              93\n",
      "10             42\n",
      "11             40\n",
      "12             28\n",
      "13             15\n",
      "14             24\n",
      "15             17\n",
      "16             20\n"
     ]
    }
   ],
   "source": [
    "aggregations = { 'registered':'sum'}\n",
    "course_per_user = data['user'].value_counts() \n",
    "c_user  = data.groupby(['user'],as_index=False).agg(aggregations)\n",
    "\n",
    "c_user.head()\n",
    "multi = c_user[c_user.registered > 1]\n",
    "x = multi.groupby(['registered']).count()\n",
    "print(x)\n"
   ]
  },
  {
   "cell_type": "code",
   "execution_count": 7,
   "metadata": {
    "collapsed": true
   },
   "outputs": [],
   "source": [
    "\n",
    "modeldata = data.copy()\n",
    "\n",
    "encoder = LabelEncoder()\n",
    "icode = encoder.fit_transform(data['institution'])\n",
    "ccode = encoder.fit_transform(data['country'])\n",
    "cscode = encoder.fit_transform(data['course'])\n",
    "educode = encoder.fit_transform(data['education'])\n",
    "gendercode=encoder.fit_transform(data['gender'])\n",
    "usercode=encoder.fit_transform(data['user'])\n",
    "\n",
    "# Eliminate the categorical data and use the encoded information \n",
    "modeldata.drop(['institution','term','start-time','course','country','education','YoB','year','gender','registered','user','incomplete_flag'],axis=1,inplace=True)\n",
    "\n",
    "#modeldata.insert(0,\"user\",usercode)\n",
    "modeldata.insert(1,\"country\",ccode)\n",
    "modeldata.insert(2,\"course\",cscode)\n",
    "modeldata.insert(3,\"education\",educode)\n",
    "modeldata.insert(4,\"gender\",gendercode)\n",
    "modeldata.insert(5,\"institution\",icode)\n",
    "\n"
   ]
  },
  {
   "cell_type": "code",
   "execution_count": 8,
   "metadata": {},
   "outputs": [
    {
     "data": {
      "text/plain": [
       "<matplotlib.axes._subplots.AxesSubplot at 0x12648b4e0>"
      ]
     },
     "execution_count": 8,
     "metadata": {},
     "output_type": "execute_result"
    },
    {
     "data": {
      "image/png": "[encoded data removed]",
      "text/plain": [
       "<matplotlib.figure.Figure at 0x12649c828>"
      ]
     },
     "metadata": {},
     "output_type": "display_data"
    }
   ],
   "source": [
    "%matplotlib inline\n",
    "corr = modeldata.corr()\n",
    "# Generate a mask for the upper triangle\n",
    "mask = np.zeros_like(corr, dtype=np.bool)\n",
    "mask[np.triu_indices_from(mask)] = True\n",
    "\n",
    "# Set up the matplotlib figure\n",
    "f, ax = plt.subplots(figsize=(11, 9))\n",
    "\n",
    "# Generate a custom diverging colormap\n",
    "cmap = sb.diverging_palette(240, 10, as_cmap=True)\n",
    "\n",
    "# Draw the heatmap with the mask and correct aspect ratio\n",
    "sb.heatmap(corr,  mask=mask,cmap=cmap, center=0,annot=True,fmt='.2f',\n",
    "             linewidths=.5, cbar_kws={\"shrink\": .5})"
   ]
  },
  {
   "cell_type": "markdown",
   "metadata": {
    "collapsed": true
   },
   "source": [
    "# Simple Logistic Regression Model"
   ]
  },
  {
   "cell_type": "code",
   "execution_count": 9,
   "metadata": {},
   "outputs": [
    {
     "name": "stdout",
     "output_type": "stream",
     "text": [
      "[[247965   1390]\n",
      " [  2051   5050]]\n",
      "             precision    recall  f1-score   support\n",
      "\n",
      "          0       0.99      0.99      0.99    249355\n",
      "          1       0.78      0.71      0.75      7101\n",
      "\n",
      "avg / total       0.99      0.99      0.99    256456\n",
      "\n"
     ]
    }
   ],
   "source": [
    "#Build the logistic regression model\n",
    "\n",
    "modeldata.fillna(0,inplace=True) # replace NaN with 0 \n",
    "\n",
    "X = modeldata.drop(['grade','certified'],axis = 1)\n",
    "Y = modeldata['certified']\n",
    "\n",
    "Yg = modeldata['grade']\n",
    "\n",
    "# Split the dataset into test and training set with 30/70 split\n",
    "X_train, X_test, y_train, y_test = train_test_split(X, Y, test_size = .4, random_state=42)\n",
    "\n",
    "LogReg = LogisticRegression()\n",
    "LogReg.fit(X_train, y_train)\n",
    "\n",
    "    \n",
    "# Predict the resukts on test data  \n",
    "y_pred = LogReg.predict(X_test)\n",
    "cm = confusion_matrix(y_test, y_pred)\n",
    "\n",
    "# Print the metrics \n",
    "print(cm)\n",
    "print(classification_report(y_test, y_pred))\n",
    "\n",
    "# Generate table of predictions vs actual\n",
    "#pd.crosstab(y_test,y_pred)\n"
   ]
  },
  {
   "cell_type": "markdown",
   "metadata": {},
   "source": [
    "# ROC Curve - "
   ]
  },
  {
   "cell_type": "code",
   "execution_count": 10,
   "metadata": {},
   "outputs": [
    {
     "data": {
      "image/png": "[encoded data removed]",
      "text/plain": [
       "<matplotlib.figure.Figure at 0x12645be10>"
      ]
     },
     "metadata": {},
     "output_type": "display_data"
    }
   ],
   "source": [
    "from sklearn.metrics import roc_curve\n",
    "\n",
    "\n",
    "y_pred_prob = LogReg.predict_proba(X_test)[:,1]\n",
    "\n",
    "# Generate ROC curve values: fpr, tpr, thresholds\n",
    "fpr, tpr, thresholds = roc_curve(y_test, y_pred_prob)\n",
    "\n",
    "# Plot ROC curve\n",
    "plt.plot([0, 1], [0, 1], 'k--')\n",
    "plt.plot(fpr, tpr)\n",
    "plt.xlabel('False Positive Rate')\n",
    "plt.ylabel('True Positive Rate')\n",
    "plt.title('ROC Curve')\n",
    "plt.show()"
   ]
  },
  {
   "cell_type": "markdown",
   "metadata": {},
   "source": [
    "## looks like ROC for class 0 (not certifed) ? how to get the ROC for class 1 ??"
   ]
  },
  {
   "cell_type": "markdown",
   "metadata": {},
   "source": [
    "# Hyper parameter tuning "
   ]
  },
  {
   "cell_type": "code",
   "execution_count": 11,
   "metadata": {},
   "outputs": [
    {
     "name": "stdout",
     "output_type": "stream",
     "text": [
      "Tuned Logistic Regression Parameters: {'C': 1389495.494373136}\n",
      "Best score is 0.9863991556662386\n",
      "run time 420.24464082717896 seconds ---\n"
     ]
    }
   ],
   "source": [
    "start_time = time.time()\n",
    "\n",
    "\n",
    "# Import necessary modules\n",
    "\n",
    "from sklearn.model_selection import GridSearchCV\n",
    "\n",
    "# Setup the hyperparameter grid\n",
    "c_space = np.logspace(-5, 8, 15)\n",
    "param_grid = {'C': c_space}\n",
    "\n",
    "\n",
    "# Instantiate the GridSearchCV object: logreg_cv\n",
    "logreg_cv = GridSearchCV(LogReg, param_grid, cv=5)\n",
    "\n",
    "# Fit it to the data\n",
    "logreg_cv.fit(X_train,y_train)\n",
    "\n",
    "\n",
    "# Print the tuned parameters and score\n",
    "print(\"Tuned Logistic Regression Parameters: {}\".format(logreg_cv.best_params_)) \n",
    "print(\"Best score is {}\".format(logreg_cv.best_score_))\n",
    "\n",
    "print(\"run time %s seconds \" % (int(time.time() - start_time)))\n",
    "\n"
   ]
  },
  {
   "cell_type": "markdown",
   "metadata": {},
   "source": [
    "### how can I use the best model/predict from hyper parameter tuning (instead of running one more instance as below)\n",
    "### Different parameter values in dfferent runs ??"
   ]
  },
  {
   "cell_type": "code",
   "execution_count": 12,
   "metadata": {},
   "outputs": [
    {
     "name": "stdout",
     "output_type": "stream",
     "text": [
      "[[247967   1388]\n",
      " [  2047   5054]]\n",
      "             precision    recall  f1-score   support\n",
      "\n",
      "          0       0.99      0.99      0.99    249355\n",
      "          1       0.78      0.71      0.75      7101\n",
      "\n",
      "avg / total       0.99      0.99      0.99    256456\n",
      "\n"
     ]
    }
   ],
   "source": [
    "cbest = logreg_cv.best_params_['C']\n",
    "\n",
    "\n",
    "LogReg = LogisticRegression(C=cbest)\n",
    "LogReg.fit(X_train, y_train)\n",
    "\n",
    "    \n",
    "# Predict the resukts on test data  \n",
    "y_pred = LogReg.predict(X_test)\n",
    "cm = confusion_matrix(y_test, y_pred)\n",
    "\n",
    "# Print the metrics \n",
    "print(cm)\n",
    "print(classification_report(y_test, y_pred))\n",
    "\n"
   ]
  },
  {
   "cell_type": "markdown",
   "metadata": {},
   "source": [
    "### very little difference in confusion matrix"
   ]
  },
  {
   "cell_type": "markdown",
   "metadata": {},
   "source": [
    "### parameter tuning - C & penalty "
   ]
  },
  {
   "cell_type": "code",
   "execution_count": null,
   "metadata": {
    "collapsed": true
   },
   "outputs": [],
   "source": [
    "\n",
    "start_time = time.time()\n",
    "\n",
    "\n",
    "# Create the hyperparameter grid\n",
    "c_space = np.logspace(-5, 8, 15)\n",
    "param_grid = {'C': c_space, 'penalty': ['l1', 'l2']}\n",
    "\n",
    "# Instantiate the logistic regression classifier: logreg\n",
    "logreg = LogisticRegression()\n",
    "\n",
    "# Instantiate the GridSearchCV object: logreg_cv\n",
    "logreg_cv = GridSearchCV(logreg,param_grid,cv=5)\n",
    "\n",
    "# Fit it to the training data\n",
    "logreg_cv.fit(X_train,y_train)\n",
    "\n",
    "# Print the optimal parameters and best score\n",
    "print(\"Tuned Logistic Regression Parameter: {}\".format(logreg_cv.best_params_))\n",
    "print(\"Tuned Logistic Regression Accuracy: {}\".format(logreg_cv.best_score_))\n",
    "\n",
    "\n",
    "print(\"run time %s seconds \" % (time.time() - start_time))\n"
   ]
  },
  {
   "cell_type": "markdown",
   "metadata": {},
   "source": [
    "### This one is taking too much time "
   ]
  },
  {
   "cell_type": "code",
   "execution_count": 13,
   "metadata": {},
   "outputs": [
    {
     "name": "stdout",
     "output_type": "stream",
     "text": [
      "AUC: 0.9934023316277669\n",
      "AUC scores computed using 5-fold cross-validation: [ 0.99244246  0.98632738  0.99445673  0.99463661  0.9954138 ]\n"
     ]
    }
   ],
   "source": [
    "# Import necessary modules\n",
    "from sklearn.model_selection import cross_val_score\n",
    "from sklearn.metrics import roc_auc_score\n",
    "\n",
    "# Compute predicted probabilities: y_pred_prob\n",
    "y_pred_prob = LogReg.predict_proba(X_test)[:,1]\n",
    "\n",
    "# Compute and print AUC score\n",
    "print(\"AUC: {}\".format(roc_auc_score(y_test,y_pred_prob)))\n",
    "\n",
    "# Compute cross-validated AUC scores: cv_auc\n",
    "cv_auc = cross_val_score(LogReg,X,Y,cv=5,scoring='roc_auc')\n",
    "\n",
    "# Print list of AUC scores\n",
    "print(\"AUC scores computed using 5-fold cross-validation: {}\".format(cv_auc))"
   ]
  },
  {
   "cell_type": "markdown",
   "metadata": {},
   "source": [
    "### again the numbers seem to be for class 0 ???"
   ]
  },
  {
   "cell_type": "code",
   "execution_count": null,
   "metadata": {
    "collapsed": true
   },
   "outputs": [],
   "source": [
    "# Import necessary modules\n",
    "\n",
    "from sklearn.linear_model import ElasticNet\n",
    "\n",
    "# Create train and test sets\n",
    "X_train, X_test, y_train, y_test = train_test_split(X,Y,test_size=0.3,random_state=42)\n",
    "\n",
    "# Create the hyperparameter grid\n",
    "l1_space = np.linspace(0, 1, 30)\n",
    "param_grid = {'l1_ratio': l1_space}\n",
    "\n",
    "# Instantiate the ElasticNet regressor: elastic_net\n",
    "elastic_net = ElasticNet()\n",
    "\n",
    "# Setup the GridSearchCV object: gm_cv\n",
    "gm_cv = GridSearchCV(elastic_net, param_grid,cv=5)\n",
    "\n",
    "# Fit it to the training data\n",
    "gm_cv.fit(X_train,y_train)\n",
    "\n",
    "# Predict on the test set and compute metrics\n",
    "y_pred = gm_cv.predict(X_test)\n",
    "r2 = gm_cv.score(X_test, y_test)\n",
    "mse = mean_squared_error(y_test, y_pred)\n",
    "print(\"Tuned ElasticNet l1 ratio: {}\".format(gm_cv.best_params_))\n",
    "print(\"Tuned ElasticNet R squared: {}\".format(r2))\n",
    "print(\"Tuned ElasticNet MSE: {}\".format(mse))\n"
   ]
  },
  {
   "cell_type": "markdown",
   "metadata": {},
   "source": [
    "### Decision Tree Model"
   ]
  },
  {
   "cell_type": "code",
   "execution_count": 26,
   "metadata": {},
   "outputs": [
    {
     "name": "stdout",
     "output_type": "stream",
     "text": [
      "[[247548   1807]\n",
      " [  1758   5343]]\n",
      "             precision    recall  f1-score   support\n",
      "\n",
      "          0       0.99      0.99      0.99    249355\n",
      "          1       0.75      0.75      0.75      7101\n",
      "\n",
      "avg / total       0.99      0.99      0.99    256456\n",
      "\n",
      "run time 1 seconds \n"
     ]
    }
   ],
   "source": [
    "start_time = time.time()\n",
    "\n",
    "\n",
    "# Try the DecisionTree \n",
    "\n",
    "TreeReg = DecisionTreeRegressor()\n",
    "TreeReg.fit(X_train, y_train)\n",
    "\n",
    "# Predict the results on test data  \n",
    "y_pred = TreeReg.predict(X_test)\n",
    "mse = mean_squared_error(y_test, y_pred)\n",
    "\n",
    "\n",
    "cm = confusion_matrix(y_test, y_pred)\n",
    "print(cm)\n",
    "\n",
    "\n",
    "print(classification_report(y_test, y_pred))\n",
    "\n",
    "\n",
    "print(\"run time %s seconds \" % (int(time.time() - start_time)))\n"
   ]
  },
  {
   "cell_type": "code",
   "execution_count": 15,
   "metadata": {},
   "outputs": [
    {
     "name": "stdout",
     "output_type": "stream",
     "text": [
      "Scores :  [-0.01376451 -0.01350456 -0.01463554 -0.01347874 -0.01338775]\n"
     ]
    }
   ],
   "source": [
    "from sklearn.model_selection import cross_val_score\n",
    "result=cross_val_score(TreeReg,X_train, y_train,scoring=\"neg_mean_squared_error\",cv=5)\n",
    "rmse_result=np.sqrt(-result)\n",
    "print(\"Scores : \",result)"
   ]
  },
  {
   "cell_type": "markdown",
   "metadata": {},
   "source": [
    "### Random Forest Model"
   ]
  },
  {
   "cell_type": "code",
   "execution_count": 28,
   "metadata": {},
   "outputs": [
    {
     "name": "stdout",
     "output_type": "stream",
     "text": [
      "0.0873242154702\n",
      "run time 8 seconds \n"
     ]
    },
    {
     "data": {
      "text/html": [
       "<div>\n",
       "<style>\n",
       "    .dataframe thead tr:only-child th {\n",
       "        text-align: right;\n",
       "    }\n",
       "\n",
       "    .dataframe thead th {\n",
       "        text-align: left;\n",
       "    }\n",
       "\n",
       "    .dataframe tbody tr th {\n",
       "        vertical-align: top;\n",
       "    }\n",
       "</style>\n",
       "<table border=\"1\" class=\"dataframe\">\n",
       "  <thead>\n",
       "    <tr style=\"text-align: right;\">\n",
       "      <th>col_0</th>\n",
       "      <th>0.0</th>\n",
       "      <th>0.1</th>\n",
       "      <th>0.2</th>\n",
       "      <th>0.3</th>\n",
       "      <th>0.4</th>\n",
       "      <th>0.5</th>\n",
       "      <th>0.6</th>\n",
       "      <th>0.7</th>\n",
       "      <th>0.8</th>\n",
       "      <th>0.9</th>\n",
       "      <th>1.0</th>\n",
       "    </tr>\n",
       "    <tr>\n",
       "      <th>certified</th>\n",
       "      <th></th>\n",
       "      <th></th>\n",
       "      <th></th>\n",
       "      <th></th>\n",
       "      <th></th>\n",
       "      <th></th>\n",
       "      <th></th>\n",
       "      <th></th>\n",
       "      <th></th>\n",
       "      <th></th>\n",
       "      <th></th>\n",
       "    </tr>\n",
       "  </thead>\n",
       "  <tbody>\n",
       "    <tr>\n",
       "      <th>0</th>\n",
       "      <td>244294</td>\n",
       "      <td>1558</td>\n",
       "      <td>885</td>\n",
       "      <td>613</td>\n",
       "      <td>436</td>\n",
       "      <td>384</td>\n",
       "      <td>308</td>\n",
       "      <td>273</td>\n",
       "      <td>225</td>\n",
       "      <td>201</td>\n",
       "      <td>178</td>\n",
       "    </tr>\n",
       "    <tr>\n",
       "      <th>1</th>\n",
       "      <td>164</td>\n",
       "      <td>170</td>\n",
       "      <td>210</td>\n",
       "      <td>246</td>\n",
       "      <td>317</td>\n",
       "      <td>388</td>\n",
       "      <td>497</td>\n",
       "      <td>657</td>\n",
       "      <td>873</td>\n",
       "      <td>1291</td>\n",
       "      <td>2288</td>\n",
       "    </tr>\n",
       "  </tbody>\n",
       "</table>\n",
       "</div>"
      ],
      "text/plain": [
       "col_0         0.0   0.1  0.2  0.3  0.4  0.5  0.6  0.7  0.8   0.9   1.0\n",
       "certified                                                             \n",
       "0          244294  1558  885  613  436  384  308  273  225   201   178\n",
       "1             164   170  210  246  317  388  497  657  873  1291  2288"
      ]
     },
     "execution_count": 28,
     "metadata": {},
     "output_type": "execute_result"
    }
   ],
   "source": [
    "from sklearn.ensemble import RandomForestRegressor\n",
    "\n",
    "start_time = time.time()\n",
    "\n",
    "\n",
    "ForestReg = RandomForestRegressor()\n",
    "ForestReg.fit(X_train,y_train)\n",
    "\n",
    "\n",
    "y_pred = ForestReg.predict(X_test)\n",
    "\n",
    "#print(classification_report(y_test, y_pred))\n",
    "\n",
    "\n",
    "fmse = mean_squared_error(y_test, y_pred)\n",
    "f_rmse = np.sqrt(fmse)\n",
    "print(f_rmse)\n",
    "\n",
    "\n",
    "print(\"run time %s seconds \" % (int(time.time() - start_time)))\n",
    "pd.crosstab(y_test,y_pred)\n"
   ]
  },
  {
   "cell_type": "markdown",
   "metadata": {},
   "source": [
    "### whats the right metric to use - \n",
    "MSE ?\n",
    "Confusion Matrix\n",
    "Precision , Recall \n",
    "AUC "
   ]
  },
  {
   "cell_type": "markdown",
   "metadata": {},
   "source": [
    "# Normalize the values before applying the model "
   ]
  },
  {
   "cell_type": "code",
   "execution_count": 39,
   "metadata": {
    "collapsed": true
   },
   "outputs": [],
   "source": [
    "from sklearn.preprocessing import StandardScaler\n",
    "from sklearn.preprocessing import MinMaxScaler\n",
    "scaler = StandardScaler().fit(X_train)\n",
    "minmax = MinMaxScaler().fit(X_train)\n",
    "\n",
    "X_train_std = scaler.transform(X_train)\n",
    "X_test_std = scaler.transform(X_test)\n",
    "\n",
    "X_train_mm = minmax.transform(X_train)\n",
    "X_test_mm = minmax.transform(X_test)\n",
    "\n"
   ]
  },
  {
   "cell_type": "markdown",
   "metadata": {},
   "source": [
    "### Use standardized values in the Logistic Regression model"
   ]
  },
  {
   "cell_type": "code",
   "execution_count": 33,
   "metadata": {},
   "outputs": [
    {
     "name": "stdout",
     "output_type": "stream",
     "text": [
      "[[247970   1385]\n",
      " [  2044   5057]]\n",
      "             precision    recall  f1-score   support\n",
      "\n",
      "          0       0.99      0.99      0.99    249355\n",
      "          1       0.79      0.71      0.75      7101\n",
      "\n",
      "avg / total       0.99      0.99      0.99    256456\n",
      "\n"
     ]
    }
   ],
   "source": [
    "LogReg = LogisticRegression()\n",
    "LogReg.fit(X_train_std, y_train)\n",
    "\n",
    "    \n",
    "# Predict the resukts on test data  \n",
    "y_pred = LogReg.predict(X_test_std)\n",
    "cm = confusion_matrix(y_test, y_pred)\n",
    "\n",
    "# Print the metrics \n",
    "print(cm)\n",
    "print(classification_report(y_test, y_pred))\n",
    "\n",
    "\n"
   ]
  },
  {
   "cell_type": "markdown",
   "metadata": {},
   "source": [
    "### Use minmax scaled values in the Logistic Regression model"
   ]
  },
  {
   "cell_type": "code",
   "execution_count": 40,
   "metadata": {},
   "outputs": [
    {
     "name": "stdout",
     "output_type": "stream",
     "text": [
      "[[247933   1422]\n",
      " [  2077   5024]]\n",
      "             precision    recall  f1-score   support\n",
      "\n",
      "          0       0.99      0.99      0.99    249355\n",
      "          1       0.78      0.71      0.74      7101\n",
      "\n",
      "avg / total       0.99      0.99      0.99    256456\n",
      "\n"
     ]
    }
   ],
   "source": [
    "LogReg = LogisticRegression()\n",
    "LogReg.fit(X_train_mm, y_train)\n",
    "\n",
    "    \n",
    "# Predict the resukts on test data  \n",
    "y_pred = LogReg.predict(X_test_mm)\n",
    "cm = confusion_matrix(y_test, y_pred)\n",
    "\n",
    "# Print the metrics \n",
    "print(cm)\n",
    "print(classification_report(y_test, y_pred))\n"
   ]
  },
  {
   "cell_type": "markdown",
   "metadata": {},
   "source": [
    "### Use the standardized values in DecisionTree "
   ]
  },
  {
   "cell_type": "code",
   "execution_count": 34,
   "metadata": {},
   "outputs": [
    {
     "name": "stdout",
     "output_type": "stream",
     "text": [
      "[[247543   1812]\n",
      " [  1746   5355]]\n",
      "             precision    recall  f1-score   support\n",
      "\n",
      "          0       0.99      0.99      0.99    249355\n",
      "          1       0.75      0.75      0.75      7101\n",
      "\n",
      "avg / total       0.99      0.99      0.99    256456\n",
      "\n",
      "run time 1 seconds \n"
     ]
    }
   ],
   "source": [
    "start_time = time.time()\n",
    "\n",
    "\n",
    "# Try the DecisionTree \n",
    "\n",
    "TreeReg = DecisionTreeRegressor()\n",
    "TreeReg.fit(X_train_std, y_train)\n",
    "\n",
    "# Predict the results on test data  \n",
    "y_pred = TreeReg.predict(X_test_std)\n",
    "mse = mean_squared_error(y_test, y_pred)\n",
    "\n",
    "\n",
    "cm = confusion_matrix(y_test, y_pred)\n",
    "print(cm)\n",
    "\n",
    "\n",
    "print(classification_report(y_test, y_pred))\n",
    "\n",
    "\n",
    "print(\"run time %s seconds \" % (int(time.time() - start_time)))"
   ]
  },
  {
   "cell_type": "markdown",
   "metadata": {},
   "source": [
    "### Use the standardized values in RandomForest"
   ]
  },
  {
   "cell_type": "code",
   "execution_count": 36,
   "metadata": {},
   "outputs": [
    {
     "name": "stdout",
     "output_type": "stream",
     "text": [
      "0.0874866020786\n",
      "run time 7 seconds \n"
     ]
    },
    {
     "data": {
      "text/html": [
       "<div>\n",
       "<style>\n",
       "    .dataframe thead tr:only-child th {\n",
       "        text-align: right;\n",
       "    }\n",
       "\n",
       "    .dataframe thead th {\n",
       "        text-align: left;\n",
       "    }\n",
       "\n",
       "    .dataframe tbody tr th {\n",
       "        vertical-align: top;\n",
       "    }\n",
       "</style>\n",
       "<table border=\"1\" class=\"dataframe\">\n",
       "  <thead>\n",
       "    <tr style=\"text-align: right;\">\n",
       "      <th>col_0</th>\n",
       "      <th>0.0</th>\n",
       "      <th>0.1</th>\n",
       "      <th>0.2</th>\n",
       "      <th>0.3</th>\n",
       "      <th>0.4</th>\n",
       "      <th>0.5</th>\n",
       "      <th>0.6</th>\n",
       "      <th>0.7</th>\n",
       "      <th>0.8</th>\n",
       "      <th>0.9</th>\n",
       "      <th>1.0</th>\n",
       "    </tr>\n",
       "    <tr>\n",
       "      <th>certified</th>\n",
       "      <th></th>\n",
       "      <th></th>\n",
       "      <th></th>\n",
       "      <th></th>\n",
       "      <th></th>\n",
       "      <th></th>\n",
       "      <th></th>\n",
       "      <th></th>\n",
       "      <th></th>\n",
       "      <th></th>\n",
       "      <th></th>\n",
       "    </tr>\n",
       "  </thead>\n",
       "  <tbody>\n",
       "    <tr>\n",
       "      <th>0</th>\n",
       "      <td>244274</td>\n",
       "      <td>1541</td>\n",
       "      <td>863</td>\n",
       "      <td>604</td>\n",
       "      <td>480</td>\n",
       "      <td>404</td>\n",
       "      <td>322</td>\n",
       "      <td>263</td>\n",
       "      <td>237</td>\n",
       "      <td>215</td>\n",
       "      <td>152</td>\n",
       "    </tr>\n",
       "    <tr>\n",
       "      <th>1</th>\n",
       "      <td>164</td>\n",
       "      <td>166</td>\n",
       "      <td>195</td>\n",
       "      <td>222</td>\n",
       "      <td>357</td>\n",
       "      <td>414</td>\n",
       "      <td>508</td>\n",
       "      <td>708</td>\n",
       "      <td>909</td>\n",
       "      <td>1276</td>\n",
       "      <td>2182</td>\n",
       "    </tr>\n",
       "  </tbody>\n",
       "</table>\n",
       "</div>"
      ],
      "text/plain": [
       "col_0         0.0   0.1  0.2  0.3  0.4  0.5  0.6  0.7  0.8   0.9   1.0\n",
       "certified                                                             \n",
       "0          244274  1541  863  604  480  404  322  263  237   215   152\n",
       "1             164   166  195  222  357  414  508  708  909  1276  2182"
      ]
     },
     "execution_count": 36,
     "metadata": {},
     "output_type": "execute_result"
    }
   ],
   "source": [
    "start_time = time.time()\n",
    "\n",
    "\n",
    "ForestReg = RandomForestRegressor()\n",
    "ForestReg.fit(X_train_std,y_train)\n",
    "\n",
    "\n",
    "y_pred = ForestReg.predict(X_test_std)\n",
    "\n",
    "#print(classification_report(y_test, y_pred))\n",
    "\n",
    "\n",
    "fmse = mean_squared_error(y_test, y_pred)\n",
    "f_rmse = np.sqrt(fmse)\n",
    "print(f_rmse)\n",
    "\n",
    "\n",
    "print(\"run time %s seconds \" % (int(time.time() - start_time)))\n",
    "pd.crosstab(y_test,y_pred)"
   ]
  },
  {
   "cell_type": "markdown",
   "metadata": {},
   "source": [
    "### Downsampling the dominant class to balance the dataset"
   ]
  },
  {
   "cell_type": "code",
   "execution_count": 37,
   "metadata": {},
   "outputs": [
    {
     "name": "stdout",
     "output_type": "stream",
     "text": [
      "641138\n",
      "641138\n",
      "442338\n"
     ]
    }
   ],
   "source": [
    "# Balancing the dataset with downsampling of dominant class\n",
    "\n",
    "#subdata = modeldata.copy()\n",
    "\n",
    "rdm = np.random.choice(len(modeldata), replace=False, size=200000)\n",
    "cset = []\n",
    "for i in rdm : \n",
    "\n",
    "    if (modeldata.iloc[i]['certified'] == 1) :   # \n",
    "        cset.append(i)\n",
    "\n",
    "rdm = np.delete(rdm,cset)\n",
    "subdata = modeldata.drop(rdm)\n",
    "print(len(modeldata))\n",
    "print(len(subdata))"
   ]
  },
  {
   "cell_type": "markdown",
   "metadata": {},
   "source": [
    "### Logistic Regression Model on the downsampled dataset"
   ]
  },
  {
   "cell_type": "code",
   "execution_count": 38,
   "metadata": {},
   "outputs": [
    {
     "name": "stdout",
     "output_type": "stream",
     "text": [
      "[[128272    755]\n",
      " [  1072   2603]]\n",
      "             precision    recall  f1-score   support\n",
      "\n",
      "          0       0.99      0.99      0.99    129027\n",
      "          1       0.78      0.71      0.74      3675\n",
      "\n",
      "avg / total       0.99      0.99      0.99    132702\n",
      "\n"
     ]
    }
   ],
   "source": [
    "XS = subdata.drop(['grade','certified'],axis = 1)\n",
    "YS = subdata['certified']\n",
    "\n",
    "# Split the dataset into test and training set with 30/70 split\n",
    "XS_train, XS_test, ys_train, ys_test = train_test_split(XS, YS, test_size = .3, random_state=42)\n",
    "\n",
    "LogReg = LogisticRegression()\n",
    "LogReg.fit(XS_train, ys_train)\n",
    "\n",
    "    \n",
    "# Predict the resukts on test data  \n",
    "ys_pred = LogReg.predict(XS_test)\n",
    "cm = confusion_matrix(ys_test, ys_pred)\n",
    "\n",
    "# Print the metrics \n",
    "print(cm)\n",
    "print(classification_report(ys_test, ys_pred))\n"
   ]
  },
  {
   "cell_type": "code",
   "execution_count": null,
   "metadata": {
    "collapsed": true
   },
   "outputs": [],
   "source": []
  },
  {
   "cell_type": "code",
   "execution_count": null,
   "metadata": {
    "collapsed": true
   },
   "outputs": [],
   "source": [
    "# Alternatives to TRY OUT \n",
    "\n",
    "#Feature scaling - to standardscaling or minmaxscaling on attribs\n",
    "\n",
    "#oversample the minority / undersample the majority class\n"
   ]
  }
 ],
 "metadata": {
  "anaconda-cloud": {},
  "celltoolbar": "Edit Metadata",
  "kernelspec": {
   "display_name": "Python [Root]",
   "language": "python",
   "name": "Python [Root]"
  },
  "language_info": {
   "codemirror_mode": {
    "name": "ipython",
    "version": 3
   },
   "file_extension": ".py",
   "mimetype": "text/x-python",
   "name": "python",
   "nbconvert_exporter": "python",
   "pygments_lexer": "ipython3",
   "version": "3.5.2"
  }
 },
 "nbformat": 4,
 "nbformat_minor": 1
}
