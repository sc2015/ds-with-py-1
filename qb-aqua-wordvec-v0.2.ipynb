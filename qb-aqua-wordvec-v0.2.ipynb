{
 "cells": [
  {
   "cell_type": "code",
   "execution_count": null,
   "metadata": {
    "collapsed": true
   },
   "outputs": [],
   "source": []
  },
  {
   "cell_type": "markdown",
   "metadata": {},
   "source": [
    "### Read the DeepMind AQUA Data Set (.json file)"
   ]
  },
  {
   "cell_type": "code",
   "execution_count": 1,
   "metadata": {
    "collapsed": true
   },
   "outputs": [],
   "source": [
    "import pandas as pd\n",
    "import numpy as np\n",
    "import json \n",
    "\n",
    "import nltk\n",
    "import string"
   ]
  },
  {
   "cell_type": "code",
   "execution_count": 2,
   "metadata": {},
   "outputs": [
    {
     "data": {
      "text/plain": [
       "Index(['correct', 'options', 'question', 'rationale'], dtype='object')"
      ]
     },
     "execution_count": 2,
     "metadata": {},
     "output_type": "execute_result"
    }
   ],
   "source": [
    "qb =  pd.read_json('AQuA-master/dev.json',lines=True)\n",
    "qb.columns"
   ]
  },
  {
   "cell_type": "code",
   "execution_count": 3,
   "metadata": {},
   "outputs": [
    {
     "data": {
      "text/html": [
       "<div>\n",
       "<style>\n",
       "    .dataframe thead tr:only-child th {\n",
       "        text-align: right;\n",
       "    }\n",
       "\n",
       "    .dataframe thead th {\n",
       "        text-align: left;\n",
       "    }\n",
       "\n",
       "    .dataframe tbody tr th {\n",
       "        vertical-align: top;\n",
       "    }\n",
       "</style>\n",
       "<table border=\"1\" class=\"dataframe\">\n",
       "  <thead>\n",
       "    <tr style=\"text-align: right;\">\n",
       "      <th></th>\n",
       "      <th>correct</th>\n",
       "      <th>options</th>\n",
       "      <th>question</th>\n",
       "      <th>rationale</th>\n",
       "    </tr>\n",
       "  </thead>\n",
       "  <tbody>\n",
       "    <tr>\n",
       "      <th>0</th>\n",
       "      <td>A</td>\n",
       "      <td>[A)32400, B)6000, C)600, D)60000, E)10]</td>\n",
       "      <td>Three birds are flying at a fast rate of 900 k...</td>\n",
       "      <td>To calculate the equivalent of miles in a kilo...</td>\n",
       "    </tr>\n",
       "    <tr>\n",
       "      <th>1</th>\n",
       "      <td>D</td>\n",
       "      <td>[A)100 m, B)150 m, C)200 m, D)250 m, E)300 m]</td>\n",
       "      <td>A ship is leaving a port. It takes 240 seconds...</td>\n",
       "      <td>Let the length of the ship be x metres and its...</td>\n",
       "    </tr>\n",
       "    <tr>\n",
       "      <th>2</th>\n",
       "      <td>C</td>\n",
       "      <td>[A)6, B)18, C)24, D)36, E)48]</td>\n",
       "      <td>A rectangular piece of cloth 2 feet wide was c...</td>\n",
       "      <td>The question says, length of shorter piece is ...</td>\n",
       "    </tr>\n",
       "    <tr>\n",
       "      <th>3</th>\n",
       "      <td>B</td>\n",
       "      <td>[A)(1,1), B)(0,3), C)(2,0), D)(3,6), E)(6,3)]</td>\n",
       "      <td>In the xy-coordinate plane, which of the follo...</td>\n",
       "      <td>For a point to satisfy the given equation for ...</td>\n",
       "    </tr>\n",
       "    <tr>\n",
       "      <th>4</th>\n",
       "      <td>C</td>\n",
       "      <td>[A)7, B)9, C)13, D)27, E)45]</td>\n",
       "      <td>A travel company wants to charter a plane to t...</td>\n",
       "      <td>Additional passengers (i.e., an integer, let's...</td>\n",
       "    </tr>\n",
       "  </tbody>\n",
       "</table>\n",
       "</div>"
      ],
      "text/plain": [
       "  correct                                        options  \\\n",
       "0       A        [A)32400, B)6000, C)600, D)60000, E)10]   \n",
       "1       D  [A)100 m, B)150 m, C)200 m, D)250 m, E)300 m]   \n",
       "2       C                  [A)6, B)18, C)24, D)36, E)48]   \n",
       "3       B  [A)(1,1), B)(0,3), C)(2,0), D)(3,6), E)(6,3)]   \n",
       "4       C                   [A)7, B)9, C)13, D)27, E)45]   \n",
       "\n",
       "                                            question  \\\n",
       "0  Three birds are flying at a fast rate of 900 k...   \n",
       "1  A ship is leaving a port. It takes 240 seconds...   \n",
       "2  A rectangular piece of cloth 2 feet wide was c...   \n",
       "3  In the xy-coordinate plane, which of the follo...   \n",
       "4  A travel company wants to charter a plane to t...   \n",
       "\n",
       "                                           rationale  \n",
       "0  To calculate the equivalent of miles in a kilo...  \n",
       "1  Let the length of the ship be x metres and its...  \n",
       "2  The question says, length of shorter piece is ...  \n",
       "3  For a point to satisfy the given equation for ...  \n",
       "4  Additional passengers (i.e., an integer, let's...  "
      ]
     },
     "execution_count": 3,
     "metadata": {},
     "output_type": "execute_result"
    }
   ],
   "source": [
    "qb.head()"
   ]
  },
  {
   "cell_type": "markdown",
   "metadata": {},
   "source": [
    "### Functions to remove the named entities "
   ]
  },
  {
   "cell_type": "code",
   "execution_count": 4,
   "metadata": {
    "collapsed": true
   },
   "outputs": [],
   "source": [
    "def untokenize(tokens):\n",
    "    return(\"\".join([\" \"+i if not i.startswith(\"'\") and i not in string.punctuation else i for i in tokens]).strip())\n",
    "\n",
    "def extract_nonentities(tree):\n",
    "    tokens = [leaf[0] for leaf in tree if type(leaf) != nltk.Tree]\n",
    "    return(untokenize(tokens))\n",
    "\n",
    "def ne_removal(text_list):\n",
    "    token_list = [nltk.word_tokenize(text) for text in text_list]\n",
    "    tagged = nltk.pos_tag_sents(token_list)\n",
    "    chunked = nltk.ne_chunk_sents(tagged)\n",
    "    non_entities = []\n",
    "    for tree in chunked:\n",
    "        non_entities.append(extract_nonentities(tree))\n",
    "    return(non_entities)"
   ]
  },
  {
   "cell_type": "code",
   "execution_count": 5,
   "metadata": {
    "collapsed": true
   },
   "outputs": [],
   "source": [
    "# removal of named entities\n",
    "qb['qn'] = ne_removal(qb['question'])\n"
   ]
  },
  {
   "cell_type": "markdown",
   "metadata": {
    "collapsed": true
   },
   "source": [
    "### Text Pre Processing "
   ]
  },
  {
   "cell_type": "code",
   "execution_count": 6,
   "metadata": {},
   "outputs": [
    {
     "name": "stdout",
     "output_type": "stream",
     "text": [
      "0    three birds are flying at a fast rate of  kilo...\n",
      "1    a ship is leaving a port. it takes  seconds to...\n",
      "2    a rectangular piece of cloth  feet wide was cu...\n",
      "Name: qn, dtype: object\n"
     ]
    }
   ],
   "source": [
    "## remove numerals , replace % with percent and convert to lowercase\n",
    "import re\n",
    "qb.qn = qb.qn.apply(lambda x: x.lower())\n",
    "qb['qn'] = qb['qn'].apply(lambda x: re.sub(r'\\%', 'percent', x))\n",
    "qb['qn'] = qb['qn'].apply(lambda x: re.sub(r'\\d+', '', x))\n",
    "\n",
    "print(qb.qn.iloc[:3])"
   ]
  },
  {
   "cell_type": "markdown",
   "metadata": {},
   "source": [
    "### count vectorizer"
   ]
  },
  {
   "cell_type": "code",
   "execution_count": 7,
   "metadata": {},
   "outputs": [
    {
     "name": "stdout",
     "output_type": "stream",
     "text": [
      "Vocabulary size: 1550\n"
     ]
    }
   ],
   "source": [
    "from sklearn.feature_extraction.text import CountVectorizer\n",
    "\n",
    "vectorizer = CountVectorizer()\n",
    "bow = vectorizer.fit_transform(qb.qn) #train and get bag of words\n",
    "print(\"Vocabulary size: {}\".format(len(vectorizer.vocabulary_)))\n"
   ]
  },
  {
   "cell_type": "code",
   "execution_count": 8,
   "metadata": {
    "collapsed": true
   },
   "outputs": [],
   "source": [
    "questions=qb.question"
   ]
  },
  {
   "cell_type": "code",
   "execution_count": 9,
   "metadata": {
    "collapsed": true
   },
   "outputs": [],
   "source": [
    "import string\n",
    "import collections\n",
    " \n",
    "from nltk import word_tokenize\n",
    "from nltk.stem import PorterStemmer\n",
    "from nltk.corpus import stopwords\n",
    "from sklearn.cluster import KMeans\n",
    "from sklearn.feature_extraction.text import TfidfVectorizer\n",
    "from pprint import pprint"
   ]
  },
  {
   "cell_type": "markdown",
   "metadata": {},
   "source": [
    "### TFIDF vectorizer"
   ]
  },
  {
   "cell_type": "code",
   "execution_count": 10,
   "metadata": {},
   "outputs": [
    {
     "name": "stdout",
     "output_type": "stream",
     "text": [
      "(254, 1381)\n"
     ]
    }
   ],
   "source": [
    "# Instantiate the TFIDF vectorizer\n",
    "word_vectorizer = TfidfVectorizer(\n",
    "    stop_words='english',\n",
    "    sublinear_tf=True,\n",
    "    strip_accents='unicode',\n",
    "    analyzer='word',\n",
    "    max_features=30000)\n",
    "\n",
    "# fit and transform on it the training features\n",
    "tfidf_matrix = word_vectorizer.fit_transform(qb.qn)\n",
    "\n",
    "print(tfidf_matrix.shape)"
   ]
  },
  {
   "cell_type": "code",
   "execution_count": 11,
   "metadata": {},
   "outputs": [],
   "source": [
    "terms = word_vectorizer.get_feature_names()\n",
    "#print(terms)\n"
   ]
  },
  {
   "cell_type": "code",
   "execution_count": 12,
   "metadata": {},
   "outputs": [
    {
     "name": "stdout",
     "output_type": "stream",
     "text": [
      "[[ -2.22044605e-16   1.00000000e+00   1.00000000e+00 ...,   1.00000000e+00\n",
      "    1.00000000e+00   1.00000000e+00]\n",
      " [  1.00000000e+00  -2.22044605e-16   9.61554447e-01 ...,   1.00000000e+00\n",
      "    1.00000000e+00   1.00000000e+00]\n",
      " [  1.00000000e+00   9.61554447e-01  -2.22044605e-16 ...,   1.00000000e+00\n",
      "    1.00000000e+00   9.43485729e-01]\n",
      " ..., \n",
      " [  1.00000000e+00   1.00000000e+00   1.00000000e+00 ...,  -2.22044605e-16\n",
      "    1.00000000e+00   1.00000000e+00]\n",
      " [  1.00000000e+00   1.00000000e+00   1.00000000e+00 ...,   1.00000000e+00\n",
      "   -2.22044605e-16   1.00000000e+00]\n",
      " [  1.00000000e+00   1.00000000e+00   9.43485729e-01 ...,   1.00000000e+00\n",
      "    1.00000000e+00  -2.22044605e-16]]\n"
     ]
    }
   ],
   "source": [
    "from sklearn.metrics.pairwise import cosine_similarity\n",
    "dist = 1 - cosine_similarity(tfidf_matrix)\n",
    "print(dist)"
   ]
  },
  {
   "cell_type": "markdown",
   "metadata": {},
   "source": [
    "### KMeans Clustering "
   ]
  },
  {
   "cell_type": "code",
   "execution_count": 17,
   "metadata": {},
   "outputs": [
    {
     "data": {
      "image/png": "[encoded data removed]",
      "text/plain": [
       "<matplotlib.figure.Figure at 0x1a17111908>"
      ]
     },
     "metadata": {},
     "output_type": "display_data"
    },
    {
     "data": {
      "image/png": "[encoded data removed]",
      "text/plain": [
       "<matplotlib.figure.Figure at 0x1a1ee0ff60>"
      ]
     },
     "metadata": {},
     "output_type": "display_data"
    }
   ],
   "source": [
    "from sklearn.cluster import KMeans\n",
    "from sklearn import metrics\n",
    "import matplotlib.pyplot as plt\n",
    "\n",
    "\n",
    "%matplotlib inline\n",
    "\n",
    "sil_scores = []\n",
    "distortions = []\n",
    "for i in range (5,15):\n",
    "    km = KMeans(n_clusters=i,random_state=10,verbose=0)\n",
    "    Y = km.fit_predict(tfidf_matrix)\n",
    " \n",
    "    distortions.append(km.inertia_)\n",
    "    if (i>=2):\n",
    "        sc = (metrics.silhouette_score(tfidf_matrix, Y))\n",
    "        sil_scores.append(sc)\n",
    "\n",
    "plt.plot(range(5,15), distortions, marker='o')\n",
    "plt.xlabel('Number of clusters')\n",
    "plt.ylabel('Distortion')\n",
    "plt.title(\"Elbow Plot with Inertia Score for various cluster sizes\")\n",
    "plt.show()\n",
    "\n",
    "\n",
    "plt.plot(range(5,15), sil_scores, marker='o')\n",
    "plt.xlabel('Number of clusters')\n",
    "plt.ylabel('Silhouette Score')\n",
    "plt.title(\"Silhouette Score for various cluster sizes\")\n",
    "plt.show()"
   ]
  },
  {
   "cell_type": "code",
   "execution_count": 18,
   "metadata": {
    "collapsed": true
   },
   "outputs": [],
   "source": [
    "km = KMeans(n_clusters=7,random_state=42,verbose=0)\n",
    "clusters = km.fit_predict(tfidf_matrix)"
   ]
  },
  {
   "cell_type": "code",
   "execution_count": 19,
   "metadata": {},
   "outputs": [
    {
     "name": "stdout",
     "output_type": "stream",
     "text": [
      "254\n",
      "[5 1 6 1 2 6 4 1 1 0 6 0 0 5 2 1 2 0 0 4 4 2 4 2 4 5 1 1 1 4 4 0 5 1 0 1 1\n",
      " 4 6 3 4 1 1 4 1 4 4 0 1 1 5 2 2 2 0 4 2 1 5 1 6 5 3 1 3 1 5 1 4 3 1 2 6 6\n",
      " 1 0 6 1 1 0 3 2 1 2 6 0 3 2 3 0 6 6 1 3 6 0 2 1 3 1 1 4 3 1 2 4 0 1 3 0 3\n",
      " 5 1 5 1 2 0 6 5 4 5 1 5 1 1 0 1 4 4 1 2 1 6 1 1 1 5 6 0 1 2 1 0 1 1 6 0 0\n",
      " 1 1 4 5 1 3 5 1 0 2 1 5 5 3 0 1 1 3 5 0 5 2 1 0 0 1 4 3 1 1 0 1 4 2 0 2 1\n",
      " 0 6 4 5 1 1 5 6 1 0 1 4 1 6 1 4 6 3 0 5 1 0 4 2 1 3 3 5 2 5 4 1 4 4 6 2 1\n",
      " 1 0 2 4 6 1 3 3 0 1 5 1 6 6 3 4 6 1 0 0 1 2 4 0 1 1 0 1 4 6 3 2]\n"
     ]
    }
   ],
   "source": [
    "print(len(clusters))\n",
    "print(clusters)"
   ]
  },
  {
   "cell_type": "code",
   "execution_count": 20,
   "metadata": {
    "collapsed": true
   },
   "outputs": [],
   "source": [
    "qset = { 'question': qb.question, 'cluster': clusters }\n",
    "\n",
    "frame = pd.DataFrame(qset, columns = ['question','cluster'])"
   ]
  },
  {
   "cell_type": "code",
   "execution_count": 21,
   "metadata": {},
   "outputs": [
    {
     "data": {
      "text/html": [
       "<div>\n",
       "<style>\n",
       "    .dataframe thead tr:only-child th {\n",
       "        text-align: right;\n",
       "    }\n",
       "\n",
       "    .dataframe thead th {\n",
       "        text-align: left;\n",
       "    }\n",
       "\n",
       "    .dataframe tbody tr th {\n",
       "        vertical-align: top;\n",
       "    }\n",
       "</style>\n",
       "<table border=\"1\" class=\"dataframe\">\n",
       "  <thead>\n",
       "    <tr style=\"text-align: right;\">\n",
       "      <th></th>\n",
       "      <th>question</th>\n",
       "      <th>cluster</th>\n",
       "    </tr>\n",
       "  </thead>\n",
       "  <tbody>\n",
       "    <tr>\n",
       "      <th>0</th>\n",
       "      <td>Three birds are flying at a fast rate of 900 k...</td>\n",
       "      <td>5</td>\n",
       "    </tr>\n",
       "    <tr>\n",
       "      <th>1</th>\n",
       "      <td>A ship is leaving a port. It takes 240 seconds...</td>\n",
       "      <td>1</td>\n",
       "    </tr>\n",
       "    <tr>\n",
       "      <th>2</th>\n",
       "      <td>A rectangular piece of cloth 2 feet wide was c...</td>\n",
       "      <td>6</td>\n",
       "    </tr>\n",
       "    <tr>\n",
       "      <th>3</th>\n",
       "      <td>In the xy-coordinate plane, which of the follo...</td>\n",
       "      <td>1</td>\n",
       "    </tr>\n",
       "    <tr>\n",
       "      <th>4</th>\n",
       "      <td>A travel company wants to charter a plane to t...</td>\n",
       "      <td>2</td>\n",
       "    </tr>\n",
       "  </tbody>\n",
       "</table>\n",
       "</div>"
      ],
      "text/plain": [
       "                                            question  cluster\n",
       "0  Three birds are flying at a fast rate of 900 k...        5\n",
       "1  A ship is leaving a port. It takes 240 seconds...        1\n",
       "2  A rectangular piece of cloth 2 feet wide was c...        6\n",
       "3  In the xy-coordinate plane, which of the follo...        1\n",
       "4  A travel company wants to charter a plane to t...        2"
      ]
     },
     "execution_count": 21,
     "metadata": {},
     "output_type": "execute_result"
    }
   ],
   "source": [
    "frame.head()"
   ]
  },
  {
   "cell_type": "code",
   "execution_count": 22,
   "metadata": {},
   "outputs": [
    {
     "data": {
      "text/plain": [
       "1    79\n",
       "0    39\n",
       "4    33\n",
       "2    28\n",
       "6    26\n",
       "5    26\n",
       "3    23\n",
       "Name: cluster, dtype: int64"
      ]
     },
     "execution_count": 22,
     "metadata": {},
     "output_type": "execute_result"
    }
   ],
   "source": [
    "frame['cluster'].value_counts()"
   ]
  },
  {
   "cell_type": "markdown",
   "metadata": {},
   "source": [
    "### Lets look at the clusters in the question "
   ]
  },
  {
   "cell_type": "code",
   "execution_count": 23,
   "metadata": {},
   "outputs": [
    {
     "name": "stdout",
     "output_type": "stream",
     "text": [
      "9      Solution A has 5% salt concentration and remai...\n",
      "11     In how many arrangements can you arrange 3 gre...\n",
      "12     In a mixture, the ratio of spirit and water is...\n",
      "17     In a poll of 45,000 dentists, only 30 percent ...\n",
      "18     In recent Malta elections, in a particular con...\n",
      "31     A cube shaped pool is half full of water. If t...\n",
      "34     At an elite baseball camp, 60% of players can ...\n",
      "47     An agent gets a 5% commission on sales of clot...\n",
      "54     30% of all Huhulians own at least one TV. 24% ...\n",
      "75     In a mixture of milk and water, there is only ...\n",
      "79     The ratio of A’s and B’s salary is 9 : 4. If A...\n",
      "85     Vegetables contains 68% water and green vegeta...\n",
      "89     x contains 85% water and 15% oil; how many mor...\n",
      "95     In a shipment of 120 machine parts, 5 percent ...\n",
      "106    John and Mike had equal amount of money in sav...\n",
      "109    For a candidate to clear an examination, he/sh...\n",
      "116    A sink contains exactly 11 liters of water. If...\n",
      "125    Country Club has an indoor swimming club. Thir...\n",
      "138    John needs to mix a cleaning solution in the f...\n",
      "142    An engineering student has to secure 36% marks...\n",
      "146    Three quarts of a bleaching chemical, Minum, c...\n",
      "147    The total weight of a tin and the cookies it c...\n",
      "156    A test consists of two sections. The first sec...\n",
      "162    50% of all high school students hate roller co...\n",
      "167    At an amusement park, tom bought a number of r...\n",
      "171    A 5 liter mixture of water and sugar is 50% su...\n",
      "172    In a very big class, 40% of the students enrol...\n",
      "178    Preston's Health Foods makes a mixed nut blend...\n",
      "182    Last year Joe grew 2 inch and Sally grew 200 p...\n",
      "185    A single refined oil can contains 20% impuriti...\n",
      "194    At a delivery store, seven packages have an av...\n",
      "203    Of a certain high school graduating class, 25 ...\n",
      "206    Q is 30% of N. N is 170% of Y. What percentage...\n",
      "223    Equal quantities of three mixtures of milk and...\n",
      "230    John spent 72% of his budget on fruits ( inclu...\n",
      "240    A green lizard can travel from the green cave ...\n",
      "241    If an electricity bill is paid before due date...\n",
      "245    G and H are each equal to 20% of Z. If G, H, a...\n",
      "248    I have an amazing bath tub having both hot and...\n",
      "Name: question, dtype: object \n",
      "\n",
      "\n",
      "1      A ship is leaving a port. It takes 240 seconds...\n",
      "3      In the xy-coordinate plane, which of the follo...\n",
      "7      Let A, B and C denote the vertices of a triang...\n",
      "8      ABC company pays an average of $120 per vehicl...\n",
      "15     A certain state imposes a 4% tax on the nightl...\n",
      "26     The root(s) of 15/(x2 - 4) – 2/(x - 2) = 1 is ...\n",
      "27     A farming field can be ploughed by 6 tractors ...\n",
      "28     On sports day, if 24 children were made to sta...\n",
      "33     A sphere is surrounded by the smallest cylinde...\n",
      "35     One person has 2 children. At least one of the...\n",
      "36     During a particular year in city X, there were...\n",
      "41     In how many ways can 5 different candies be di...\n",
      "42     A is 30% more efficient than B. How much time ...\n",
      "44     A dog takes 4 leaps for every 5 leaps of a har...\n",
      "48     If the ratio of the ages of Maya and Chhaya is...\n",
      "49     Scott bought three bags of candy with 75 piece...\n",
      "57     The function P~ can be expressed as 2-P for al...\n",
      "59     3 men and 3 women need to be seated in 2 rows ...\n",
      "63     Bert and Ernie are among 12 tenants on Sesame ...\n",
      "65     The average age of the first seven people to a...\n",
      "67     Proportion of Yuvaraj’s age to Ganguly’s age i...\n",
      "70     The least possible value of |89 - 9a|, where a...\n",
      "74     Which of the following is the equation of a li...\n",
      "77     Mr. X died when his age was 1/59th of year of ...\n",
      "78     Santa distributes 2 gifts to every child in th...\n",
      "82     Peter piper picked a pack of pickled peppers a...\n",
      "92     There was a simple interest of Rs. 4016.25 on ...\n",
      "97     Box W and Box V each contain several blue stic...\n",
      "99     A college has 10 basketball players. A 5-membe...\n",
      "100    A canteen requires 62 kgs of wheat for 6 days....\n",
      "                             ...                        \n",
      "152    The spherical ball of lead 3 cm in diameter is...\n",
      "155    Rijon is the bass player in a wedding band whi...\n",
      "158    The population of a city increases at the rate...\n",
      "163             The binary representation of 0.6875 is ?\n",
      "164    A letter has to be printed 100 lines with 80 c...\n",
      "170    How many parallelograms will be formed if 7 pa...\n",
      "173    A fisherman's day is rated as good if he catch...\n",
      "176    A certain straight corridor has four doors, A,...\n",
      "177    You are buying pumpkins at a local farmer's ma...\n",
      "179    A builder has to pour a concrete slab 12 centi...\n",
      "184    A password to a certain database consists of d...\n",
      "189    A, B and C start at the same time in the same ...\n",
      "190    A house sold for $500,000 in 1990 and sold ten...\n",
      "193    A, B and C are three contestants in a 1000 m r...\n",
      "195    In 4 years, Raj's father will be double Raj's ...\n",
      "197    Esteban is in a line at a theater. If he is th...\n",
      "199    A Doctor must see 35 patients in a day. At 4 P...\n",
      "205    If a rectangular box has two faces with an are...\n",
      "209    The length of each side of an equilateral tria...\n",
      "216    If the ratio of age of mother and son 3:5, and...\n",
      "221    Kelly finished 30th in a marathon race. if he ...\n",
      "222    One side of a rectangular field is 4 m and its...\n",
      "227    The ratio of a numerator to denominator is 2:3...\n",
      "231    In a group of 18 children, there are twice as ...\n",
      "233    A farmer is trying to grow the largest pumpkin...\n",
      "239    Ram has 12 pennies. He lost 5 of his pennies, ...\n",
      "242    How many hand shakes will be there, if 8 peopl...\n",
      "246    When Mary paints a house, it takes her 4 hours...\n",
      "247    Consider a school which consists of boys, girl...\n",
      "249    A man had 43 sheep. he wanted to divide them e...\n",
      "Name: question, Length: 79, dtype: object \n",
      "\n",
      "\n",
      "4      A travel company wants to charter a plane to t...\n",
      "14     In a certain conservative mutual fund, 60 perc...\n",
      "16     Alex has enough money to buy 30 bricks. If the...\n",
      "21     Elliot has $1500 to buy a new laptop. His fath...\n",
      "23     Lucy has enough money to go to Canada every 6 ...\n",
      "51     6 pigs cost the same as 9 sheep. 27 sheep cost...\n",
      "52     A certain prosthodontist specializes in implan...\n",
      "53     David bought 13 BMW cars for a total price of ...\n",
      "56     A small business invests $9,800 in equipment t...\n",
      "71     In tennis, service alternates for each game be...\n",
      "81     Cost of 3 cricket balls = cost of 2 pairs of l...\n",
      "83     John invested $100 in each of the funds A and ...\n",
      "87     During a 10-week period, a doughnut store cond...\n",
      "96     John buys koolaid for 12$ at a local store. If...\n",
      "104    If a quarter kilogram costs Rs.60 then how muc...\n",
      "115    In a fuel station the service costs $2 per car...\n",
      "130    A banana costs Rs.3 and an apple costs Rs.4. W...\n",
      "140    Bill owns a large collection of fishing lures ...\n",
      "157    A merchant has three different types of milk: ...\n",
      "169    If the volume of a tank is 4,120 cubic centime...\n",
      "181    The cost of Brand V paper is proportional to t...\n",
      "183    Akhil has twice as much money as Sohan and Soh...\n",
      "208    A scooter and a television cost ratio is 8:7. ...\n",
      "213    Consider a courier company A which can deliver...\n",
      "220    Fernando Alonso and Sebastian Vettel go for a ...\n",
      "224    My company's funding allows for 5 employees. T...\n",
      "243    A ticket to Disney land costs $24. Maria has b...\n",
      "253    In a end-of-season sale, the prices at a store...\n",
      "Name: question, dtype: object \n",
      "\n",
      "\n",
      "39     If (x # y) represents the remainder that resul...\n",
      "62     The H.C.F and L.C.M. of two numbers are 50 and...\n",
      "64     There are N numbers of gold biscuits in the ho...\n",
      "69     Tanya's grandfather was 8 times older to her 1...\n",
      "80     Of two numbers, 4 times the smaller one is les...\n",
      "86     M is a set of even numbers from 1 to 23 and od...\n",
      "88     The mean proportional between 45 and a certain...\n",
      "93     A fair coin is tossed 6 times. If heads appear...\n",
      "98     A circular gear with a diameter of 25 cm is mo...\n",
      "102    1 year ago, Promila was 4 times as old as her ...\n",
      "108    A salesman enters the quantity sold and the pr...\n",
      "110    The volume of a wall, 5 times as high as it is...\n",
      "153    A rope can make 70 rounds of the circumference...\n",
      "161    A certain business printer can print 100 chara...\n",
      "165    The sum of 3rd and 15th elements of an arithme...\n",
      "175    A family of 2 parents and 2 children is waitin...\n",
      "202    Gina and Tina's average grade is 23 points hig...\n",
      "210          The sum of odd numbers between 20 and 30 is\n",
      "211    In the reading room of a library, there are 10...\n",
      "228    At a casino, gamblers spin a number-wheel cont...\n",
      "229    One day in December 2015, three 2-digit prime ...\n",
      "236    An oculist charges $30.00 for an eye examinati...\n",
      "252    A password needs to contain 2 letters and 3 nu...\n",
      "Name: question, dtype: object \n",
      "\n",
      "\n",
      "6      A group of 5 friends were to contribute equall...\n",
      "19     Glenn gains 10% from selling her scarf at $44....\n",
      "20     A trader bought some books for Rs 8 each. The ...\n",
      "22     Bill's shop sells candy bars by the full case....\n",
      "24     A group of stock analysts had a contest. Each ...\n",
      "29     The salaries of Kiran, Prakash and Sanjay are ...\n",
      "30     A wholesaler allows a discount of 20 % on the ...\n",
      "37     A man earns RS. 20 on the first day and spends...\n",
      "40     An investor purchased shares of stock at a cer...\n",
      "43     The marked price of a clock is Rs.6400. It is ...\n",
      "45     A shrewd opportunist bought 50 equally priced ...\n",
      "46     If a cellphone is purchased for Rs.490 and sol...\n",
      "55     If a man reduces the selling price of a fan fr...\n",
      "68     A man says that he gained 10 percent as profit...\n",
      "101    Under a buy one get one free offer, with the s...\n",
      "105    A shop is offering discounts on shirts costing...\n",
      "119    Varsha bought a Laptop for $1060, which was th...\n",
      "127    A shop gives 10% discount on the purchase of a...\n",
      "128    When an item is sold for Rs. 18,700 the owner ...\n",
      "150    Eesha has a wheat business. She purchases whea...\n",
      "174    Some students arranged picnic. The budget was ...\n",
      "180    A man buys a watch for Rs. 1950 in cash and se...\n",
      "187    A man invests Rs. 128 and obtained Rs. 16. The...\n",
      "196    In 1989 the price of a new model S car was x d...\n",
      "200    Jay is selling his shoes and making a 15% gain...\n",
      "207    The prices of a scooter and a television set a...\n",
      "215    Davji Shop sells samosas in boxes of different...\n",
      "217                    Divide Rs.32000 in the ratio 3:5?\n",
      "218    What is the interest due after 40 days for Rs....\n",
      "225    In 1978, a kg of paper was sold at Rs25/-. If ...\n",
      "237    A salon spa loyalty program magazine charges a...\n",
      "244    A salesman makes a 10% commission on the selli...\n",
      "250    If a jewelry store wants to sell a necklace fo...\n",
      "Name: question, dtype: object \n",
      "\n",
      "\n",
      "0      Three birds are flying at a fast rate of 900 k...\n",
      "13     A car traveled 40 mph from Belnap to Lincoln a...\n",
      "25     Which is a longer period of time: 3 hours or 1...\n",
      "32     A car after covering 1/2 of a journey of 100 k...\n",
      "50     Two trains under a controlled experiment begin...\n",
      "58     A tailor had a number of shirt pieces to cut f...\n",
      "61     A train running between two stations A and B a...\n",
      "66     Marla starts running around a circular track a...\n",
      "111    A car travels at a speed of x kilometers per p...\n",
      "113    The ratio between the speeds of the A and B is...\n",
      "118    There are two friends A and B. A starts with h...\n",
      "120    Every day a cyclist meets a train at a particu...\n",
      "122    Two trains are running with speed 30 km/hr. an...\n",
      "136    In a village, there are four tribes located at...\n",
      "151    A train does a journey without stopping for 8 ...\n",
      "154    The steamer going upstream would cover the dis...\n",
      "159    In your study are displayed your 5 favourite p...\n",
      "160    A cheerleading squad practices 1 hour a day fr...\n",
      "166    A printer started its work at 8.15 a.m and end...\n",
      "168    An accurate clock shows 7 o'clock in the morni...\n",
      "188    Lindsay can paint 25% of a certain room in 20 ...\n",
      "191    The distance between Omaha and Lincoln is 60 m...\n",
      "204    A cycled from P to Q at 10 kmph and returned a...\n",
      "212    An engine of length 1000 m moving at 10 m/s. A...\n",
      "214    Four people need to cross a dark river at nigh...\n",
      "232    A car is moving at the speed of 60 km per one ...\n",
      "Name: question, dtype: object \n",
      "\n",
      "\n",
      "2      A rectangular piece of cloth 2 feet wide was c...\n",
      "5      Kirk sells cars. On two sales, Kirk has receiv...\n",
      "10     If a number of apples, say x, is divisible by ...\n",
      "38     Money is paid into an account in portions of $...\n",
      "60     If a number is chosen at random from the set {...\n",
      "72     Ashish is given Rs. 158 in one-rupee denominat...\n",
      "73     Last year Sahara, Tata, Singhania and Birla ea...\n",
      "76     The least perfect square number, exactly divis...\n",
      "84     If P represents a single digit in the four dig...\n",
      "90     A batsman has scored an average of 46 runs for...\n",
      "91     Mr. Bean chooses a number and he keeps on doub...\n",
      "94     A rectangle has twice the area of a square. Th...\n",
      "117    If 300 billion French francs is equivalent to ...\n",
      "132    Company X has 40 employees and company Y has 5...\n",
      "137    A 2 metre broad pathway is to be constructed a...\n",
      "145    Terry has some oranges. Out of that, 4% were t...\n",
      "186    In an election, 68% of the voters exercised th...\n",
      "192    When a number is divided by 6 and then multipl...\n",
      "198    Divide the number 49 into two parts, such that...\n",
      "201    If the area of a square region having sides of...\n",
      "219    A bakery has 4 varieties of pastries. Each var...\n",
      "226    Find the cost of carpeting a room 13 m long an...\n",
      "234    Company X receives 16 applications for a job, ...\n",
      "235    The measures of the interior angles taken in o...\n",
      "238    A picks a number from the bag where the bag co...\n",
      "251    At a company meeting, M men and W women meet i...\n",
      "Name: question, dtype: object \n",
      "\n",
      "\n"
     ]
    }
   ],
   "source": [
    "grouped = frame['question'].groupby(frame['cluster']) #groupby cluster for aggregation purposes\n",
    "for key, item in grouped:\n",
    "    print (grouped.get_group(key), \"\\n\\n\\n\\n\")"
   ]
  },
  {
   "cell_type": "markdown",
   "metadata": {},
   "source": [
    "### Dimension Reduction of TFIDF matrix with SVD"
   ]
  },
  {
   "cell_type": "code",
   "execution_count": 24,
   "metadata": {
    "collapsed": true
   },
   "outputs": [],
   "source": [
    "def svd_tfidf_matrix(matrix):\n",
    "    svd = TruncatedSVD(n_components=3)\n",
    "    return svd.fit_transform(matrix)"
   ]
  },
  {
   "cell_type": "code",
   "execution_count": 26,
   "metadata": {},
   "outputs": [
    {
     "name": "stdout",
     "output_type": "stream",
     "text": [
      "(254, 100)\n",
      "[1, 0, 4, 2, 1, 3, 5, 1, 3, 5, 4, 4, 4, 1, 5, 0, 2, 5, 5, 5, 5, 1, 5, 6, 3, 0, 5, 0, 1, 4, 5, 3, 0, 0, 5, 6, 4, 5, 4, 2, 3, 1, 0, 5, 1, 3, 5, 3, 6, 4, 1, 2, 3, 3, 5, 2, 3, 2, 4, 1, 4, 0, 4, 1, 3, 6, 0, 6, 3, 6, 2, 3, 4, 4, 3, 5, 4, 6, 1, 4, 6, 2, 3, 5, 4, 5, 6, 1, 4, 5, 4, 4, 6, 4, 4, 5, 2, 4, 0, 1, 0, 2, 6, 0, 2, 5, 5, 3, 3, 3, 3, 0, 6, 0, 2, 2, 1, 4, 0, 5, 0, 5, 0, 6, 0, 0, 0, 5, 5, 5, 2, 0, 0, 2, 3, 4, 1, 2, 4, 2, 3, 4, 3, 3, 5, 5, 5, 3, 1, 6, 2, 0, 3, 3, 0, 3, 5, 4, 5, 2, 0, 1, 5, 3, 2, 6, 0, 4, 0, 3, 2, 5, 5, 0, 2, 1, 1, 3, 5, 3, 5, 2, 5, 5, 0, 5, 4, 5, 0, 0, 6, 1, 4, 0, 3, 6, 5, 3, 4, 5, 5, 3, 0, 5, 0, 3, 5, 2, 2, 1, 6, 1, 0, 0, 0, 3, 6, 4, 5, 4, 0, 0, 1, 4, 0, 2, 2, 4, 4, 4, 5, 5, 0, 3, 0, 4, 2, 3, 4, 3, 0, 5, 0, 1, 3, 5, 0, 5, 0, 2, 5, 4, 1, 2]\n"
     ]
    }
   ],
   "source": [
    "from sklearn.decomposition import TruncatedSVD\n",
    "svd_m = TruncatedSVD(n_components=100,  algorithm='randomized', n_iter=10, random_state=42)\n",
    "svd = svd_m.fit_transform(tfidf_matrix)\n",
    "print(svd.shape)\n",
    "\n",
    "# Lets build the Clustering Model with this matrix\n",
    "from nltk.cluster import KMeansClusterer\n",
    "import nltk\n",
    "\n",
    "kclusterer = KMeansClusterer(7, distance=nltk.cluster.util.cosine_distance, repeats=25)\n",
    "assigned_clusters = kclusterer.cluster(svd, assign_clusters=True)\n",
    "print (assigned_clusters)\n",
    "\n",
    "\n",
    "   "
   ]
  },
  {
   "cell_type": "code",
   "execution_count": 27,
   "metadata": {
    "collapsed": true
   },
   "outputs": [],
   "source": [
    "qset2 = { 'question': qb.question, 'cluster': assigned_clusters }\n",
    "\n",
    "frame2 = pd.DataFrame(qset, columns = ['question','cluster'])"
   ]
  },
  {
   "cell_type": "code",
   "execution_count": 28,
   "metadata": {},
   "outputs": [
    {
     "data": {
      "text/plain": [
       "1    79\n",
       "0    39\n",
       "4    33\n",
       "2    28\n",
       "6    26\n",
       "5    26\n",
       "3    23\n",
       "Name: cluster, dtype: int64"
      ]
     },
     "execution_count": 28,
     "metadata": {},
     "output_type": "execute_result"
    }
   ],
   "source": [
    "frame2['cluster'].value_counts()"
   ]
  }
 ],
 "metadata": {
  "anaconda-cloud": {},
  "kernelspec": {
   "display_name": "Python [Root]",
   "language": "python",
   "name": "Python [Root]"
  },
  "language_info": {
   "codemirror_mode": {
    "name": "ipython",
    "version": 3
   },
   "file_extension": ".py",
   "mimetype": "text/x-python",
   "name": "python",
   "nbconvert_exporter": "python",
   "pygments_lexer": "ipython3",
   "version": "3.5.2"
  }
 },
 "nbformat": 4,
 "nbformat_minor": 1
}
