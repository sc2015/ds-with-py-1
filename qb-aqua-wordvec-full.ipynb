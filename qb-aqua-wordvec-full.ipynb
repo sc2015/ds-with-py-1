{
 "cells": [
  {
   "cell_type": "markdown",
   "metadata": {
    "collapsed": true
   },
   "source": [
    "### TOPIC Identification of Mathematical word problems\n",
    "Using TFIDF  - Complete 100K Dataset"
   ]
  },
  {
   "cell_type": "markdown",
   "metadata": {},
   "source": [
    "### Read the DeepMind AQUA Data Set (.json file)"
   ]
  },
  {
   "cell_type": "code",
   "execution_count": 1,
   "metadata": {
    "collapsed": true
   },
   "outputs": [],
   "source": [
    "import pandas as pd\n",
    "import numpy as np\n",
    "import json \n",
    "\n",
    "import nltk\n",
    "import string"
   ]
  },
  {
   "cell_type": "code",
   "execution_count": 2,
   "metadata": {},
   "outputs": [
    {
     "data": {
      "text/plain": [
       "Index(['correct', 'options', 'question', 'rationale'], dtype='object')"
      ]
     },
     "execution_count": 2,
     "metadata": {},
     "output_type": "execute_result"
    }
   ],
   "source": [
    "qb =  pd.read_json('AQuA-master/train.json',lines=True)\n",
    "qb.columns"
   ]
  },
  {
   "cell_type": "code",
   "execution_count": 3,
   "metadata": {},
   "outputs": [
    {
     "data": {
      "text/html": [
       "<div>\n",
       "<style>\n",
       "    .dataframe thead tr:only-child th {\n",
       "        text-align: right;\n",
       "    }\n",
       "\n",
       "    .dataframe thead th {\n",
       "        text-align: left;\n",
       "    }\n",
       "\n",
       "    .dataframe tbody tr th {\n",
       "        vertical-align: top;\n",
       "    }\n",
       "</style>\n",
       "<table border=\"1\" class=\"dataframe\">\n",
       "  <thead>\n",
       "    <tr style=\"text-align: right;\">\n",
       "      <th></th>\n",
       "      <th>correct</th>\n",
       "      <th>options</th>\n",
       "      <th>question</th>\n",
       "      <th>rationale</th>\n",
       "    </tr>\n",
       "  </thead>\n",
       "  <tbody>\n",
       "    <tr>\n",
       "      <th>0</th>\n",
       "      <td>E</td>\n",
       "      <td>[A)21, B)21.5, C)22, D)22.5, E)23]</td>\n",
       "      <td>Two friends plan to walk along a 43-km trail, ...</td>\n",
       "      <td>If Q complete x kilometers, then P completes 1...</td>\n",
       "    </tr>\n",
       "    <tr>\n",
       "      <th>1</th>\n",
       "      <td>C</td>\n",
       "      <td>[A)4 and 1, B)1 and 5, C)5 and 1, D)3 and 5, E...</td>\n",
       "      <td>In the coordinate plane, points (x, 1) and (5,...</td>\n",
       "      <td>Line k passes through the origin and has slope...</td>\n",
       "    </tr>\n",
       "    <tr>\n",
       "      <th>2</th>\n",
       "      <td>B</td>\n",
       "      <td>[A)II, B)I and II, C)I and III, D)II and III, ...</td>\n",
       "      <td>For all numbers p and q, the operation @ is de...</td>\n",
       "      <td>p@q = p^2 - pq=p(p-q).... so p@q will be zero ...</td>\n",
       "    </tr>\n",
       "    <tr>\n",
       "      <th>3</th>\n",
       "      <td>A</td>\n",
       "      <td>[A)$1600, B)$2000, C)$2150, D)$2500, E)$12000]</td>\n",
       "      <td>Carl is facing very difficult financial times ...</td>\n",
       "      <td>Usually, you are given the annual rate of inte...</td>\n",
       "    </tr>\n",
       "    <tr>\n",
       "      <th>4</th>\n",
       "      <td>E</td>\n",
       "      <td>[A)18 seconds, B)27 seconds, C)26 seconds, D)1...</td>\n",
       "      <td>The speed at which a man can row a boat in sti...</td>\n",
       "      <td>Speed of the boat downstream = 25 +11\\n= 36 km...</td>\n",
       "    </tr>\n",
       "  </tbody>\n",
       "</table>\n",
       "</div>"
      ],
      "text/plain": [
       "  correct                                            options  \\\n",
       "0       E                 [A)21, B)21.5, C)22, D)22.5, E)23]   \n",
       "1       C  [A)4 and 1, B)1 and 5, C)5 and 1, D)3 and 5, E...   \n",
       "2       B  [A)II, B)I and II, C)I and III, D)II and III, ...   \n",
       "3       A     [A)$1600, B)$2000, C)$2150, D)$2500, E)$12000]   \n",
       "4       E  [A)18 seconds, B)27 seconds, C)26 seconds, D)1...   \n",
       "\n",
       "                                            question  \\\n",
       "0  Two friends plan to walk along a 43-km trail, ...   \n",
       "1  In the coordinate plane, points (x, 1) and (5,...   \n",
       "2  For all numbers p and q, the operation @ is de...   \n",
       "3  Carl is facing very difficult financial times ...   \n",
       "4  The speed at which a man can row a boat in sti...   \n",
       "\n",
       "                                           rationale  \n",
       "0  If Q complete x kilometers, then P completes 1...  \n",
       "1  Line k passes through the origin and has slope...  \n",
       "2  p@q = p^2 - pq=p(p-q).... so p@q will be zero ...  \n",
       "3  Usually, you are given the annual rate of inte...  \n",
       "4  Speed of the boat downstream = 25 +11\\n= 36 km...  "
      ]
     },
     "execution_count": 3,
     "metadata": {},
     "output_type": "execute_result"
    }
   ],
   "source": [
    "qb.head()"
   ]
  },
  {
   "cell_type": "markdown",
   "metadata": {},
   "source": [
    "### Functions to remove the named entities "
   ]
  },
  {
   "cell_type": "code",
   "execution_count": 4,
   "metadata": {
    "collapsed": true
   },
   "outputs": [],
   "source": [
    "def untokenize(tokens):\n",
    "    return(\"\".join([\" \"+i if not i.startswith(\"'\") and i not in string.punctuation else i for i in tokens]).strip())\n",
    "\n",
    "def extract_nonentities(tree):\n",
    "    tokens = [leaf[0] for leaf in tree if type(leaf) != nltk.Tree]\n",
    "    return(untokenize(tokens))\n",
    "\n",
    "def ne_removal(text_list):\n",
    "    token_list = [nltk.word_tokenize(text) for text in text_list]\n",
    "    tagged = nltk.pos_tag_sents(token_list)\n",
    "    chunked = nltk.ne_chunk_sents(tagged)\n",
    "    non_entities = []\n",
    "    for tree in chunked:\n",
    "        non_entities.append(extract_nonentities(tree))\n",
    "    return(non_entities)"
   ]
  },
  {
   "cell_type": "code",
   "execution_count": 5,
   "metadata": {
    "collapsed": true
   },
   "outputs": [],
   "source": [
    "# removal of named entities\n",
    "#qb['qn'] = ne_removal(qb['question'])\n",
    "qb['qn'] = (qb['question'])\n",
    "\n"
   ]
  },
  {
   "cell_type": "markdown",
   "metadata": {
    "collapsed": true
   },
   "source": [
    "### Text Pre Processing "
   ]
  },
  {
   "cell_type": "code",
   "execution_count": 6,
   "metadata": {},
   "outputs": [
    {
     "name": "stdout",
     "output_type": "stream",
     "text": [
      "0    two friends plan to walk along a -km trail, st...\n",
      "1    in the coordinate plane, points (x, ) and (, y...\n",
      "2    for all numbers p and q, the operation @ is de...\n",
      "Name: qn, dtype: object\n"
     ]
    }
   ],
   "source": [
    "## remove numerals , replace % with percent and convert to lowercase\n",
    "import re\n",
    "qb.qn = qb.qn.apply(lambda x: x.lower())\n",
    "qb['qn'] = qb['qn'].apply(lambda x: re.sub(r'\\%', 'percent', x))\n",
    "qb['qn'] = qb['qn'].apply(lambda x: re.sub(r'\\d+', '', x))\n",
    "\n",
    "print(qb.qn.iloc[:3])"
   ]
  },
  {
   "cell_type": "code",
   "execution_count": 7,
   "metadata": {
    "collapsed": true
   },
   "outputs": [],
   "source": [
    "questions=qb.question"
   ]
  },
  {
   "cell_type": "markdown",
   "metadata": {},
   "source": [
    "### TFIDF vectorizer"
   ]
  },
  {
   "cell_type": "code",
   "execution_count": 8,
   "metadata": {
    "collapsed": true
   },
   "outputs": [],
   "source": [
    "import string\n",
    "import collections\n",
    " \n",
    "from nltk import word_tokenize\n",
    "from nltk.stem import PorterStemmer\n",
    "from nltk.corpus import stopwords\n",
    "from sklearn.cluster import KMeans\n",
    "from sklearn.feature_extraction.text import TfidfVectorizer\n",
    "from pprint import pprint"
   ]
  },
  {
   "cell_type": "code",
   "execution_count": 9,
   "metadata": {},
   "outputs": [
    {
     "name": "stdout",
     "output_type": "stream",
     "text": [
      "(97467, 14379)\n"
     ]
    }
   ],
   "source": [
    "# Instantiate the TFIDF vectorizer\n",
    "word_vectorizer = TfidfVectorizer(\n",
    "    stop_words='english',\n",
    "    sublinear_tf=True,\n",
    "    strip_accents='unicode',\n",
    "    analyzer='word',\n",
    "    max_features=30000)\n",
    "\n",
    "# fit and transform on it the training features\n",
    "tfidf_matrix = word_vectorizer.fit_transform(qb.qn)\n",
    "\n",
    "print(tfidf_matrix.shape)"
   ]
  },
  {
   "cell_type": "code",
   "execution_count": 10,
   "metadata": {
    "collapsed": true
   },
   "outputs": [],
   "source": [
    "terms = word_vectorizer.get_feature_names()\n",
    "#print(terms)\n"
   ]
  },
  {
   "cell_type": "markdown",
   "metadata": {},
   "source": [
    "### KMeans Clustering "
   ]
  },
  {
   "cell_type": "code",
   "execution_count": 11,
   "metadata": {
    "collapsed": true
   },
   "outputs": [],
   "source": [
    "from sklearn.cluster import KMeans\n",
    "from sklearn import metrics\n",
    "import matplotlib.pyplot as plt\n",
    "\n",
    "%matplotlib inline\n",
    "\n",
    "km = KMeans(n_clusters=10,random_state=10,verbose=0)\n",
    "clusters = km.fit_predict(tfidf_matrix)\n"
   ]
  },
  {
   "cell_type": "code",
   "execution_count": 12,
   "metadata": {},
   "outputs": [
    {
     "name": "stdout",
     "output_type": "stream",
     "text": [
      "97467\n"
     ]
    }
   ],
   "source": [
    "print(len(clusters))\n"
   ]
  },
  {
   "cell_type": "code",
   "execution_count": 13,
   "metadata": {
    "collapsed": true
   },
   "outputs": [],
   "source": [
    "qb['cluster']=clusters"
   ]
  },
  {
   "cell_type": "code",
   "execution_count": 15,
   "metadata": {
    "collapsed": true
   },
   "outputs": [],
   "source": [
    "a=qb['cluster'].unique()\n",
    "b=qb['cluster'].value_counts()"
   ]
  },
  {
   "cell_type": "code",
   "execution_count": 17,
   "metadata": {},
   "outputs": [
    {
     "data": {
      "text/plain": [
       "<matplotlib.axes._subplots.AxesSubplot at 0x1a2174add8>"
      ]
     },
     "execution_count": 17,
     "metadata": {},
     "output_type": "execute_result"
    },
    {
     "data": {
      "image/png": "[encoded data removed]",
      "text/plain": [
       "<matplotlib.figure.Figure at 0x1a217d0ba8>"
      ]
     },
     "metadata": {},
     "output_type": "display_data"
    }
   ],
   "source": [
    "import seaborn as sns\n",
    "fig, ax = plt.subplots()\n",
    "fig.set_size_inches(8, 6)\n",
    "sns.barplot(a,b,ax=ax)\n"
   ]
  },
  {
   "cell_type": "markdown",
   "metadata": {},
   "source": [
    "### Lets look at the clusters in the question "
   ]
  },
  {
   "cell_type": "code",
   "execution_count": 18,
   "metadata": {
    "collapsed": true
   },
   "outputs": [],
   "source": [
    "grouped = qb['question'].groupby(qb['cluster']) #groupby cluster for aggregation purposes\n"
   ]
  },
  {
   "cell_type": "markdown",
   "metadata": {},
   "source": [
    "### Dimension Reduction of TFIDF matrix with SVD"
   ]
  },
  {
   "cell_type": "code",
   "execution_count": 19,
   "metadata": {},
   "outputs": [
    {
     "name": "stdout",
     "output_type": "stream",
     "text": [
      "(97467, 2)\n"
     ]
    }
   ],
   "source": [
    "from sklearn.decomposition import TruncatedSVD\n",
    "svd_m = TruncatedSVD(n_components=2,  algorithm='randomized', n_iter=10, random_state=42)\n",
    "svd = svd_m.fit_transform(tfidf_matrix)\n",
    "print(svd.shape)\n",
    "   "
   ]
  },
  {
   "cell_type": "code",
   "execution_count": 20,
   "metadata": {},
   "outputs": [
    {
     "data": {
      "text/html": [
       "<div>\n",
       "<style>\n",
       "    .dataframe thead tr:only-child th {\n",
       "        text-align: right;\n",
       "    }\n",
       "\n",
       "    .dataframe thead th {\n",
       "        text-align: left;\n",
       "    }\n",
       "\n",
       "    .dataframe tbody tr th {\n",
       "        vertical-align: top;\n",
       "    }\n",
       "</style>\n",
       "<table border=\"1\" class=\"dataframe\">\n",
       "  <thead>\n",
       "    <tr style=\"text-align: right;\">\n",
       "      <th></th>\n",
       "      <th>correct</th>\n",
       "      <th>options</th>\n",
       "      <th>question</th>\n",
       "      <th>rationale</th>\n",
       "      <th>qn</th>\n",
       "      <th>cluster</th>\n",
       "      <th>x</th>\n",
       "      <th>y</th>\n",
       "    </tr>\n",
       "  </thead>\n",
       "  <tbody>\n",
       "    <tr>\n",
       "      <th>0</th>\n",
       "      <td>E</td>\n",
       "      <td>[A)21, B)21.5, C)22, D)22.5, E)23]</td>\n",
       "      <td>Two friends plan to walk along a 43-km trail, ...</td>\n",
       "      <td>If Q complete x kilometers, then P completes 1...</td>\n",
       "      <td>two friends plan to walk along a -km trail, st...</td>\n",
       "      <td>4</td>\n",
       "      <td>0.104853</td>\n",
       "      <td>0.067397</td>\n",
       "    </tr>\n",
       "    <tr>\n",
       "      <th>1</th>\n",
       "      <td>C</td>\n",
       "      <td>[A)4 and 1, B)1 and 5, C)5 and 1, D)3 and 5, E...</td>\n",
       "      <td>In the coordinate plane, points (x, 1) and (5,...</td>\n",
       "      <td>Line k passes through the origin and has slope...</td>\n",
       "      <td>in the coordinate plane, points (x, ) and (, y...</td>\n",
       "      <td>4</td>\n",
       "      <td>0.031389</td>\n",
       "      <td>0.015983</td>\n",
       "    </tr>\n",
       "    <tr>\n",
       "      <th>2</th>\n",
       "      <td>B</td>\n",
       "      <td>[A)II, B)I and II, C)I and III, D)II and III, ...</td>\n",
       "      <td>For all numbers p and q, the operation @ is de...</td>\n",
       "      <td>p@q = p^2 - pq=p(p-q).... so p@q will be zero ...</td>\n",
       "      <td>for all numbers p and q, the operation @ is de...</td>\n",
       "      <td>7</td>\n",
       "      <td>0.108188</td>\n",
       "      <td>-0.070672</td>\n",
       "    </tr>\n",
       "    <tr>\n",
       "      <th>3</th>\n",
       "      <td>A</td>\n",
       "      <td>[A)$1600, B)$2000, C)$2150, D)$2500, E)$12000]</td>\n",
       "      <td>Carl is facing very difficult financial times ...</td>\n",
       "      <td>Usually, you are given the annual rate of inte...</td>\n",
       "      <td>carl is facing very difficult financial times ...</td>\n",
       "      <td>4</td>\n",
       "      <td>0.088258</td>\n",
       "      <td>-0.029868</td>\n",
       "    </tr>\n",
       "    <tr>\n",
       "      <th>4</th>\n",
       "      <td>E</td>\n",
       "      <td>[A)18 seconds, B)27 seconds, C)26 seconds, D)1...</td>\n",
       "      <td>The speed at which a man can row a boat in sti...</td>\n",
       "      <td>Speed of the boat downstream = 25 +11\\n= 36 km...</td>\n",
       "      <td>the speed at which a man can row a boat in sti...</td>\n",
       "      <td>2</td>\n",
       "      <td>0.187603</td>\n",
       "      <td>0.296358</td>\n",
       "    </tr>\n",
       "    <tr>\n",
       "      <th>5</th>\n",
       "      <td>A</td>\n",
       "      <td>[A)8, B)9, C)10, D)11, E)12]</td>\n",
       "      <td>There are k-2 members in a certain band, inclu...</td>\n",
       "      <td>There are k-2 members in the band, and k-4 mem...</td>\n",
       "      <td>there are k- members in a certain band, includ...</td>\n",
       "      <td>4</td>\n",
       "      <td>0.042578</td>\n",
       "      <td>-0.026197</td>\n",
       "    </tr>\n",
       "    <tr>\n",
       "      <th>6</th>\n",
       "      <td>A</td>\n",
       "      <td>[A)− 3 ≤ x ≤ 4, B)− 4 ≤ x ≤ 3, C)− 3 ≤ x ≤ 3, ...</td>\n",
       "      <td>If (x^2 + 4x - 11)/5 ≤ x + 1, then x could be ...</td>\n",
       "      <td>IMO A is correct answer\\nsolving through eqaut...</td>\n",
       "      <td>if (x^ + x - )/ ≤ x + , then x could be repres...</td>\n",
       "      <td>4</td>\n",
       "      <td>0.060506</td>\n",
       "      <td>-0.044316</td>\n",
       "    </tr>\n",
       "    <tr>\n",
       "      <th>7</th>\n",
       "      <td>E</td>\n",
       "      <td>[A)10101, B)11000, C)10110, D)10111, E)10100]</td>\n",
       "      <td>Find the smallest number of five digits exactl...</td>\n",
       "      <td>Smallest number of five digits is 10000.\\nRequ...</td>\n",
       "      <td>find the smallest number of five digits exactl...</td>\n",
       "      <td>7</td>\n",
       "      <td>0.155538</td>\n",
       "      <td>-0.104855</td>\n",
       "    </tr>\n",
       "    <tr>\n",
       "      <th>8</th>\n",
       "      <td>B</td>\n",
       "      <td>[A)16, B)20.5, C)17.5, D)20, E)4.5]</td>\n",
       "      <td>The entrance fee for a fair is $5 for persons ...</td>\n",
       "      <td>Total entrance fee is (2*$5) + (1.20*5)= $16\\n...</td>\n",
       "      <td>the entrance fee for a fair is $ for persons u...</td>\n",
       "      <td>4</td>\n",
       "      <td>0.098741</td>\n",
       "      <td>-0.035025</td>\n",
       "    </tr>\n",
       "    <tr>\n",
       "      <th>9</th>\n",
       "      <td>C</td>\n",
       "      <td>[A)15, B)31, C)12, D)27, E)91]</td>\n",
       "      <td>If X and Y are digits and 8XY is a 3-digit num...</td>\n",
       "      <td>Key to this question is to remember the fact t...</td>\n",
       "      <td>if x and y are digits and xy is a -digit numbe...</td>\n",
       "      <td>7</td>\n",
       "      <td>0.198495</td>\n",
       "      <td>-0.139817</td>\n",
       "    </tr>\n",
       "  </tbody>\n",
       "</table>\n",
       "</div>"
      ],
      "text/plain": [
       "  correct                                            options  \\\n",
       "0       E                 [A)21, B)21.5, C)22, D)22.5, E)23]   \n",
       "1       C  [A)4 and 1, B)1 and 5, C)5 and 1, D)3 and 5, E...   \n",
       "2       B  [A)II, B)I and II, C)I and III, D)II and III, ...   \n",
       "3       A     [A)$1600, B)$2000, C)$2150, D)$2500, E)$12000]   \n",
       "4       E  [A)18 seconds, B)27 seconds, C)26 seconds, D)1...   \n",
       "5       A                       [A)8, B)9, C)10, D)11, E)12]   \n",
       "6       A  [A)− 3 ≤ x ≤ 4, B)− 4 ≤ x ≤ 3, C)− 3 ≤ x ≤ 3, ...   \n",
       "7       E      [A)10101, B)11000, C)10110, D)10111, E)10100]   \n",
       "8       B                [A)16, B)20.5, C)17.5, D)20, E)4.5]   \n",
       "9       C                     [A)15, B)31, C)12, D)27, E)91]   \n",
       "\n",
       "                                            question  \\\n",
       "0  Two friends plan to walk along a 43-km trail, ...   \n",
       "1  In the coordinate plane, points (x, 1) and (5,...   \n",
       "2  For all numbers p and q, the operation @ is de...   \n",
       "3  Carl is facing very difficult financial times ...   \n",
       "4  The speed at which a man can row a boat in sti...   \n",
       "5  There are k-2 members in a certain band, inclu...   \n",
       "6  If (x^2 + 4x - 11)/5 ≤ x + 1, then x could be ...   \n",
       "7  Find the smallest number of five digits exactl...   \n",
       "8  The entrance fee for a fair is $5 for persons ...   \n",
       "9  If X and Y are digits and 8XY is a 3-digit num...   \n",
       "\n",
       "                                           rationale  \\\n",
       "0  If Q complete x kilometers, then P completes 1...   \n",
       "1  Line k passes through the origin and has slope...   \n",
       "2  p@q = p^2 - pq=p(p-q).... so p@q will be zero ...   \n",
       "3  Usually, you are given the annual rate of inte...   \n",
       "4  Speed of the boat downstream = 25 +11\\n= 36 km...   \n",
       "5  There are k-2 members in the band, and k-4 mem...   \n",
       "6  IMO A is correct answer\\nsolving through eqaut...   \n",
       "7  Smallest number of five digits is 10000.\\nRequ...   \n",
       "8  Total entrance fee is (2*$5) + (1.20*5)= $16\\n...   \n",
       "9  Key to this question is to remember the fact t...   \n",
       "\n",
       "                                                  qn  cluster         x  \\\n",
       "0  two friends plan to walk along a -km trail, st...        4  0.104853   \n",
       "1  in the coordinate plane, points (x, ) and (, y...        4  0.031389   \n",
       "2  for all numbers p and q, the operation @ is de...        7  0.108188   \n",
       "3  carl is facing very difficult financial times ...        4  0.088258   \n",
       "4  the speed at which a man can row a boat in sti...        2  0.187603   \n",
       "5  there are k- members in a certain band, includ...        4  0.042578   \n",
       "6  if (x^ + x - )/ ≤ x + , then x could be repres...        4  0.060506   \n",
       "7  find the smallest number of five digits exactl...        7  0.155538   \n",
       "8  the entrance fee for a fair is $ for persons u...        4  0.098741   \n",
       "9  if x and y are digits and xy is a -digit numbe...        7  0.198495   \n",
       "\n",
       "          y  \n",
       "0  0.067397  \n",
       "1  0.015983  \n",
       "2 -0.070672  \n",
       "3 -0.029868  \n",
       "4  0.296358  \n",
       "5 -0.026197  \n",
       "6 -0.044316  \n",
       "7 -0.104855  \n",
       "8 -0.035025  \n",
       "9 -0.139817  "
      ]
     },
     "execution_count": 20,
     "metadata": {},
     "output_type": "execute_result"
    }
   ],
   "source": [
    "qb[\"x\"] = svd[:,0]\n",
    "qb[\"y\"] = svd[:,1]\n",
    "\n",
    "qb.head(10)"
   ]
  },
  {
   "cell_type": "code",
   "execution_count": 24,
   "metadata": {},
   "outputs": [
    {
     "data": {
      "image/png": "[encoded data removed]",
      "text/plain": [
       "<matplotlib.figure.Figure at 0x1a21bc18d0>"
      ]
     },
     "metadata": {},
     "output_type": "display_data"
    }
   ],
   "source": [
    "import seaborn as sns\n",
    "%matplotlib inline\n",
    "\n",
    "sns.lmplot( x=\"x\", y=\"y\", data=qb, fit_reg=False, hue='cluster', legend=False,size=6, aspect=1);\n"
   ]
  },
  {
   "cell_type": "code",
   "execution_count": 25,
   "metadata": {},
   "outputs": [
    {
     "name": "stdout",
     "output_type": "stream",
     "text": [
      "--------------------------------------------------------------------------------\n",
      "Questions in Cluster  0\n",
      "--------------------------------------------------------------------------------\n",
      "[ 0 ] If a/b=3/4 and 8a+5b=22,then find the value of a.\n",
      "[ 1 ] What is the least value of x, So that 2x5475 is divisible by 9\n",
      "[ 2 ] If x is the product of the integers from 1 to 150, inclusive, and 5^y is a factor of x, what is the greatest possible value of y ?\n",
      "[ 3 ] What is the greatest possible value of integer n if 100! is divisible by 15^n\n",
      "[ 4 ] If 2^(2w) = 8^(w−2), what is the value of w?\n",
      "[ 5 ] If 100!/x is not an integer, which of the following could be the value of x?\n",
      "[ 6 ] If a - b = 2 and a2 + b2 = 25, find the value of ab.\n",
      "[ 7 ] If x and y are integers such that (x+1)^2 is less than or equal to 16 and (y-1)^2 is less than 64, what is the sum of the maximum possible value of xy and the minimum possible value of xy?\n",
      "[ 8 ] If k^3 is divisible by 120, what is the least possible value of integer k?\n",
      "[ 9 ] x is the product of each integer from 1 to 25, inclusive and y=100^k, where k is an integer . What is the greatest value of k for which y is a factor of x?\n",
      "[ 10 ] For every X, the action [X] is defined: [X] is the greatest integer less than or equal to X. What is the value of [6.5] x [2/3] + [2] x 7.2 + [8.4] - 6.2?\n",
      "[ 11 ] The value of x is to be randomly selected from the integers from 1 to 11, inclusive, and then substituted into the equation y = x^2 - 4x + 3. What is the probability that the value of y will be negative?\n",
      "[ 12 ] If (5^5)(9^3)=3(15^x), what is the value of x?\n",
      "[ 13 ] Three positive integers a, b, and c are such that their average is 24 and a ≤ b ≤ c. If the median is (a + 11), what is the least possible value of c?\n",
      "[ 14 ] Find the value of 72517 x 9999 = m?\n",
      "[ 15 ] What is the diffference between the place value and face value of 4 in the numeral 2694?\n",
      "[ 16 ] 10x + 2y = -6\n",
      "8x + y = 3\n",
      "In the system of equations above, what is the value of x?\n",
      "[ 17 ] Find the product of the local value and absolute value of 4 in 564823\n",
      "[ 18 ] Find the value of y from (12)^3 x 6^3 ÷ 432 = y?\n",
      "[ 19 ] If √10 = 3.16, find the value of If √5/2\n",
      "[ 20 ] when W is divided by 14, the reminder is 0. if W is three lesser than it value and when divided by 5 its remainder is 0. what is the value of W ?\n",
      "--------------------------------------------------------------------------------\n",
      "Questions in Cluster  1\n",
      "--------------------------------------------------------------------------------\n",
      "[ 0 ] Rs. 825 becomes Rs. 956 in 3 years at a certain rate of simple interest.If the rate of interest is increased by 4% ,What amount will Rs. 825 become in 3 years ?\n",
      "[ 1 ] Rs. 5600 is divided into three parts A, B and C. How much A is more than C if their ratio is 1/7:1/7:1/14?\n",
      "[ 2 ] What will be the difference in simple and compound interest on 2000 after three years at the rate of 10 percent per annum?\n",
      "[ 3 ] The age of man is three times the sum of the ages of his two sons.Four years hence,his age will be double of the sum of the ages of his sons.The fatherâ€™s present age is :\n",
      "[ 4 ] If rupee one produces rupees nine over a period of 40 years, find the rate of simple interest?\n",
      "[ 5 ] A and B invests Rs.6000 and Rs.12000 in a business. After 4 months, A withdraws half of his capital and 2 months later, B withdraws one-third of his capital. In what ratio should they share the profits at the end of the year?\n",
      "[ 6 ] At present, the ratio between the ages of Amit and Dhiraj is 5 : 4. After 6 years, Amit’s age will be 26 years. What is the age of Dhiraj at present?\n",
      "[ 7 ] A and B invests Rs.3000 and Rs.4000 respectively in a business. If A doubles his capital after 6 months. In what ratio should A and B divide that year's profit?\n",
      "[ 8 ] P and Q started a business investing Rs. 85,000 and Rs. 30,000 respectively. In what ratio the profit earned after 2 years be divided between P and Q respectively?\n",
      "[ 9 ] A sum of money at simple interest amounts to Rs. 815 in 3 years and to Rs. 854 in 4 years. The sum is:\n",
      "[ 10 ] If a sum of money doubles itself in 20 years at simple interest, the ratepercent per annum is\n",
      "[ 11 ] The sum of the present ages of two persons A and B is 60. If the age of A is twice that of B, find the sum of their ages 5 years hence?\n",
      "[ 12 ] The total age of A and B is 10 years more than the total age of B and C. C is how many years younger than A.?\n",
      "[ 13 ] A and B invests Rs.3000 and Rs.7000 respectively in a business. If A doubles his capital after 6 months. In what ratio should A and B divide that year's profit?\n",
      "[ 14 ] A and B invests Rs.4000 and Rs.6000 in a business. After 4 months, A withdraws three-fourth of his capital and 4 months later, B withdraws half of his capital. In what ratio should they share the profits at the end of the year?\n",
      "[ 15 ] A man is 30 years older than his son. In two years, his age will be twice the age of his son. The present age of the son is\n",
      "[ 16 ] Y and Z start a business with Rs.3000 and Rs.6000 respectively. How should they share their profits at the end of one year?\n",
      "[ 17 ] P is two years older than Q who is twice as old as R. The total of the ages of P, Q and R is 25. How old is Q?\n",
      "[ 18 ] Present ages of Sameer and Anand are in the ratio of 5 : 4 respectively. Four years hence, the ratio of their ages will become 11 : 9 respectively. What is Anand's present age in years?\n",
      "[ 19 ] The banker's discount on a sum of money for 1 1/2 years is Rs. 558 and the true discount on the same sum for 2 years is Rs. 600. The rate percent is:\n",
      "[ 20 ] The simple interest at z% for z years will be $z on a sum of\n",
      "--------------------------------------------------------------------------------\n",
      "Questions in Cluster  2\n",
      "--------------------------------------------------------------------------------\n",
      "[ 0 ] The speed at which a man can row a boat in still water is 25 kmph. If he rows downstream, where the speed of current is 11 kmph, what time will he take to cover 80 metres?\n",
      "[ 1 ] A person is traveling at 20 km/hr and reached his destiny in 2.5 hr then find the distance?\n",
      "[ 2 ] The consumption of diesel per hour of a bus varies directly as square of its speed. When the bus is travelling at 60 kmph its consumption is 1 litre per hour. if each litre costs $60 and other expenses per hous is $ 60, then what would be the minimum expenditure required to cover a distance of 600 Km?\n",
      "[ 3 ] Two trains A and B starting from two points and travelling in opposite directions, reach their destinations 9 hours and 4 hours respectively after meeting each other. If the train A travels at 60kmph, find the rate at which the train B runs.\n",
      "[ 4 ] A car is running at a speed of 96kmph. What distance will it cover in 14sec?\n",
      "[ 5 ] There are 4 people who has to cross a stretch of 300 km. They normally run at a speed of 10 kmph. One\n",
      "of them has a bike that travels at 50 kmph. The bike first takes one person alone and crosses the\n",
      "stretch while the other two keep running. Then he comes back without wasting time and picks up\n",
      "another person from the way, drives him across the stretch, and does the same for the last person. How\n",
      "long does this whole process take?\n",
      "[ 6 ] A woman complete a journey in 20 hours. She travels first half of the journey at the rate of 21 km/hr and second half at the rate of 24 km/hr. Find the total journey in km.\n",
      "[ 7 ] A man covers a distance on scooter. Had he moved 3kmph faster he would have taken 40 min less. If he had moved 2kmph slower, he would have taken 40min more. The distance is.\n",
      "[ 8 ] A boat covers a certain distance downstream in 1 hour, while it comes back in 11â„2 hours. If the speed of the stream be 3 kmph, what is the speed of the boat in still water?\n",
      "[ 9 ] A jeep takes 4 hours to cover a distance of 620 Km. how much should the speed in Kmph be maintained to cover the same direction in 3/2th of the previous time?\n",
      "[ 10 ] A man can row with a speed of 20 kmph in still water. If the stream flows at 7 kmph, then the speed in downstream is?\n",
      "[ 11 ] Two trains 111 meters and 165 meters in length respectively are running in opposite directions, one at the rate of 60 km and the other at the rate of 90 kmph. In what time will they be completely clear of each other from the moment they meet?\n",
      "[ 12 ] Two trains start from P and Q respectively and travel towards each other at a speed of 50 km/hr and 40 km/hr respectively. By the time they meet, the first train has travelled 100 km more than the second. The distance between P and Q is :\n",
      "[ 13 ] A man can row downstream at 25 kmph and upstream at 15 kmph. Find the time to reach a destination point at a distance of 50km along the downstream.\n",
      "[ 14 ] A person can swim in still water at 4 km/h. If the speed of water 2 km/h, how many hours will the man take to swim back against the current for 6km?\n",
      "[ 15 ] If two projectiles are launched at the same moment from 1998 km apart and travel directly towards each other at 444 km per hour and 555 km per hour respectively, how many minutes will it take for them to meet?\n",
      "[ 16 ] The speed at which a man can row a boat in still water is 21 kmph. If he rows downstream, where the speed of current is 5 kmph, what time will he take to cover 90 metres?\n",
      "[ 17 ] A man takes twice as long to row a distance against the stream as to row the same distance in favour of the stream. The ratio of the speed of the boat (in still water) and the stream is:\n",
      "[ 18 ] Two cars namely A and B start simultaneously from a certain place at the speed of 40 kmph and 55 kmph, respectively.The car B reaches the destination 2 hours earlier than A. What is the distance between the starting point and destination?\n",
      "[ 19 ] What distance will be covered by a city bus moving at 72 kmph in 30 seconds?\n",
      "[ 20 ] Find the odd man out. 12, 24, 34, 48, 64, 84\n",
      "--------------------------------------------------------------------------------\n",
      "Questions in Cluster  3\n",
      "--------------------------------------------------------------------------------\n",
      "[ 0 ] 10 women can complete a work in 9 days and 10 children take 12 days to complete the work. How many days will 6 women and 7 children take to complete the work?\n",
      "[ 1 ] A man, a woman and a boy can complete a job in 3 days, 4 days and 12 days respectively. How many boys must assist 1 man and 1 woman to complete the job in 1/4th of a day?\n",
      "[ 2 ] B completes a work in 9 days. A alone can do it in 10 days. If both work together, the work can be completed in how many days?\n",
      "[ 3 ] A work which could be finished in 8 days was finished 3 days earlier after 10 more men joined. The number of men employed was?\n",
      "[ 4 ] Renu can do a piece of work in 8 days, but with the help of her friend Suma , she can do it in 4 days. In what time Suma can do it alone?\n",
      "[ 5 ] X completes a work in 20 days and Y complete the same work in 30 days. If both of them work together, then the number of days required to complete the work will be?\n",
      "[ 6 ] If 15 women or 10 men can complete a project in 55 days, in how many days will 5 women and 4 men working together complete the same project ?\n",
      "[ 7 ] NHAI employs 100 men to build a highway of 2km in 50 days working 8 hours a day. If in 25 days they completed 1/3 part of work .than how many more employees should NHAI hire to finish it in time working 10 hours a day?\n",
      "[ 8 ] Mangala completes a piece of work in 18 days, Raju completes the same work in 40 days. If both of them work together, then the number of days required to complete the work is\n",
      "[ 9 ] A can do a certain job in 16 days. B is 60% more efficient than A. How many days does B alone take to do the same job?\n",
      "[ 10 ] A can do a work in 22 days. B is 30% more efficient than A. How many days does B alone take to do the same job?\n",
      "[ 11 ] A and B can do a piece of work in 7 days. With the help of C they finish the work in 5 days. C alone can do that piece of work in?\n",
      "[ 12 ] A can finish a work in 36days, B in 9days and C in 2days, B and C start the work but are forced to leave after 3 days. The remaining work was done by A in?\n",
      "[ 13 ] A and B can do a work in 5 days and 10 days respectively. A starts the work and B joins him after 2 days. In how many days can they complete the remaining work?\n",
      "[ 14 ] A does a work in 10 days and B does the same work in 5 days. In how many days they together will do the same work ?\n",
      "[ 15 ] Vinoth can complete a painting work in 20 days. Prakash can do the same work in 25 days. They start the work together but Vinoth quit after 3 days of work. How many days are required to complete the remaining painting work by Prakash.\n",
      "[ 16 ] If 14 men do a work in 80 days, in how many days will 20 men do it?\n",
      "[ 17 ] A is twice as good a work man as B and together they finish the work in 14 days. In how many days A alone can finish the work?\n",
      "[ 18 ] 1000 men have provisions for 20 days. If 650 more men join them, for how many days will the provisions last now?\n",
      "[ 19 ] A and B can together finish a work in 40days. They worked together for 10days and then B left. After another 12days, A finished the remaining work. In how many days A alone can finish the job?\n",
      "[ 20 ] A man can do a piece of work in 15 days, but with the help of his son, he can do it in 6 days. In what time can the son do it alone?\n",
      "--------------------------------------------------------------------------------\n",
      "Questions in Cluster  4\n",
      "--------------------------------------------------------------------------------\n",
      "[ 0 ] Two friends plan to walk along a 43-km trail, starting at opposite ends of the trail at the same time. If Friend P's rate is 15% faster than Friend Q's, how many kilometers will Friend P have walked when they pass each other?\n",
      "[ 1 ] In the coordinate plane, points (x, 1) and (5, y) are on line k. If line k passes through the origin and has slope 1/5, then what are the values of x and y respectively?\n",
      "[ 2 ] Carl is facing very difficult financial times and can only pay the interest on a $10,000 loan he has taken. The bank charges him a quarterly compound rate of 4%. What is the approximate interest he pays annually?\n",
      "[ 3 ] There are k-2 members in a certain band, including Jim and Ellen. Two members are to be selected to attend the Grammy awards ceremony. If there are 6 possible combinations in which Jim and Ellen are not selected, what is the value of k?\n",
      "[ 4 ] If (x^2 + 4x - 11)/5 ≤ x + 1, then x could be represented by which of the following?\n",
      "[ 5 ] The entrance fee for a fair is $5 for persons under the age of 18, and 20% more for persons older. Each ride at the fair costs $0.50. If Joe goes with her 6 years old twin brothers, and they each took 3 rides in total. How much money does Joe end up spending at the fair?\n",
      "[ 6 ] If Tim had lunch at $50 and he gave 20% tip, how much did he spend?\n",
      "[ 7 ] Mike took 5 mock tests before appearing for the GMAT. In each mock test he scored 10 points more than the previous mock test. If he scored 760 on the GMAT and his average score for the mocks and the GMAT was 716.67, what was the difference in the score of his last mock and his GMAT score?\n",
      "[ 8 ] Tim has 350 pounds of cement in 100, 50, and 25 pound bags. He has an equal number of each size bag. How many bags of cement does Tim have?\n",
      "[ 9 ] A debtor reached an agreement with his creditor to repay a loan by making a monthly payment which is double of the amount she paid the previous month. If the debtors first payment was $200, and he is expected to pay back 51200, how many months will it take to fully repay the loan?\n",
      "[ 10 ] As a bicycle salesperson, James earns a fixed salary of $30 per week plus $6 per bicycle for the first 6 bicycles he sells, $12 per bicycle for the next 6 bicycles he sells, and $18 per bicycle for every bicycle sold after first 12. This week, he earned more than twice as much as he did last week. If he sold x bicycles last week and y bicycles this week, which of the following statements must be true?\n",
      "I. y<2x\n",
      "II. y>x\n",
      "III. y>3\n",
      "[ 11 ] A school currently maintains a fixed number of students per class. If the ratio of students per class were to be increased by 1, 10 fewer classes would be run for a total of 120 students. What is the current ratio Q of students per class?\n",
      "[ 12 ] A survey reveals that the average income of a company’s customers is $45,000 per year. If 50 customers respond to the survey and the average income of the wealthiest 10 of those customers is $95,000, what is the average income of the other 40 customers?\n",
      "Is there a way to solve this using weighted average concept instead of doing tedious calculations?\n",
      "[ 13 ] A cheese factory sells its cheese in rectangular blocks. A normal block has a volume of 8 cubic feet. If a small block has half the width, half the depth, and half the length of a normal block, what is the volume of cheese in a small block in cubic feet?\n",
      "[ 14 ] In a new housing development, trees are to be planted along the sidewalk of a certain street. Each tree takes up one square foot of sidewalk space, and there are to be 20 feet between each tree. How many trees can be planted if the road is 148 feet long?\n",
      "[ 15 ] A $500 investment and a $1,500 investment have a combined yearly return of 19 percent of the total of the two investments. If the $500 investment has a yearly return of 7 percent, what percent yearly return does the $1,500 investment have?\n",
      "[ 16 ] Find the constant k so that : -x2 - (k + 11)x - 8 = -(x - 2)(x - 4)\n",
      "[ 17 ] Krishan and Nandan jointly started a business. Krishan invested six times as Nandan did and invested his money for double time as compared to Nandan. Nandan earned Rs. 6000. If the gain is proportional to the money invested and the time for which the money is invested then the total gain was?\n",
      "[ 18 ] There are 8 players in a chess group, and each player plays each of the others once. Given that each game is played by two players, how many total games will be played?\n",
      "[ 19 ] A pipe takes a hours to fill the tank. But because of a leakage it took 2 times of its original time. Find the time taken by the leakage to empty the tank\n",
      "[ 20 ] Today is 22 days before Mariah's graduation. If she graduates on a Friday, what day of the week is it today?\n",
      "--------------------------------------------------------------------------------\n",
      "Questions in Cluster  5\n",
      "--------------------------------------------------------------------------------\n",
      "[ 0 ] A train 500 m long can cross an electric pole in 20 sec and then find the speed of the train?\n",
      "[ 1 ] A train covers a distance of 10km in 10 min. If it takes 6 sec to pass a telegraph post, then the length of the train is?\n",
      "[ 2 ] A train crosses a platform of 120 m in 15 sec, same train crosses another platform of length 180 m in 18 sec. then find the length of the train?\n",
      "[ 3 ] How long does a train 110 m long running at the speed of 72 km/hr takes to cross a bridge 132 m length?\n",
      "[ 4 ] A train passes a station platform in 32 sec and a man standing on the platform in 20 sec. If the speed of the train is 54 km/hr. What is the length of the platform?\n",
      "[ 5 ] How long does a train 165 meters long running at the rate of 72 kmph take to cross a bridge 660 meters in length?\n",
      "[ 6 ] A 1200 m long train crosses a tree in 120 sec, how much time will I take to pass a platform 700 m long?\n",
      "[ 7 ] A train 125 m long passes a man, running at 1 km/hr in the same direction in which the train is going, in 10 sec. The speed of the train is?\n",
      "[ 8 ] A train 360 m long is running at a speed of 45 km/hr. In what time will it pass a bridge 140 m long?\n",
      "[ 9 ] A train of length 150 metres takes 40.5 seconds to cross a tunnel of length 300 metres. What is the speed of the train in km/hr ?\n",
      "[ 10 ] A train overtakes two persons walking along a railway track. The first one walks at 4.5 km/hr. The other one walks at 5.4 km/hr. The train needs 8.4 and 8.5 seconds respectively to overtake them. What is the speed of the train if both the persons are walking in the same direction as the train?\n",
      "[ 11 ] A train 500 m long is running at a speed of 78 km/hr. If it crosses a tunnel in 1 min, then the length of the tunnel is?\n",
      "[ 12 ] A train crosses a platform of 120 m in 15 sec, same train crosses another platform of length 180 m in 18 sec. then find the length of the train?\n",
      "[ 13 ] A train overtakes two persons walking along a railway track. The first person walks at 4.5 km/hr and the other walks at 5.4 km/hr. The train needs 8.4 and 8.5 seconds respectively to overtake them. What is the speed of the train if both the persons are walking in the same direction as the train?\n",
      "[ 14 ] A train is 320 meter long is running at a speed of 45 km/hour. In what time will it pass a bridge of 140 meter length?\n",
      "[ 15 ] A 300 meter long train crosses a platform in 42 seconds while it crosses a signal pole in 18 seconds. What is the length of the platform?\n",
      "[ 16 ] The length of a train and that of a platform are equal. If with a speed of 36 k/hr, the train crosses the platform in one minute, then the length of the train (in meters) is?\n",
      "[ 17 ] How much time will a train of length 400 m moving at a speed of 72 kmph take to cross another train of length 300 m, moving at 36 kmph in the same direction?\n",
      "[ 18 ] A train runs at the speed of 72 kmph and crosses a 250 metre long platform in 26 seconds. What is the length of the train ?\n",
      "[ 19 ] How long does a train 125 m long running at the speed of 78 km/hr takes to cross a bridge 125 m length?\n",
      "[ 20 ] A train 300 m long is running at a speed of 99 km/hr. In what time will it pass a bridge 195 m long?\n",
      "--------------------------------------------------------------------------------\n",
      "Questions in Cluster  6\n",
      "--------------------------------------------------------------------------------\n",
      "[ 0 ] A man sold 20 articles for $60 and gained 20%. How many articles should he sell for $50 to incur a loss 20%?\n",
      "[ 1 ] A shop sells chocolates It is used to sell chocolates for Rs.2 each but there were no sales at that price.When it reduced the price all the chocolates sold out enabling the shopkeeper to realize Rs 164.90 from the chocolates alone If the new price was not less than half the original price quoted How many chocolates were sold?\n",
      "[ 2 ] Two numbers are less than third number by 30% and 37% respectively. How much percent is the second number less than by the first\n",
      "[ 3 ] A particular store purchased a stock of turtleneck sweaters and marked up its cost by 20%. During the New Year season, it further marked up its prices by 25% of the original retail price. In February, the store then offered a discount of 15%. What was its profit on the items sold in February?\n",
      "[ 4 ] If books bought at prices ranging from Rs. 98 to Rs. 195 are sold at prices ranging from Rs. 120 to Rs 215, what is the greatest possible profit that might be made in selling 13 books ?\n",
      "[ 5 ] If by selling an article for Rs.60, a person loses 1/7 of money, what would he have gained or lost % by selling it for Rs.77?\n",
      "[ 6 ] A chair is bought for Rs.300/- and sold at Rs.420/- find gain or loss percentage\n",
      "[ 7 ] A shopkeeper gave an additional 20 per cent concession on the reduced price after giving 30 per cent standard concession on an article. If Arun bought that article for 1,120, what was the original price?\n",
      "[ 8 ] A book store bought copies of a new book by a popular author, in anticipation of robust sales. The store bought 400 copies from their supplier, each copy at wholesale price W. The store sold the first 150 copies in the first week at 80% more than W, and then over the next month, sold a 100 more at 20% more than W. Finally, to clear shelf space, the store sold the remaining copies to a bargain retailer at 40% less than W. What was the bookstore’s net percent profit or loss on the entire lot of 400 books?\n",
      "[ 9 ] 160 is what percent of 50 ?\n",
      "[ 10 ] If a man lost 4% by selling oranges at the rate of 12 a rupee at how many a rupee must he sell them to gain 44%?\n",
      "[ 11 ] The price of a radio was increased by 25 percent. The new price was then increased by 40 percent. A single increase of what percent is equivalent to these two successive increases?\n",
      "[ 12 ] What is the investment made if one invests in 15% stock at 50 and earns Rs.2000?\n",
      "[ 13 ] If x is 20 percent more than y and y is 60 percent less than z, then x is what percent of z?\n",
      "[ 14 ] The sale price of an article including the sales tax is Rs. 616. The rate of sales tax is 10%. If the shopkeeper has made a profit of 12%, then the cost price of the article is:\n",
      "[ 15 ] A cycle is bought for Rs.900 and sold for Rs.1080, find the gain percent?\n",
      "[ 16 ] Crazy Eddie has a key chain factory. Eddie managed to decrease the cost of manufacturing his key chains while keeping the same selling price, and thus increased the profit from the sale of each key chain from 30% of the selling price to 50% of the selling price. If the manufacturing cost is now $50, what was it before the decrease?\n",
      "[ 17 ] The profit earned by selling an article for Rs. 832 is equal to the loss incurred when the same article is sold for Rs. 448. What should be the sale price for making 20% profit?\n",
      "[ 18 ] If m > 0 and y is m percent of x, then, in terms of m, x is what percent of y?\n",
      "[ 19 ] A tour group of 25 people paid a total of $1050 for entrance to a museum. If this price included a 5% sales tax, and all the tickets cost the same amount, what was the face value of each ticket price without the sales tax?\n",
      "Choices\n",
      "[ 20 ] A tradesman sold an article at a loss of 20%. If the selling price had been increased by $100, there would have been a gain of 5%. What was the cost price of the article ?\n",
      "--------------------------------------------------------------------------------\n",
      "Questions in Cluster  7\n",
      "--------------------------------------------------------------------------------\n",
      "[ 0 ] For all numbers p and q, the operation @ is defined by p@q = p^2 - pq. If xy ≠ 0, then which of the following can be equal to zero?\n",
      "I. x@y\n",
      "II. (xy)@y\n",
      "III. x@(x + y)\n",
      "[ 1 ] Find the smallest number of five digits exactly divisible by 22,33,66 and 44.\n",
      "[ 2 ] If X and Y are digits and 8XY is a 3-digit number that is divisible by 2, which of the following is a possible product of X and Y?\n",
      "[ 3 ] q is a positive integer and multiple of 2; p = 4^q, what is the remainder when p is divided by 10?\n",
      "[ 4 ] If q is the square of a positive integer, which of the following must be equal to the square of the next positive integer?\n",
      "[ 5 ] Given that k/l < 1, and both k and l are positive integers, which one of the following must be greater than 1?\n",
      "[ 6 ] The first five numbers in a regular sequence are 4, 10, X, 46, and 94. What is x ?\n",
      "[ 7 ] A positive whole number has factors of 3 and 5. The number MUST be divisible by: I. 15 II. 30 III. 60\n",
      "[ 8 ] Suppose a, b, and c are positive integers with a < b < c such that\n",
      "1/a\n",
      "+\n",
      "1/b\n",
      "+\n",
      "1/c\n",
      "= 1. What is\n",
      "a + b + c?\n",
      "[ 9 ] The smallest number when increased by \" 1 \" is exactly divisible by 6,9,15,35,45 is:\n",
      "[ 10 ] In a two-digit number, the digit in the unit's place is four times the digit in ten's place and the sum of the digits is equal to 10. What is the number?\n",
      "[ 11 ] Three numbers are in the ratio 5 : 6 : 7. The sum of its longest and smallest numbers equals the sum of the third number and 54. Find the third number?\n",
      "[ 12 ] Sum of the squares of three numbers is 351 and the sum of their products taken two at a time is 245. Find the sum?\n",
      "[ 13 ] If |w|=−w, which of the following must be true?\n",
      "[ 14 ] How many numbers from 39 to 79 are exactly divisible by 11?\n",
      "[ 15 ] If x-y=10, which of the following must be true?\n",
      "I. Both x and y are positive\n",
      "II. If x is negative, y must be negative\n",
      "III.If x is positive, y must be positive\n",
      "[ 16 ] If the sum and difference of two numbers are 20 and 8 respectively, then the difference of their square is:\n",
      "[ 17 ] How many positive 5-digit integers have the odd sum E of their digits?\n",
      "[ 18 ] If two numbers are in the ratio 2:3. If 10 is added to both of the numbers then the ratio becomes 3:4 then find the smallest number?\n",
      "[ 19 ] In a division sum, the remainder is 6 and the divisor is 5 times the quotient and is obtained by adding 7 to the thrice of the remainder. The dividend is\n",
      "[ 20 ] Which digits should come in place of @ and # if the number 62684@# is divisible by both 8 and 5?\n",
      "--------------------------------------------------------------------------------\n",
      "Questions in Cluster  8\n",
      "--------------------------------------------------------------------------------\n",
      "[ 0 ] John found that the average of 15 numbers is 40. If 10 is added to each number then the mean of number is?\n",
      "[ 1 ] The average of 6 observations is 11. A new observation is included and the new average is decreased by 1. The seventh observation is?\n",
      "[ 2 ] A batsman in his 12th innings makes a score of 65 and thereby increases his average by 2 runs. What is his average after the 12th innings if he had never been ‘not out’?\n",
      "[ 3 ] The average weight of 8 person's increases by 2.5 kg when a new person comes in place of one of them weighing 55 kg. What might be the weight of the new person?\n",
      "[ 4 ] The average height in a group of 4 people is 175 cm. If the average height increased when 2 more people were added to the group, which of the following cannot be the heights of the two new people?\n",
      "[ 5 ] A number X equals 80% of the average of 5, 7, 14 and a number Y. If the average of X and Y is 26, the value of Y is?\n",
      "[ 6 ] A theater box office sold an average (arithmetic mean) of 65 tickets per staff member to a particular movie. Among the daytime staff, the average number sold per member was 75, and among the evening staff, the average number sold was 60. If there are no other employees, what was the ratio of the number of daytime staff members to the number of evening staff members?\n",
      "[ 7 ] Find the average of first 20 natural numbers?\n",
      "[ 8 ] The average age of five persons is 40 years while the average age of some other 10 persons is 25 years. The average age of all the 15 persons is:\n",
      "[ 9 ] If the average (arithmetic mean) of (2a+16) and (3a-8) is 84, what is the value of a?\n",
      "[ 10 ] The average age of 15 students of a class is 14 years. Out of these, the average age of 5 students is 14 years and that of the other 9 students is 16 years. Tee age of the 15th student is?\n",
      "[ 11 ] The average age of 15 students of a class is 15 years. Out of these, the average age of 5 students is 14 years and that of the other 9 students is 16 years. Tee age of the 15th student is?\n",
      "[ 12 ] he average weight of 8 persons increases by 2.5 kg when a new person comes in place of one of them weighing 75 kg. What might be the weight of the new person ?\n",
      "[ 13 ] The average age of 40 students is 8 years. If the age of teacher is also included , then their average age increases by half a year. What is the age of the teacher?\n",
      "[ 14 ] A class has 6 boys and x girls. Average score of boys and girls is 50 and 60 respectively. the average of the whole class is 55, what is the value of x?\n",
      "[ 15 ] The average weight of 8 person's increases by 5 kg when a new person comes in place of one of them weighing 35 kg. What might be the weight of the new person?\n",
      "[ 16 ] The average of seven numbers is 18. The average of first three numbers is 14 and the average of last three numbers is 23. What is the middle number?\n",
      "[ 17 ] Average score for Virat Kohli in a series of 10 matches is 38.9 runs. If the average for first six matches comes out to be 42 what is his average in the last 4 matches of the series?\n",
      "[ 18 ] The average weight of 8 persons increases by 4 kg when a new person comes in place of one of them weighing 65 kg. What might be the weight of the new person ?\n",
      "[ 19 ] The average of the marks of 10 students in a class is 40. If the marks of each student are doubled, find the new average?\n",
      "[ 20 ] The average mark of the students of a class in a particular exam is 80. If 5 students whose average mark in that exam is 20 are excluded, the average mark of the remaining will be 92. Find the number of students who wrote the exam.\n",
      "--------------------------------------------------------------------------------\n",
      "Questions in Cluster  9\n",
      "--------------------------------------------------------------------------------\n",
      "[ 0 ] Square P is inscribed in circle Q. If the perimeter of P is 40, what is the circumference of Q?\n",
      "[ 1 ] The slant height of a cone is 35 cm and radius of the base is 14cm, find the curved surface of the cone.\n",
      "[ 2 ] The cost of painting the whole surface area of a cube at the rate of 13 paise per Sq.cm is Rs. 343.98. Then the volume of the cube is\n",
      "[ 3 ] The edge of a cube is 7a cm. Find its surface?\n",
      "[ 4 ] The diagonals of a rhombus are 18 cm and 22 cm. Find its area?\n",
      "[ 5 ] What is the are of an equilateral triangle of side 16 cm?\n",
      "[ 6 ] Find the area of a rhombus whose side is 25 cm and one of the diagonals is 30 cm?\n",
      "[ 7 ] It is found that the volume of a cube is numerically equal to its surface area. Then the measure of its edge in meters is:\n",
      "[ 8 ] If each side of a square is increased by 25%, find the percentage change in its area?\n",
      "[ 9 ] The area of a triangle will be when a = 1m, b = 2m, c = 3m, a, b, c being lengths of respective sides.\n",
      "[ 10 ] The length of a rectangle is reduced by 20%. By what % would the width have to be increased to maintainthe original area?\n",
      "[ 11 ] If points A and B are (10-5) units apart, which of the following can have only one possible value?\n",
      "I. The area of a square region with side AB\n",
      "II. The circumference of a circle passing through points A and B\n",
      "III. The area of a rectangular region with diagonal AB\n",
      "[ 12 ] Area of a square is 1/2 hectare. The diagonal of the square is?\n",
      "[ 13 ] The ratio between the perimeter and the width of a rectangle is 5 : 1. If the area of the rectangle is 150 sq. cm, what is the length of the rectangle?\n",
      "[ 14 ] cube of side one meter length is cut into small cubes of side 10 cm each. How many such small cubes can be obtained?\n",
      "[ 15 ] The length of a rectangle is two - fifths of the radius of a circle. The radius of the circle is equal to the side of the square, whose area is 1225 sq.units. What is the area (in sq.units) of the rectangle if the rectangle if the breadth is 10 units?\n",
      "[ 16 ] If the perimeter of a rectangular garden is 600 m, its length when its breadth is 95 m is?\n",
      "[ 17 ] A rectangular photograph is surrounded by a border that is 1 inch wide on each side. The total area of the photograph and the border is M square inches. If the border had been 3 inches wide on each side, the total area would have been (M + 64) square inches. What is the perimeter of the photograph, in inches?\n",
      "[ 18 ] A cylindrical bucket of height 36 cm and radius 21 cm is filled with sand. The bucket is emptied on the ground and a conical heap of sand is formed, the height of the heap being 12 cm. The radius of the heap at the base is :\n",
      "[ 19 ] A rectangular rug with side lengths of 2 feet and 7 feet is placed on a square floor that has an area of 64 square feet. If the surface of the rug does not extend beyond the area of the floor, what fraction of the area of the floor is not covered by the rug?\n",
      "[ 20 ] Difference between the length &breadth of a rectangle is 10 m. If its perimeter is 206 m, then its area is?\n"
     ]
    }
   ],
   "source": [
    "for key, item in grouped:\n",
    "    print('-'*80)\n",
    "    print(\"Questions in Cluster \",key)\n",
    "    print('-'*80)\n",
    "    x = grouped.get_group(key)\n",
    "    cnt=0\n",
    "    for i in x:\n",
    "        print(\"[\",cnt,\"]\",i)\n",
    "        cnt=cnt+1;\n",
    "        if (cnt>20):\n",
    "            break\n",
    "        "
   ]
  },
  {
   "cell_type": "code",
   "execution_count": null,
   "metadata": {
    "collapsed": true
   },
   "outputs": [],
   "source": []
  }
 ],
 "metadata": {
  "anaconda-cloud": {},
  "kernelspec": {
   "display_name": "Python [Root]",
   "language": "python",
   "name": "Python [Root]"
  },
  "language_info": {
   "codemirror_mode": {
    "name": "ipython",
    "version": 3
   },
   "file_extension": ".py",
   "mimetype": "text/x-python",
   "name": "python",
   "nbconvert_exporter": "python",
   "pygments_lexer": "ipython3",
   "version": "3.5.2"
  }
 },
 "nbformat": 4,
 "nbformat_minor": 1
}
