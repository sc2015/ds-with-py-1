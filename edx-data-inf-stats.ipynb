{
 "cells": [
  {
   "cell_type": "markdown",
   "metadata": {},
   "source": [
    "# EdX Dataset - Inferential Statistics  "
   ]
  },
  {
   "cell_type": "markdown",
   "metadata": {},
   "source": [
    "The goal of this project is to be build a model that will predict the course completion rate from the various factors such as the registrants age/education background/course/region etc \n",
    "\n",
    "In this notebook , we look at the correlation between the users educational background and the course grade through Hypothesis testing \n"
   ]
  },
  {
   "cell_type": "code",
   "execution_count": 1,
   "metadata": {
    "collapsed": true
   },
   "outputs": [],
   "source": [
    "import numpy as np \n",
    "import pandas as pd \n",
    "\n",
    "from sklearn.preprocessing import LabelEncoder\n",
    "from sklearn.linear_model import LinearRegression\n",
    "from sklearn.linear_model import LogisticRegression\n",
    "from sklearn import preprocessing\n",
    "from sklearn import metrics \n",
    "from sklearn.model_selection import train_test_split\n",
    "from sklearn.metrics import classification_report\n",
    "from sklearn.metrics import confusion_matrix\n",
    "from sklearn.metrics import mean_squared_error\n",
    "from sklearn.tree import DecisionTreeRegressor\n",
    "\n",
    "import matplotlib.pyplot as plt\n",
    "import seaborn as sb"
   ]
  },
  {
   "cell_type": "markdown",
   "metadata": {},
   "source": [
    "# EdX Dataset \n",
    "\n",
    "\n",
    "The dataset contains data about particpants who enrolled in MITx and HarvardX courses on EdX platform (Academic Year 2013: Fall 2012, Spring 2013, and Summer 2013). The data includes  aggregate records of participants activities on EdX (which some information such as 'user name' de-identified). The dataset has been downloaded from \n",
    "\n",
    "https://dataverse.harvard.edu/dataset.xhtml?persistentId=doi:10.7910/DVN/26147&version=10.0\n",
    "\n"
   ]
  },
  {
   "cell_type": "code",
   "execution_count": 2,
   "metadata": {
    "collapsed": true
   },
   "outputs": [],
   "source": [
    "# PATH to data file\n",
    "file='HMXPC13_DI_v2_5-14-14.csv'\n",
    "path='/Users/suka/Downloads/dataverse_files'\n",
    "filename=path+'/'+file"
   ]
  },
  {
   "cell_type": "code",
   "execution_count": 3,
   "metadata": {
    "collapsed": true
   },
   "outputs": [],
   "source": [
    "#  READ THE CSV to data frame \n",
    "full_df = pd.read_csv(filename,parse_dates=True)\n"
   ]
  },
  {
   "cell_type": "code",
   "execution_count": 4,
   "metadata": {
    "collapsed": true
   },
   "outputs": [],
   "source": [
    "# Extract relevant fields \n",
    "data = full_df[['course_id','userid_DI','final_cc_cname_DI','LoE_DI','YoB','gender','start_time_DI','grade','viewed','explored','nevents','ndays_act','nplay_video','nchapters','certified','registered','incomplete_flag']].copy()\n",
    "\n",
    "# split the course id into multiple fields\n",
    "a,b,c = data['course_id'].str.split('/').str\n",
    "data.insert(1,'institution',a)\n",
    "data.insert(2,'course',b)\n",
    "\n",
    "# clean up the year which has the _spring,_fall suffixes \n",
    "a = c.str.split('_').str[0]\n",
    "b = c.str.split('_').str[1]\n",
    "\n",
    "data.insert(3,'year',a)\n",
    "data.insert(4,'term',b)\n",
    "\n",
    "data.drop('course_id',axis=1,inplace=True)\n",
    "\n",
    "# Create the mapping of course-id to title \n",
    "#courselist = {'CB22x':'Greek Heros', 'CS50x':'Computer Science','ER22x':'Justice','PH207x':'Health Stat','PH278x':'Health Env','14.73x':'Poverty','2.01x':'Structures','3.091x':'SS Chemistry','6.002x':'Circuits','6.00x':'Computer Pgming','7.00x':'Biology','8.02x':'Electricity & Magnetism','8.MReV':'Mechanics'}\n",
    "courselist = {'CB22x':'Greek Heros', 'CS50x':'Comp Sci','ER22x':'Justice','PH207x':'Health Stat','PH278x':'Health Env','14.73x':'Poverty','2.01x':'Structures','3.091x':'SS Chemistry','6.002x':'Circuits','6.00x':'Comp Pgming','7.00x':'Biology','8.02x':'Elec & Magnetism','8.MReV':'Mechanics'}\n",
    "data['course'].replace(courselist, inplace=True)\n",
    "data['course'].replace(courselist, inplace=True)\n",
    "\n",
    "#rename columns \n",
    "data.rename(columns={'nchapters':'chapters viewed','ndays_act':'days active','nplay_video':'videos played','course_id': 'course', 'final_cc_cname_DI': 'country','LoE_DI':'education','userid_DI':'user',\"start_time_DI\":\"start-time\"}, inplace=True)\n",
    "\n",
    "data['YoB'] = data.groupby('course')['YoB'].transform(lambda x: x.fillna(x.median()))\n",
    "data['gender'] = data.groupby('course')['gender'].transform(lambda x: x.fillna(x.value_counts().index[0]))\n",
    "data['education'] = data.groupby('course')['education'].transform(lambda x: x.fillna(x.value_counts().index[0]))\n"
   ]
  },
  {
   "cell_type": "code",
   "execution_count": 5,
   "metadata": {},
   "outputs": [],
   "source": [
    "\n",
    "# change the datatypes of some of the columns\n",
    "data['institution']= data.institution.astype('category')\n",
    "data['course']= data.course.astype('category')\n",
    "\n",
    "e_order = [\"Less than Secondary\",\"Secondary\",\"Bachelor's\",\"Master's\",\"Doctorate\"]\n",
    "#e_type = pd.api.types.CategoricalDtype(categories=[\"Less than Secondary\",\"Secondary\",\"Bachelor's\",\"Master's\",\"Doctorate\"], ordered=True)\n",
    "\n",
    "data['grade'] = pd.to_numeric(data['grade'],errors='coerce')\n",
    "data['grade'] = data['grade'].fillna(0).multiply(100)\n",
    "\n",
    "data['education']= data.education.astype('category').cat.set_categories(e_order, ordered=True)\n",
    "\n",
    "#Fill NaN data with zeros\n",
    "data['chapters viewed'].fillna(0,inplace=True) # replace NaN with 0 \n",
    "data['nevents'].fillna(0,inplace=True) # replace NaN with 0 \n",
    "data['videos played'].fillna(0,inplace=True) # replace NaN with 0 \n",
    "data['chapters viewed'].fillna(0,inplace=True) # replace NaN with 0 \n",
    "data['days active'].fillna(0,inplace=True) # replace NaN with 0 \n",
    "data['term'].fillna('Fall',inplace=True)\n",
    "\n",
    "data['gender']= data.gender.astype('category')\n",
    "data['year']= data.year.astype('int')\n",
    "data['YoB']= data.YoB.astype('int')\n",
    "data['nevents']= data.nevents.astype('int')\n",
    "\n",
    "data['start-time'] = pd.to_datetime(data['start-time'])\n",
    "\n",
    "# Add a column \"age\" using YoB (age calculated as on 2014)\n",
    "data.insert(3,\"age\", [(x.year-x.YoB) for index, x in data.iterrows() ])"
   ]
  },
  {
   "cell_type": "markdown",
   "metadata": {
    "collapsed": true
   },
   "source": [
    "# Lets get the grade averages for various education levels "
   ]
  },
  {
   "cell_type": "code",
   "execution_count": 14,
   "metadata": {},
   "outputs": [
    {
     "name": "stderr",
     "output_type": "stream",
     "text": [
      "/Applications/anaconda/lib/python3.5/site-packages/ipykernel/__main__.py:2: SettingWithCopyWarning: \n",
      "A value is trying to be set on a copy of a slice from a DataFrame.\n",
      "Try using .loc[row_indexer,col_indexer] = value instead\n",
      "\n",
      "See the caveats in the documentation: http://pandas.pydata.org/pandas-docs/stable/indexing.html#indexing-view-versus-copy\n",
      "  from ipykernel import kernelapp as app\n"
     ]
    }
   ],
   "source": [
    "cdata = data[data.certified==1]\n",
    "cdata['grade'] = cdata['grade'].apply(np.int64)\n",
    "\n",
    "aggregations = { 'certified':'sum','grade':'mean'}\n",
    "\n",
    "lsd = cdata[cdata.education == \"Less than Secondary\"]\n",
    "sd = cdata[cdata.education == \"Secondary\"]\n",
    "bd = cdata[cdata.education == \"Bachelor's\"]\n",
    "md = cdata[cdata.education == \"Master's\"]\n",
    "pd = cdata[cdata.education == \"Doctorate\"]\n",
    "\n",
    "edata = cdata.groupby(['education'],as_index=False).agg(aggregations)\n"
   ]
  },
  {
   "cell_type": "code",
   "execution_count": 13,
   "metadata": {},
   "outputs": [
    {
     "name": "stdout",
     "output_type": "stream",
     "text": [
      "             education  certified      grade\n",
      "0  Less than Secondary        402  81.407960\n",
      "1            Secondary       4565  82.987076\n",
      "2           Bachelor's       7985  83.149781\n",
      "3             Master's       4313  84.758405\n",
      "4            Doctorate        422  86.914692\n"
     ]
    }
   ],
   "source": [
    "print(edata)"
   ]
  },
  {
   "cell_type": "markdown",
   "metadata": {},
   "source": [
    "## Is there a correlation between  grade  and education level ?"
   ]
  },
  {
   "cell_type": "markdown",
   "metadata": {},
   "source": [
    "### Hypothesis Testing\n",
    "Null Hypothesis: The mean 'grade' is the same for different education levels .\n",
    "Alternative Hypothesis: The mean 'grade' is NOT the same for  different education levels"
   ]
  },
  {
   "cell_type": "code",
   "execution_count": 12,
   "metadata": {},
   "outputs": [
    {
     "name": "stdout",
     "output_type": "stream",
     "text": [
      "F-statistic        : 22.9447\n",
      "p value of  t-test : 0.00000000\n"
     ]
    }
   ],
   "source": [
    "import scipy.stats as stats\n",
    "f_stats, p_value = stats.f_oneway(lsd['grade'], sd['grade'], bd['grade'],md['grade'],pd['grade'])\n",
    "\n",
    "print('F-statistic        : {:.4f}'.format(f_stats))\n",
    "print('p value of  t-test : {:.8f}'.format(p_value))"
   ]
  },
  {
   "cell_type": "markdown",
   "metadata": {},
   "source": [
    "## Summary \n",
    "* Since the p-value from the test is extremely small we reject the NULL hypothesis (that there is no difference in means across education levels). There is a (statistically) significant difference which cannot be attributed to randomness.\n",
    "\n",
    "* There is a difference in the mean grade of the users with different education levels . \n",
    "\n",
    "* Mean Grade (Doctorate) > Mean Grade (Masters) > Mean Grade (Bachelors) > Mean Grade (Secondary) > Mean Grade (Less than Secondary) "
   ]
  }
 ],
 "metadata": {
  "anaconda-cloud": {},
  "celltoolbar": "Edit Metadata",
  "kernelspec": {
   "display_name": "Python [Root]",
   "language": "python",
   "name": "Python [Root]"
  },
  "language_info": {
   "codemirror_mode": {
    "name": "ipython",
    "version": 3
   },
   "file_extension": ".py",
   "mimetype": "text/x-python",
   "name": "python",
   "nbconvert_exporter": "python",
   "pygments_lexer": "ipython3",
   "version": "3.5.2"
  }
 },
 "nbformat": 4,
 "nbformat_minor": 1
}
