{
 "cells": [
  {
   "cell_type": "markdown",
   "metadata": {
    "collapsed": true
   },
   "source": [
    "## TOPIC Identification of Mathematical word problems\n",
    "- In this model , we cluster similar problems using count vectorizer and tfidf vectorizer"
   ]
  },
  {
   "cell_type": "markdown",
   "metadata": {},
   "source": [
    "### Read the DeepMind AQUA Data Set (.json file)"
   ]
  },
  {
   "cell_type": "code",
   "execution_count": 1,
   "metadata": {
    "collapsed": true
   },
   "outputs": [],
   "source": [
    "import pandas as pd\n",
    "import numpy as np\n",
    "import json \n",
    "\n",
    "import nltk\n",
    "import string"
   ]
  },
  {
   "cell_type": "code",
   "execution_count": 2,
   "metadata": {},
   "outputs": [
    {
     "data": {
      "text/plain": [
       "Index(['correct', 'options', 'question', 'rationale'], dtype='object')"
      ]
     },
     "execution_count": 2,
     "metadata": {},
     "output_type": "execute_result"
    }
   ],
   "source": [
    "qb =  pd.read_json('AQuA-master/dev.json',lines=True)\n",
    "qb.columns"
   ]
  },
  {
   "cell_type": "code",
   "execution_count": 3,
   "metadata": {},
   "outputs": [
    {
     "data": {
      "text/html": [
       "<div>\n",
       "<style>\n",
       "    .dataframe thead tr:only-child th {\n",
       "        text-align: right;\n",
       "    }\n",
       "\n",
       "    .dataframe thead th {\n",
       "        text-align: left;\n",
       "    }\n",
       "\n",
       "    .dataframe tbody tr th {\n",
       "        vertical-align: top;\n",
       "    }\n",
       "</style>\n",
       "<table border=\"1\" class=\"dataframe\">\n",
       "  <thead>\n",
       "    <tr style=\"text-align: right;\">\n",
       "      <th></th>\n",
       "      <th>correct</th>\n",
       "      <th>options</th>\n",
       "      <th>question</th>\n",
       "      <th>rationale</th>\n",
       "    </tr>\n",
       "  </thead>\n",
       "  <tbody>\n",
       "    <tr>\n",
       "      <th>0</th>\n",
       "      <td>A</td>\n",
       "      <td>[A)32400, B)6000, C)600, D)60000, E)10]</td>\n",
       "      <td>Three birds are flying at a fast rate of 900 k...</td>\n",
       "      <td>To calculate the equivalent of miles in a kilo...</td>\n",
       "    </tr>\n",
       "    <tr>\n",
       "      <th>1</th>\n",
       "      <td>D</td>\n",
       "      <td>[A)100 m, B)150 m, C)200 m, D)250 m, E)300 m]</td>\n",
       "      <td>A ship is leaving a port. It takes 240 seconds...</td>\n",
       "      <td>Let the length of the ship be x metres and its...</td>\n",
       "    </tr>\n",
       "    <tr>\n",
       "      <th>2</th>\n",
       "      <td>C</td>\n",
       "      <td>[A)6, B)18, C)24, D)36, E)48]</td>\n",
       "      <td>A rectangular piece of cloth 2 feet wide was c...</td>\n",
       "      <td>The question says, length of shorter piece is ...</td>\n",
       "    </tr>\n",
       "    <tr>\n",
       "      <th>3</th>\n",
       "      <td>B</td>\n",
       "      <td>[A)(1,1), B)(0,3), C)(2,0), D)(3,6), E)(6,3)]</td>\n",
       "      <td>In the xy-coordinate plane, which of the follo...</td>\n",
       "      <td>For a point to satisfy the given equation for ...</td>\n",
       "    </tr>\n",
       "    <tr>\n",
       "      <th>4</th>\n",
       "      <td>C</td>\n",
       "      <td>[A)7, B)9, C)13, D)27, E)45]</td>\n",
       "      <td>A travel company wants to charter a plane to t...</td>\n",
       "      <td>Additional passengers (i.e., an integer, let's...</td>\n",
       "    </tr>\n",
       "  </tbody>\n",
       "</table>\n",
       "</div>"
      ],
      "text/plain": [
       "  correct                                        options  \\\n",
       "0       A        [A)32400, B)6000, C)600, D)60000, E)10]   \n",
       "1       D  [A)100 m, B)150 m, C)200 m, D)250 m, E)300 m]   \n",
       "2       C                  [A)6, B)18, C)24, D)36, E)48]   \n",
       "3       B  [A)(1,1), B)(0,3), C)(2,0), D)(3,6), E)(6,3)]   \n",
       "4       C                   [A)7, B)9, C)13, D)27, E)45]   \n",
       "\n",
       "                                            question  \\\n",
       "0  Three birds are flying at a fast rate of 900 k...   \n",
       "1  A ship is leaving a port. It takes 240 seconds...   \n",
       "2  A rectangular piece of cloth 2 feet wide was c...   \n",
       "3  In the xy-coordinate plane, which of the follo...   \n",
       "4  A travel company wants to charter a plane to t...   \n",
       "\n",
       "                                           rationale  \n",
       "0  To calculate the equivalent of miles in a kilo...  \n",
       "1  Let the length of the ship be x metres and its...  \n",
       "2  The question says, length of shorter piece is ...  \n",
       "3  For a point to satisfy the given equation for ...  \n",
       "4  Additional passengers (i.e., an integer, let's...  "
      ]
     },
     "execution_count": 3,
     "metadata": {},
     "output_type": "execute_result"
    }
   ],
   "source": [
    "qb.head()"
   ]
  },
  {
   "cell_type": "markdown",
   "metadata": {},
   "source": [
    "### Functions to remove the named entities "
   ]
  },
  {
   "cell_type": "code",
   "execution_count": 4,
   "metadata": {
    "collapsed": true
   },
   "outputs": [],
   "source": [
    "def untokenize(tokens):\n",
    "    return(\"\".join([\" \"+i if not i.startswith(\"'\") and i not in string.punctuation else i for i in tokens]).strip())\n",
    "\n",
    "def extract_nonentities(tree):\n",
    "    tokens = [leaf[0] for leaf in tree if type(leaf) != nltk.Tree]\n",
    "    return(untokenize(tokens))\n",
    "\n",
    "def ne_removal(text_list):\n",
    "    token_list = [nltk.word_tokenize(text) for text in text_list]\n",
    "    tagged = nltk.pos_tag_sents(token_list)\n",
    "    chunked = nltk.ne_chunk_sents(tagged)\n",
    "    non_entities = []\n",
    "    for tree in chunked:\n",
    "        non_entities.append(extract_nonentities(tree))\n",
    "    return(non_entities)"
   ]
  },
  {
   "cell_type": "code",
   "execution_count": 5,
   "metadata": {
    "collapsed": true
   },
   "outputs": [],
   "source": [
    "# removal of named entities\n",
    "qb['qn'] = ne_removal(qb['question'])\n"
   ]
  },
  {
   "cell_type": "markdown",
   "metadata": {
    "collapsed": true
   },
   "source": [
    "### Text Pre Processing "
   ]
  },
  {
   "cell_type": "code",
   "execution_count": 6,
   "metadata": {},
   "outputs": [
    {
     "name": "stdout",
     "output_type": "stream",
     "text": [
      "0    three birds are flying at a fast rate of  kilo...\n",
      "1    a ship is leaving a port. it takes  seconds to...\n",
      "2    a rectangular piece of cloth  feet wide was cu...\n",
      "Name: qn, dtype: object\n"
     ]
    }
   ],
   "source": [
    "## remove numerals , replace % with percent and convert to lowercase\n",
    "import re\n",
    "qb.qn = qb.qn.apply(lambda x: x.lower())\n",
    "qb['qn'] = qb['qn'].apply(lambda x: re.sub(r'\\%', 'percent', x))\n",
    "qb['qn'] = qb['qn'].apply(lambda x: re.sub(r'\\d+', '', x))\n",
    "\n",
    "print(qb.qn.iloc[:3])"
   ]
  },
  {
   "cell_type": "markdown",
   "metadata": {},
   "source": [
    "### Convert Text to Vector Space using Bag-of-words / Count Vectorizer"
   ]
  },
  {
   "cell_type": "code",
   "execution_count": 7,
   "metadata": {},
   "outputs": [
    {
     "name": "stdout",
     "output_type": "stream",
     "text": [
      "Vocabulary size: 1550\n"
     ]
    }
   ],
   "source": [
    "from sklearn.feature_extraction.text import CountVectorizer\n",
    "\n",
    "vectorizer = CountVectorizer()\n",
    "bow = vectorizer.fit_transform(qb.qn) #train and get bag of words\n",
    "print(\"Vocabulary size: {}\".format(len(vectorizer.vocabulary_)))\n"
   ]
  },
  {
   "cell_type": "code",
   "execution_count": 8,
   "metadata": {},
   "outputs": [
    {
     "data": {
      "text/plain": [
       "(254, 1550)"
      ]
     },
     "execution_count": 8,
     "metadata": {},
     "output_type": "execute_result"
    }
   ],
   "source": [
    "bow.shape"
   ]
  },
  {
   "cell_type": "markdown",
   "metadata": {},
   "source": [
    "### Clustering using K-means and optimal clsuter size using distortion/silhouette score "
   ]
  },
  {
   "cell_type": "code",
   "execution_count": 9,
   "metadata": {},
   "outputs": [
    {
     "data": {
      "image/png": "[encoded data removed]",
      "text/plain": [
       "<matplotlib.figure.Figure at 0x1a1bfa52b0>"
      ]
     },
     "metadata": {},
     "output_type": "display_data"
    },
    {
     "data": {
      "image/png": "[encoded data removed]",
      "text/plain": [
       "<matplotlib.figure.Figure at 0x1a1d944be0>"
      ]
     },
     "metadata": {},
     "output_type": "display_data"
    }
   ],
   "source": [
    "from sklearn.cluster import KMeans\n",
    "from sklearn import metrics\n",
    "import matplotlib.pyplot as plt\n",
    "\n",
    "\n",
    "%matplotlib inline\n",
    "\n",
    "sil_scores = []\n",
    "distortions = []\n",
    "for i in range (5,15):\n",
    "    km = KMeans(n_clusters=i,random_state=10,verbose=0)\n",
    "    Y = km.fit_predict(bow)\n",
    " \n",
    "    distortions.append(km.inertia_)\n",
    "    if (i>=2):\n",
    "        sc = (metrics.silhouette_score(bow, Y))\n",
    "        sil_scores.append(sc)\n",
    "\n",
    "plt.plot(range(5,15), distortions, marker='o')\n",
    "plt.xlabel('Number of clusters')\n",
    "plt.ylabel('Distortion')\n",
    "plt.title(\"Elbow Plot with Inertia Score for various cluster sizes\")\n",
    "plt.show()\n",
    "\n",
    "\n",
    "plt.plot(range(5,15), sil_scores, marker='o')\n",
    "plt.xlabel('Number of clusters')\n",
    "plt.ylabel('Silhouette Score')\n",
    "plt.title(\"Silhouette Score for various cluster sizes\")\n",
    "plt.show()"
   ]
  },
  {
   "cell_type": "code",
   "execution_count": 10,
   "metadata": {
    "collapsed": true
   },
   "outputs": [],
   "source": [
    "questions=qb.question"
   ]
  },
  {
   "cell_type": "code",
   "execution_count": 11,
   "metadata": {
    "collapsed": true
   },
   "outputs": [],
   "source": [
    "import string\n",
    "import collections\n",
    " \n",
    "from nltk import word_tokenize\n",
    "from nltk.stem import PorterStemmer\n",
    "from nltk.corpus import stopwords\n",
    "from sklearn.cluster import KMeans\n",
    "from sklearn.feature_extraction.text import TfidfVectorizer\n",
    "from pprint import pprint"
   ]
  },
  {
   "cell_type": "markdown",
   "metadata": {},
   "source": [
    "### Convert Text to Vector Space using TFIDF Vectorizer"
   ]
  },
  {
   "cell_type": "code",
   "execution_count": 12,
   "metadata": {},
   "outputs": [
    {
     "name": "stdout",
     "output_type": "stream",
     "text": [
      "(254, 1381)\n"
     ]
    }
   ],
   "source": [
    "# Instantiate the TFIDF vectorizer\n",
    "word_vectorizer = TfidfVectorizer(\n",
    "    stop_words='english',\n",
    "    sublinear_tf=True,\n",
    "    strip_accents='unicode',\n",
    "    analyzer='word',\n",
    "    max_features=30000)\n",
    "\n",
    "# fit and transform on it the training features\n",
    "tfidf_matrix = word_vectorizer.fit_transform(qb.qn)\n",
    "\n",
    "print(tfidf_matrix.shape)"
   ]
  },
  {
   "cell_type": "code",
   "execution_count": 13,
   "metadata": {
    "collapsed": true
   },
   "outputs": [],
   "source": [
    "terms = word_vectorizer.get_feature_names()\n",
    "#print(terms)"
   ]
  },
  {
   "cell_type": "code",
   "execution_count": 14,
   "metadata": {},
   "outputs": [
    {
     "name": "stdout",
     "output_type": "stream",
     "text": [
      "[[ -2.22044605e-16   1.00000000e+00   1.00000000e+00 ...,   1.00000000e+00\n",
      "    1.00000000e+00   1.00000000e+00]\n",
      " [  1.00000000e+00  -2.22044605e-16   9.61554447e-01 ...,   1.00000000e+00\n",
      "    1.00000000e+00   1.00000000e+00]\n",
      " [  1.00000000e+00   9.61554447e-01  -2.22044605e-16 ...,   1.00000000e+00\n",
      "    1.00000000e+00   9.43485729e-01]\n",
      " ..., \n",
      " [  1.00000000e+00   1.00000000e+00   1.00000000e+00 ...,  -2.22044605e-16\n",
      "    1.00000000e+00   1.00000000e+00]\n",
      " [  1.00000000e+00   1.00000000e+00   1.00000000e+00 ...,   1.00000000e+00\n",
      "   -2.22044605e-16   1.00000000e+00]\n",
      " [  1.00000000e+00   1.00000000e+00   9.43485729e-01 ...,   1.00000000e+00\n",
      "    1.00000000e+00  -2.22044605e-16]]\n"
     ]
    }
   ],
   "source": [
    "from sklearn.metrics.pairwise import cosine_similarity\n",
    "dist = 1 - cosine_similarity(tfidf_matrix)\n",
    "print(dist)"
   ]
  },
  {
   "cell_type": "markdown",
   "metadata": {},
   "source": [
    "### Clustering using K-means and optimal clsuter size using distortion/silhouette score "
   ]
  },
  {
   "cell_type": "code",
   "execution_count": 15,
   "metadata": {},
   "outputs": [
    {
     "data": {
      "image/png": "[encoded data removed]",
      "text/plain": [
       "<matplotlib.figure.Figure at 0x1a1c21cd30>"
      ]
     },
     "metadata": {},
     "output_type": "display_data"
    },
    {
     "data": {
      "image/png": "[encoded data removed]",
      "text/plain": [
       "<matplotlib.figure.Figure at 0x1a21b24390>"
      ]
     },
     "metadata": {},
     "output_type": "display_data"
    }
   ],
   "source": [
    "from sklearn.cluster import KMeans\n",
    "from sklearn import metrics\n",
    "import matplotlib.pyplot as plt\n",
    "\n",
    "\n",
    "%matplotlib inline\n",
    "\n",
    "sil_scores = []\n",
    "distortions = []\n",
    "for i in range (5,15):\n",
    "    km = KMeans(n_clusters=i,random_state=10,verbose=0)\n",
    "    Y = km.fit_predict(tfidf_matrix)\n",
    " \n",
    "    distortions.append(km.inertia_)\n",
    "    if (i>=2):\n",
    "        sc = (metrics.silhouette_score(tfidf_matrix, Y))\n",
    "        sil_scores.append(sc)\n",
    "\n",
    "plt.plot(range(5,15), distortions, marker='o')\n",
    "plt.xlabel('Number of clusters')\n",
    "plt.ylabel('Distortion')\n",
    "plt.title(\"Elbow Plot with Inertia Score for various cluster sizes\")\n",
    "plt.show()\n",
    "\n",
    "\n",
    "plt.plot(range(5,15), sil_scores, marker='o')\n",
    "plt.xlabel('Number of clusters')\n",
    "plt.ylabel('Silhouette Score')\n",
    "plt.title(\"Silhouette Score for various cluster sizes\")\n",
    "plt.show()"
   ]
  },
  {
   "cell_type": "code",
   "execution_count": 16,
   "metadata": {
    "collapsed": true
   },
   "outputs": [],
   "source": [
    "km = KMeans(n_clusters=10,random_state=42,verbose=0)\n",
    "clusters = km.fit_predict(tfidf_matrix)"
   ]
  },
  {
   "cell_type": "markdown",
   "metadata": {},
   "source": [
    "### Cluster Analysis "
   ]
  },
  {
   "cell_type": "code",
   "execution_count": 17,
   "metadata": {
    "collapsed": true
   },
   "outputs": [],
   "source": [
    "qset = { 'question': qb.question, 'cluster': clusters }\n",
    "frame = pd.DataFrame(qset, columns = ['question','cluster'])"
   ]
  },
  {
   "cell_type": "code",
   "execution_count": 18,
   "metadata": {},
   "outputs": [
    {
     "data": {
      "text/html": [
       "<div>\n",
       "<style>\n",
       "    .dataframe thead tr:only-child th {\n",
       "        text-align: right;\n",
       "    }\n",
       "\n",
       "    .dataframe thead th {\n",
       "        text-align: left;\n",
       "    }\n",
       "\n",
       "    .dataframe tbody tr th {\n",
       "        vertical-align: top;\n",
       "    }\n",
       "</style>\n",
       "<table border=\"1\" class=\"dataframe\">\n",
       "  <thead>\n",
       "    <tr style=\"text-align: right;\">\n",
       "      <th></th>\n",
       "      <th>question</th>\n",
       "      <th>cluster</th>\n",
       "    </tr>\n",
       "  </thead>\n",
       "  <tbody>\n",
       "    <tr>\n",
       "      <th>0</th>\n",
       "      <td>Three birds are flying at a fast rate of 900 k...</td>\n",
       "      <td>6</td>\n",
       "    </tr>\n",
       "    <tr>\n",
       "      <th>1</th>\n",
       "      <td>A ship is leaving a port. It takes 240 seconds...</td>\n",
       "      <td>0</td>\n",
       "    </tr>\n",
       "    <tr>\n",
       "      <th>2</th>\n",
       "      <td>A rectangular piece of cloth 2 feet wide was c...</td>\n",
       "      <td>0</td>\n",
       "    </tr>\n",
       "    <tr>\n",
       "      <th>3</th>\n",
       "      <td>In the xy-coordinate plane, which of the follo...</td>\n",
       "      <td>5</td>\n",
       "    </tr>\n",
       "    <tr>\n",
       "      <th>4</th>\n",
       "      <td>A travel company wants to charter a plane to t...</td>\n",
       "      <td>6</td>\n",
       "    </tr>\n",
       "  </tbody>\n",
       "</table>\n",
       "</div>"
      ],
      "text/plain": [
       "                                            question  cluster\n",
       "0  Three birds are flying at a fast rate of 900 k...        6\n",
       "1  A ship is leaving a port. It takes 240 seconds...        0\n",
       "2  A rectangular piece of cloth 2 feet wide was c...        0\n",
       "3  In the xy-coordinate plane, which of the follo...        5\n",
       "4  A travel company wants to charter a plane to t...        6"
      ]
     },
     "execution_count": 18,
     "metadata": {},
     "output_type": "execute_result"
    }
   ],
   "source": [
    "frame.head()"
   ]
  },
  {
   "cell_type": "code",
   "execution_count": 19,
   "metadata": {},
   "outputs": [
    {
     "data": {
      "text/plain": [
       "6    54\n",
       "1    47\n",
       "4    29\n",
       "3    28\n",
       "5    23\n",
       "7    20\n",
       "8    15\n",
       "0    15\n",
       "9    13\n",
       "2    10\n",
       "Name: cluster, dtype: int64"
      ]
     },
     "execution_count": 19,
     "metadata": {},
     "output_type": "execute_result"
    }
   ],
   "source": [
    "frame['cluster'].value_counts()"
   ]
  },
  {
   "cell_type": "code",
   "execution_count": 20,
   "metadata": {},
   "outputs": [
    {
     "data": {
      "image/png": "[encoded data removed]",
      "text/plain": [
       "<matplotlib.figure.Figure at 0x1a21bfeb70>"
      ]
     },
     "metadata": {},
     "output_type": "display_data"
    }
   ],
   "source": [
    "bar_width = 0.5 \n",
    "plt.bar(frame['cluster'].unique(),frame['cluster'].value_counts(),color='orange',width=bar_width)\n",
    "\n",
    "plt.xticks([])\n",
    "plt.xlabel('Cluster')\n",
    "plt.ylabel('# Questions in Cluster')\n",
    "plt.show()"
   ]
  },
  {
   "cell_type": "markdown",
   "metadata": {},
   "source": [
    "### Cluster Analysis - Lets look at the questions in each cluster"
   ]
  },
  {
   "cell_type": "code",
   "execution_count": 21,
   "metadata": {},
   "outputs": [
    {
     "name": "stdout",
     "output_type": "stream",
     "text": [
      "--------------------------------------------------------------------------------\n",
      "Questions in Cluster  0\n",
      "--------------------------------------------------------------------------------\n",
      "[ 0 ] A ship is leaving a port. It takes 240 seconds to passes through a 750m channel to get to the port gates, and takes 60 seconds to pass through the gates of the port. What is its length?\n",
      "[ 1 ] A rectangular piece of cloth 2 feet wide was cut lengthwise into two smaller rectangular pieces. The shorter piece was one-third of the length of the longer of the 2 new pieces and had an area of 12 square feet. What was the length Q in feet of the original piece of cloth before cutting?\n",
      "[ 2 ] A rectangle has twice the area of a square. The length of the rectangle is 14 cm greater than that side of the square whereas breadth is equal to side of the square. Find the perimeter of the square?\n",
      "[ 3 ] The volume of a wall, 5 times as high as it is broad and 8 times as long as it is high, is 12.8 cubic meters. Find the breadth of the wall.\n",
      "[ 4 ] After measuring 200 meters of a rope. It was discovered that the measuring meter rod was three centimeters longer. The true length of the rope measured is\n",
      "[ 5 ] ASB is a quarter circle. PQRS is a rectangle with sides PQ = 8 and PS = 6. What is the length of the arc AQB ?\n",
      "[ 6 ] A wire is cut into three equal parts. The resulting segments are then cut into 6, 8, and 10 equal parts, respectively. If each of the resulting segments has an integer length, what is the minimum length of the wire?\n",
      "[ 7 ] A rope can make 70 rounds of the circumference of a cylinder whose radius of the base is 14cm. how many times can it go round a cylinder having radius 20 cm?\n",
      "[ 8 ] If the volume of a tank is 4,120 cubic centimeters, what is the volume of the tank in cubic meters? (1 centimeter = 0.01 meter)\n",
      "[ 9 ] A certain straight corridor has four doors, A, B, C and D (in that order) leading off from the same side. How far apart are doors B and C? The distance between doors B and D is 10 meters. The distance between A and C is 12 meters.\n",
      "[ 10 ] A builder has to pour a concrete slab 12 centimeters thick to cover an area 10 meters long and 2 meters wide. How many cubic meters of concrete will the builder need?\n",
      "[ 11 ] If the area of a square region having sides of length 6 centimeters is equal to the area of a rectangular region having width 2 centimeters, then the length of the rectangle, in centimeters, is\n",
      "[ 12 ] If a rectangular box has two faces with an area of 25, two faces of area 50, and two faces of area 72, what is its volume?\n",
      "[ 13 ] The length of each side of an equilateral triangle having an area of 4√3 cm^2 is?\n",
      "[ 14 ] One side of a rectangular field is 4 m and its length along diagonal is 5 m. What is the area of the field?\n",
      "--------------------------------------------------------------------------------\n",
      "Questions in Cluster  1\n",
      "--------------------------------------------------------------------------------\n",
      "[ 0 ] Kirk sells cars. On two sales, Kirk has received commissions of $850, and $705, and he has one additional sale pending. If Kirk is to receive an average (arithmetic mean) commission of exactly $820 on the three sales, then the third commission must be:\n",
      "[ 1 ] In a certain conservative mutual fund, 60 percent of the money is invested in bonds, and of that portion, 40 percent is invested in highly rated corporate bonds. If at least $2.4 million in this fund is invested in highly rated corporate bonds, what is the smallest possible total value for the mutual fund?\n",
      "[ 2 ] Alex has enough money to buy 30 bricks. If the bricks each cost 20 cents less, Grace could buy 10 more bricks. How much money does Grace have to spend on bricks?\n",
      "[ 3 ] In a poll of 45,000 dentists, only 30 percent responded; of these, 20 percent claimed to prefer Toothpaste A. How many of the dentists who responded did not claim a preference for Toothpaste A?\n",
      "[ 4 ] In recent Malta elections, in a particular constituency, 100,000 votes were cast and each vote was cast for\n",
      "either Candidate A or Candidate B. If candidate A has won by 500 votes, what percent of the 100,000 votes\n",
      "were cast for Candidate A?\n",
      "[ 5 ] Glenn gains 10% from selling her scarf at $44. Her mom tells her she'll buy it from her but only after a family discount of 5%. What is Glenn's gain percent if she sells the scarf to her mom?\n",
      "[ 6 ] Elliot has $1500 to buy a new laptop. His father gave him another $600 for a better model. Elliot saw a new mobile and he decided to by it for 400$. Also, he bought a laptop for $1300\n",
      "How much money had Elliot left with?\n",
      "[ 7 ] Bill's shop sells candy bars by the full case. 80% of a full case is added to 96 candy bars already in the case to fill it. How many candy bars are in a full case?\n",
      "[ 8 ] At an elite baseball camp, 60% of players can bat both right-handed and left-handed. If 1/3 of the players who bat left-handed do not bat right-handed, what is the probability that a player selected at random does not bat left-handed?\n",
      "[ 9 ] During a particular year in city X, there were an average (arithmetic mean) of 16,000 car accidents per day on weekends and an average of 40,000 per day on each of the other days of the week. Which of the following is nearest to the total number of accidents last year?\n",
      "[ 10 ] 30% of all Huhulians own at least one TV. 24% of Huhulians who own at least one TV own at least four TV's. What percent of Huhulians own at least four TV's?\n",
      "[ 11 ] A man says that he gained 10 percent as profit in selling a suitable cloth material. He says if he had purchased the same one 10 percent cheaper than it was actual and if he had sold it for 20% profit he gets 25paise less. find at what price he sold the suit?\n",
      "[ 12 ] Last year Sahara, Tata, Singhania and Birla each has 250 industries. This year everyone has sold out 10 factories due to the recession of the economy and poor turnout. The average number of industries which of them now has\n",
      "[ 13 ] John invested $100 in each of the funds A and B. After one year, the value of the money in fund A was $10 higher than the value of the money in fund B. After another year, the value of the money in fund A was $25 higher than the value of the money in fund B. If the value of the money in each fund increased by a fixed interest compounded annually, what was the annual interest of fund A?\n",
      "[ 14 ] A batsman has scored an average of 46 runs for a certain number of innings played in England. When he came back to India, he played another two test matches of two innings each and scored at an average of 55 runs. For the innings in England and in India taken together, he has improved his average by 2 runs over the matches played in England. Find the number of innings played in England.\n",
      "[ 15 ] In a shipment of 120 machine parts, 5 percent were defective. In a shipment of 80 machine parts, 10 percent were defective. For the two shipments combined, what percent of the machine parts were defective?\n",
      "[ 16 ] Box W and Box V each contain several blue sticks and red sticks, and all of the red sticks have the same length. The length of each red stick is 19 inches less that the average length of the sticks in Box W and 6 inches greater than the average length of the sticks in Box V. What is the average (arithmetic mean) length, in inches, of the sticks in Box W minus the average length, in inches, of the sticks in Box V?\n",
      "[ 17 ] Under a buy one get one free offer, with the selling price of a t-shirt of 4200. The shopkeeper says he got 33.33% profit. What is cost price ?\n",
      "[ 18 ] A shop is offering discounts on shirts costing $20 each. If someone buys 2 shirts, he will be offered a discount of 15% on the first shirt and another 10% discount on the reduced price for the second shirt. How much would one pay for two shirts at this shop?\n",
      "[ 19 ] John and Mike had equal amount of money in savings at the beginning of last year. Then, Mike’s savings increased by 20% by the end of last year and decreased by 20% this year. John’s savings at first decreased by 20% by the end of last year and then increased by 20% this year. What percentage of John’s and Mike’s savings combined are John’s savings alone?\n",
      "[ 20 ] For a candidate to clear an examination, he/she must score 55% marks. If he/she gets 120 and fails by 78 marks, the total marks for the examination is\n",
      "[ 21 ] In a fuel station the service costs $2 per car, every liter of fuel costs $1. Assuming that a company owns 50 cars and that every fuel tank contains 80 liters and they are all empty, how much money total will it cost to fuel all cars?\n",
      "[ 22 ] Varsha bought a Laptop for $1060, which was the retail price plus a 6 percent sales tax. How much money could she have saved if she had bought the stereo at the same retail price in a neighboring state where she would have paid a sales tax of 5 percent?\n",
      "[ 23 ] The promoters of the Springfield music festival estimated a 60 percent increase in ticket sales from last year, but because of bad weather, ticket sales actually decreased by 20 percent from last year’s level. What percent of the projected ticket sales were the actual ticket sales?\n",
      "[ 24 ] Company X has 40 employees and company Y has 50 employees. Both companies have the same number of full time employees, but company Y has 4 more than twice the number of part-time employees that Company X has. How many part-time employees does Company Y have?\n",
      "[ 25 ] Three quarts of a bleaching chemical, Minum, contains 5 percent hydrogen peroxide and water. A different type of bleaching chemical, Maxim, which contains 20 percent hydrogen peroxide, will be mixed with the three quarts of Minum. How much of type Maxim should be added to the three quarts of Minum so that the resulting mixture contains 10 percent hydrogen peroxide?\n",
      "[ 26 ] Eesha has a wheat business. She purchases wheat from a local wholesaler of a particular cost per pound. The price of the wheat of her stores is $3 per kg. Her faulty spring balance reads 0.9 kg for a KG. Also in the festival season, she gives a 10% discount on the wheat. She found that she made neither a profit nor a loss in the festival season. At what price did Eesha purchase the wheat from the wholesaler ?\n",
      "[ 27 ] A test consists of two sections. The first section contains 40 questions and the second section contains 80 questions. If a student answered 70 percent of all the questions in the test correctly and answered 60 percent of the questions in the second section correctly, what percent of the questions did the student answer in the first section correctly?\n",
      "[ 28 ] A certain business printer can print 100 characters per second, which is 5 times faster than an average printer. If an average printer can print 4 times faster than an electric typewriter, how many characters per minute can an electric typewriter print?\n",
      "[ 29 ] 50% of all high school students hate roller coasters; the rest love them. 20% of those students who love roller coasters own chinchillas. What percentage of students love roller coasters but do not own a chinchilla?\n",
      "[ 30 ] A printer started its work at 8.15 a.m and ended its work at 9.20 p.m. It was interrupted twice for the time duration of 42 min. It can print 100 instructions per hour. Approximate how many instructions it printed?\n",
      "[ 31 ] You are buying pumpkins at a local farmer's market and are paying for the pumpkins by weight. Your container weighs 30 pounds. The pumpkins plus the container weighs 90 pounds. If you bought 10 pumpkins, how much was the average weight of your pumpkins?\n",
      "[ 32 ] Last year Joe grew 2 inch and Sally grew 200 percent more than Joe grew. How many inches did Sally grow last year?\n",
      "[ 33 ] Akhil has twice as much money as Sohan and Sohan has 50% more money than what Pankaj has. If the average money with them is Rs 110, then Akhil has\n",
      "[ 34 ] A single refined oil can contains 20% impurities. After double–refining, it contains 4% impurities. How much of double-refined oil can be obtained from 30 litres of single refined oil?\n",
      "[ 35 ] In an election, 68% of the voters exercised their franchise. Of these, 48% were women. The number of males exercising their franchise was 53,040. How many eligible voters were there in total?\n",
      "[ 36 ] At a delivery store, seven packages have an average (arithmetic mean) weight of 222 kg and a median weight of 270 kg. What is the maximum possible weight, in kilograms, of the lightest package?\n",
      "[ 37 ] Jay is selling his shoes and making a 15% gain from it. His friend wants to buy them so he offers him a 5% discount. At what price did Jay originally buy his shoes, if he sold it to his friend for $218.50?\n",
      "[ 38 ] Gina and Tina's average grade is 23 points higher than Tina's grade. What is the difference between their grades?\n",
      "[ 39 ] Q is 30% of N. N is 170% of Y. What percentage of Y is Q?\n",
      "[ 40 ] My company's funding allows for 5 employees. The proposed offer is $315,000 to distribute evenly to the workers, but they employees are demanding $65,000 each. How much more money does the company need to offer to pay all the workers this amount?\n",
      "[ 41 ] In a group of 18 children, there are twice as many girls as boys, and twice as many right-handed people as there are left-handed people. If a sixth of the boys are left-handed, how many girls are right-handed?\n",
      "[ 42 ] A salesman makes a 10% commission on the selling price for each light switch he sells. If he sells 220 switches and the selling price of each switch is $6, what is his total commission?\n",
      "[ 43 ] G and H are each equal to 20% of Z. If G, H, and F are equal to 100% of Z together, what percentage of Z is F?\n",
      "[ 44 ] Consider a school which consists of boys, girls and one teacher. There twice as many girls as boys. During prayer, this school follows a procedure where people bows to each other. Each girl and boy is required to bow to other girls, boys and their teacher. Each day 900 bows are completed. Find how many boys there are in the school ?\n",
      "[ 45 ] If a jewelry store wants to sell a necklace for $179.95 next week at a 50% off sale, how much is the price of the necklace this week?\n",
      "[ 46 ] In a end-of-season sale, the prices at a store have been cut to 90%. How many dollars would a $50 item cost?\n",
      "--------------------------------------------------------------------------------\n",
      "Questions in Cluster  2\n",
      "--------------------------------------------------------------------------------\n",
      "[ 0 ] Solution A has 5% salt concentration and remaining water. After heating 50 litres of Solution A at a certain temperature, due to evaporation, the salt concentration increases to 10%. The amount of water remaining in the solution would be\n",
      "[ 1 ] In a mixture, the ratio of spirit and water is 3:2. If the amount of spirit is 3 litre more than amount of water, calculate the amount of spirit in mixture?\n",
      "[ 2 ] A cube shaped pool is half full of water. If the water is 36 inches deep, how much would the\n",
      "water in the pool weigh if the pool were filled to the brim? (1 cubic foot weighs 56 pounds)\n",
      "[ 3 ] In a mixture of milk and water, there is only 26% water. After replacing the mixture with 7 liters of pure milk, the percentage of milk in the mixture become 76%. The quantity of the mixture is:\n",
      "[ 4 ] Vegetables contains 68% water and green vegetables contains 20% water. How much green vegetables can be obtained from 100 kg of Vegetables ?\n",
      "[ 5 ] x contains 85% water and 15% oil; how many more liters of water than liters of oil are in 200 liters of solution x?\n",
      "[ 6 ] A sink contains exactly 11 liters of water. If water is drained from the sink until it holds exactly 5 liters of water less than the quantity drained away, how many liters of water were drained away?\n",
      "[ 7 ] A 5 liter mixture of water and sugar is 50% sugar. If 1 liter of water is added, approximately what is the % of the new mixture of sugar?\n",
      "[ 8 ] Equal quantities of three mixtures of milk and water are mixed in the ratio 1:2, 2:3 and 3:4. The ratio of water and milk in the mixture is:\n",
      "[ 9 ] I have an amazing bath tub having both hot and cold water taps.\n",
      "The cold water tap can fill my tub in 6 hours while cold water tap can fill the tub in approximately 4 hours.\n",
      "I turned them on simultaneously but forgot to close the lid which removes the water out of tub.\n",
      "The lid can empty the tub in exact 13 hours.\n",
      "Since both taps are open along with the lib, can you estimate the time needed to fill the bath tub?\n",
      "--------------------------------------------------------------------------------\n",
      "Questions in Cluster  3\n",
      "--------------------------------------------------------------------------------\n",
      "[ 0 ] ABC company pays an average of $120 per vehicle each month in outdoor parking fees for three of its eight vehicles. The company pays garage parking fees for the remaining five vehicles. If ABC pays an average of $240 per vehicle overall each month for parking, how much does ABC pay per month in garage parking fees for its vehicles?\n",
      "[ 1 ] Money is paid into an account in portions of $500 and paid out in portions of $300. If after a month the account grew by $1,200, what is the least possible number of transactions that could have been made?\n",
      "[ 2 ] The H.C.F and L.C.M. of two numbers are 50 and 100 respectively. If the first number is divided by 2, the quotient is 50, the second number is:\n",
      "[ 3 ] There are N numbers of gold biscuits in the house, in which four people are lived. If the first men woke up and divided the biscuits into 5 equal piles and found one extra biscuit. He took one of those piles along with the extra biscuit and hid them. He then gathered the 4 remaining piles into a big pile, woke up the second person and went to sleep. Each of the other 3 persons did the same one by one i.e. divided the big pile into 5 equal piles and found one extra biscuit. Each hid one of the piles along with the extra biscuit and gathered the remaining 4 piles into a big pile. If N>1000, what could be the least value of N?\n",
      "[ 4 ] In tennis, service alternates for each game between the two players and the first player to win 6 games wins. A player winning 6-2 indicates that 8 games were played, of which the winning player won 6 and the losing player won 2.Rafa beat Roger in a set of tennis, winning six games to Roger’s three. Five games were won by the playerwho did not serve. Who served first?\n",
      "[ 5 ] Of two numbers, 4 times the smaller one is less then 3 times the larger one by 5. If the sum of the numbers is larger than 6 times their difference by 6, find the two numbers.\n",
      "[ 6 ] Peter piper picked a pack of pickled peppers according to the function Y=(1/X)*X^3-7. If X=3 how many pickled peppers did he pick?\n",
      "[ 7 ] M is a set of even numbers from 1 to 23 and odd numbers from 24 to 100. Find no. of zeroes in the sum of all values in the set.\n",
      "[ 8 ] During a 10-week period, a doughnut store conducted a promotion by giving away one free doughnut with every doughnut purchased. If the store sold and gave away a total of K doughnuts per week, and each doughnut was sold for $0.25, how many dollars worth of doughnuts did the store give away?\n",
      "[ 9 ] A college has 10 basketball players. A 5-member team and a captain will be selected out of these 10 players. How many different selections can be made?\n",
      "[ 10 ] A salesman enters the quantity sold and the price into the computer. Both the numbers are two-digit numbers. But, by mistake, both the numbers were entered with their digits interchanged. The total sales value remained the same, i.e. Rs. 1,148, but the inventory reduced by 54.\n",
      "What is the actual price per piece?\n",
      "[ 11 ] Country Club has an indoor swimming club. Thirty percent of the members of a swim club have passed the lifesaving test. Among the members who have not passed the test, 12 have taken the preparatory course and 30 have not taken the course. How many members are there in the swim club?\n",
      "[ 12 ] Bill owns a large collection of fishing lures consisting of small, medium, and large lures that weigh 3, 4, and 5 grams each, respectively. If the product of the lure weights that Bill sold to his friend is 216,000 grams, how many medium lures did he sell?\n",
      "[ 13 ] The spherical ball of lead 3 cm in diameter is melted and recast into 3 spherical balls. The diameters of two of these are 1 1/2 cm and 2 cm respectively. The diameter of third ball is?\n",
      "[ 14 ] In a very big class, 40% of the students enrolled for Math and 70% enrolled for Economics. If 15% of the students enrolled for both Math and Economics, what % of the students of the class did not enroll for either of the two subjects?\n",
      "[ 15 ] A fisherman's day is rated as good if he catches 9 fishes, fair if he catches 7 fishes and poor if he catches 5 fishes. The fisherman catches 53 fishes in a week that includes good, fair and poor days. How many good days the fisherman had during the week?\n",
      "[ 16 ] Preston's Health Foods makes a mixed nut blend that contains 26% cashews. Simon, one of the workers at the plant, has 9 kilograms of nuts that are 30% cashews. He also has a large supply of mixed nuts that contain 22% cashews. How many kilograms of the 22% cashew mix does Simon need to add to the 30% cashew mix to obtain a mix that is 26% cashews?\n",
      "[ 17 ] A, B and C are three contestants in a 1000 m race. If A finishes the race 40 m ahead of B and 64 m ahead of C, how much did each of them cover at that time?\n",
      "[ 18 ] A Doctor must see 35 patients in a day. At 4 PM the doctor had seen 21 of his patients. What percentage of patients had he not seen ?\n",
      "[ 19 ] The sum of odd numbers between 20 and 30 is\n",
      "[ 20 ] At a casino, gamblers spin a number-wheel containing positive, two-digit numbers. If the gambler bets on a prime number, he/she will win 2 times their bet, if the wheel shows that number. If the gambler bets on a non-prime number, he/she only wins half their bet, if the wheel shows that number. If a gambler won $100, which of the choices is possible?\n",
      "I. bet $50 on 11\n",
      "II. bet $50 on 21\n",
      "III. bet $200 on 89\n",
      "[ 21 ] One day in December 2015, three 2-digit prime numbers A, B and C, were\n",
      "given to three members of a High School math team: Ashley, Beth, and Caitlin (respectively).\n",
      "They had this conversation:\n",
      "Ashley: \\If you two add your numbers, we get precisely today's date!\"\n",
      "Beth: \\If you two add your numbers, we get my birthday this month, which was before today.\"\n",
      "Caitlin: \\If you two add your numbers, we get my birthday this month, which is after today.\"\n",
      "What number did Caitlin get?\n",
      "[ 22 ] A farmer is trying to grow the largest pumpkin for the county fair. He estimates that in one month he will grow his current largest pumpkin by 35 percent. A traveling salesman offers him a plant fertilizer that is guaranteed to help grow the pumpkin an additional 5 percent. If the salesman's product works, what is the total percentage increases the farmer will achieve with his pumpkin in one month.\n",
      "[ 23 ] The measures of the interior angles taken in order of a polygon form an arithmetic sequence. The least measurement in the sequence is 850. The greatest measurement is 2150. Find the number of sides in the given polygon\n",
      "[ 24 ] A salon spa loyalty program magazine charges a $250 program fee. In light of new tax laws, the price is planned to be increased by $40. If the program could lose 400 subscribers thereafter and still collect the same revenue as it did before, how many subscribers did the magazine have last year?\n",
      "[ 25 ] A picks a number from the bag where the bag consists of numbers from {1,2....23} and puts it in the same bag. Now, another person B picks a number from the bag. Find the probability that A has picked a greater number than B?\n",
      "[ 26 ] If an electricity bill is paid before due date, one gets a reduction of 4 % on the amount of the bill. By paying the bill before due date, a person got a reduction of 13 . The amount of his electricity bill was\n",
      "[ 27 ] A password needs to contain 2 letters and 3 numbers. How many different passwords are possible if repetition of letters and numbers is allowed?\n",
      "--------------------------------------------------------------------------------\n",
      "Questions in Cluster  4\n",
      "--------------------------------------------------------------------------------\n",
      "[ 0 ] A trader bought some books for Rs 8 each. The wholesaler gave 15% discount on each of the books. If the discount amount deducted on the bill was Rs 216, how many books did he buy?\n",
      "[ 1 ] The salaries of Kiran, Prakash and Sanjay are in the ratio of 2 : 3 : 4. The salary of Prakash and Sanjay together is Rs. 56000. The manager plans to increment the salary of Prakash from his current package and does so by increasing his salary so that it is 1 rupee more than that of Sanjay. Now, if Kiran wishes to demand a salary that will surpass Prakash's by 1 Rupee, how much he should demand ?\n",
      "[ 2 ] A wholesaler allows a discount of 20 % on the list price to the retailer. The retailer sells at 5% below the list price. If the customer pays Rs.19 for an article what profit is made by the retailer on it?\n",
      "[ 3 ] A man earns RS. 20 on the first day and spends Rs. 15 on the next day. He again earns Rs. 20 on the third day and spends Rs. 15 on the fourth day. If he continues to save like this, how soon will he have Rs. 60 in hand?\n",
      "[ 4 ] An investor purchased shares of stock at a certain price. If the stock increased in price Rs 0.25 per share and the total increase for the x shares was Rs 12.50, how many shares of stock had been purchased?\n",
      "[ 5 ] The marked price of a clock is Rs.6400. It is to be sold at Rs.4896 at two successive discounts. If the first discount is 10%, the second discount is\n",
      "[ 6 ] If a cellphone is purchased for Rs.490 and sold for Rs.465.50 find the loss percentage?\n",
      "[ 7 ] If a man reduces the selling price of a fan from Rs.400 to Rs.380, his loss increases by 2%. The cost price of the fan is\n",
      "[ 8 ] Ashish is given Rs. 158 in one-rupee denominations. He has been asked to allocate them into a number of bags such that any amount required between Re 1 and Rs. 158 can be given by handing out a certain number of bags without opening them. What is the minimum number of bags required?\n",
      "[ 9 ] The ratio of A’s and B’s salary is 9 : 4. If A’s salary is increased by 15%, then his total salary becomes 5175. What is the salary of B?\n",
      "[ 10 ] Cost of 3 cricket balls = cost of 2 pairs of leg pads. Cost of 3 pairs of leg pads = cost of 2 pairs of gloves. Cost of 3 pairs of gloves = cost of 2 cricket bats. If a cricket bat costs Rs 54, what is the cost of a cricket ball?\n",
      "[ 11 ] If a quarter kilogram costs Rs.60 then how much will cost for 150 grams?\n",
      "[ 12 ] Anil invests an amount for 2 years at the rate of 15% per annum at simple interest.Had he invested in a scheme in which interest was compounded yearly he would have got Rs.450 more. Find the principal\n",
      "[ 13 ] A shop gives 10% discount on the purchase of an item. If paid for in cash immediately, a further discount of 12% is given. If the original price of the item is Rs. 250, what is the price of the article if a cash purchase is made?\n",
      "[ 14 ] When an item is sold for Rs. 18,700 the owner loses 15%. At what price should that plot be sold for a gain of 15%?\n",
      "[ 15 ] A loan was repaid in two annual instalments of Rs.112 each. If the rate of interest be 10% per annum compounded annually, the sum borrowed was :\n",
      "[ 16 ] A banana costs Rs.3 and an apple costs Rs.4. What will be the total cost of 4 dozen of apples and bananas?\n",
      "[ 17 ] A 2 metre broad pathway is to be constructed around a rectangular plot on the inside. The area of the plots is 96 sq.m. The rate of construction is Rs. 50 per square metre. Find the total cost of the construction?\n",
      "[ 18 ] John needs to mix a cleaning solution in the following ratio: 1 part bleach for every 4 parts water. When mixing the solution, John makes a mistake and mixes in half as much bleach as he ought to have. The total solution consists of 36 ml. How many ml of bleach did John put into the solution?\n",
      "[ 19 ] Some students arranged picnic. The budget was Rs. 240. Because four students of the group failed to go, the cost to each student was increased by Rs.5. How many students went for the picnic?\n",
      "[ 20 ] A man buys a watch for Rs. 1950 in cash and sells it for Rs. 2200 on credit of 1 year. If the rate of interest is 10% per annum, the man:\n",
      "[ 21 ] A man invests Rs. 128 and obtained Rs. 16. The interest obtained by him is:\n",
      "[ 22 ] Divide the number 49 into two parts, such that if the greater part is increased by 6 and the lesser part is decreased by 11, their ratio is 9 to 2.\n",
      "[ 23 ] The prices of a scooter and a television set are in the ratio 3:2 . If a scooter costs Rs.6000 more than the television set, the price of the scooter is :\n",
      "[ 24 ] A scooter and a television cost ratio is 8:7. If cost of scooter is 4000 rs. more than television. Then, calculate the cost of television?\n",
      "[ 25 ] Divide Rs.32000 in the ratio 3:5?\n",
      "[ 26 ] What is the interest due after 40 days for Rs. 3200 at 10% interest per year?\n",
      "[ 27 ] In 1978, a kg of paper was sold at Rs25/-. If the paper rate increases at 1.5% more than the inflation rate which is 6.5% a year, then what will be the cost of a kg of paper after 2 years?\n",
      "[ 28 ] The ratio of a numerator to denominator is 2:3. If six is subtracted from the numerator, the new fraction is now 2/3 of the original fraction. Find the numerator.'\n",
      "--------------------------------------------------------------------------------\n",
      "Questions in Cluster  5\n",
      "--------------------------------------------------------------------------------\n",
      "[ 0 ] In the xy-coordinate plane, which of the following points must lie on the line kx + 2y = 6 for every possible value of k?\n",
      "[ 1 ] If a number of apples, say x, is divisible by 3 and 9, x is a multiple of which of the following values?\n",
      "[ 2 ] A sphere is surrounded by the smallest cylinder that will just contain it. Which of following is a complete set of the points where the cylinder touches the sphere?\n",
      "I. One point,\n",
      "II. Two points,\n",
      "III. A Circle\n",
      "[ 3 ] If (x # y) represents the remainder that results when the positive integer x is divided by the positive integer y, what is the sum of all the possible values of y such that (16 # y) = 3?\n",
      "[ 4 ] The function P~ can be expressed as 2-P for all values of P. What is the value of (7~)~?\n",
      "[ 5 ] If a number is chosen at random from the set {1, 2, 3, ...., 100}, then the probability that the chosen number is a perfect cube is?\n",
      "[ 6 ] The least possible value of |89 - 9a|, where a is an integer, is\n",
      "[ 7 ] Which of the following is the equation of a line that goes through the point (10,5) and has an x-intercept of 5.\n",
      "[ 8 ] The least perfect square number, exactly divisible by 21, 36 and 56 is?\n",
      "[ 9 ] If P represents a single digit in the four digit number x=18P6, how many different values of P are there such that x is divisible by 8?\n",
      "[ 10 ] The mean proportional between 45 and a certain number is three times the mean proportional between 5 and 22. The number is ?\n",
      "[ 11 ] Mr. Bean chooses a number and he keeps on doubling the number followed by subtracting one from it, if he chooses 3 as initial number and he repeats the operation for 30 times then what is the final result?\n",
      "[ 12 ] A fair coin is tossed 6 times. If heads appears on the first 2 tosses, then what is the total number of heads we would expect after all 6 tosses.\n",
      "[ 13 ] If 300 billion French francs is equivalent to 50 billion United States dollars, which of the following expressions represents the number of United States dollars equivalent to f francs?\n",
      "[ 14 ] A girl counted in the following way on the fingers of her left hand : She started by calling the thumb 1, the index finger 2, middle finger 3, ring finger 4, little finger 5 and then reversed direction calling the ring finger 6, middle finger 7 and so on. She counted upto 1994. She ended counting on which finger ?\n",
      "[ 15 ] If 2s > 8 and 4t < 12, which of the following could be the value of s-t?\n",
      "I. -1\n",
      "II. 0\n",
      "III. 1\n",
      "[ 16 ] An engineering student has to secure 36% marks to pass. He gets 130 marks and fails by 14 marks. The maximum number of marks obtained by him is?\n",
      "[ 17 ] There are 6 multiple choice questions in an examination. How many sequences of answers are possible, if the first three questions have 4 choices each and the next three have 5 each?\n",
      "[ 18 ] A merchant has three different types of milk: 435 liters, 493 liters and 551 liters. Find the least number of casks of equal size required to store all the milk without mixing.\n",
      "[ 19 ] At an amusement park, tom bought a number of red tokens and green tokens. Each red token costs $0.05, and each green token costs $0.14. If Tom spent a total of exactly $2.06, how many token in total did Tom buy?\n",
      "[ 20 ] When a number is divided by 6 and then multiplied by 12 and the answer is 9, what is the number?\n",
      "[ 21 ] A bakery has 4 varieties of pastries. Each variety is having many number of pastry. I want to purchase of 10 pastries such that I get to taste each variety. How many ways to purchase?\n",
      "[ 22 ] John spent 72% of his budget on fruits ( including apples) , and 36% of his budget on apples. What percent of the money spent on Fruits were not spent on apples.\n",
      "--------------------------------------------------------------------------------\n",
      "Questions in Cluster  6\n",
      "--------------------------------------------------------------------------------\n",
      "[ 0 ] Three birds are flying at a fast rate of 900 kilometers per hour. What is their speed in miles per minute? [1km = 0.6 miles]\n",
      "[ 1 ] A travel company wants to charter a plane to the Bahamas. Chartering the plane costs $5,000. So far, 12 people have signed up for the trip. If the company charges $200 per ticket, how many more passengers must sign up for the trip before the company can make any profit on the charter?\n",
      "[ 2 ] Let A, B and C denote the vertices of a triangle with area 10. Let point D be on side AB,\n",
      "point E be on side BC and point F be on side CA with AD = 2 and DB = 3. The area of\n",
      "△ABE and the area of quadrilateral DBEF are the same. What is the value of this area?\n",
      "[ 3 ] In how many arrangements can you arrange 3 green cones and 3 blue cones in a line along the boundary of football ground if no two cones of the same color are to be adjacent?\n",
      "[ 4 ] A car traveled 40 mph from Belnap to Lincoln and 50 mph from Lincoln to Belnap. If the whole trip was 660 miles, how long did the round trip take?\n",
      "[ 5 ] A group of stock analysts had a contest. Each analyst picked 5 stocks out of a list of 30 stocks to purchase. If each of the stocks was picked exactly 6 times, how many analysts were in the contest?\n",
      "[ 6 ] The root(s) of 15/(x2 - 4) – 2/(x - 2) = 1 is (are):\n",
      "[ 7 ] A car after covering 1/2 of a journey of 100 km develops engine trouble and later travels at 1/2 of its original speed. As a result, it arrives 2 hours late than its normal time. What is the normal speed of the car is?\n",
      "[ 8 ] A dog takes 4 leaps for every 5 leaps of a hare but 3 leaps of a dog are equal to 4 leaps of the hare. Compare their speeds.\n",
      "[ 9 ] Two trains under a controlled experiment begin at a speed of 100 mph in the opposite direction in a tunnel. A supersonic bee is left in the tunnel which can fly at a speed of 1000 mph. The tunnel is 200 miles long. When the trains start running on a constant speed of 100 mph, the supersonic bee starts flying from one train towards the other. As soon as the bee reaches the second train, it starts flying back towards the first train.\n",
      "If the bee keeps flying to and fro in the tunnel till the trains collide, how much distance will it have covered in total?\n",
      "[ 10 ] David bought 13 BMW cars for a total price of 1,105,000 dollars. If he wants to make a profit of 39,000 dollars in the deal, at what price should he sell one car?\n",
      "[ 11 ] A small business invests $9,800 in equipment to produce a product. Each unit of the product costs $0.65 to produce and is sold for $1.20. How many units of the product must be sold before the revenue received equals the total expense of production, including the initial investment in equipment?\n",
      "[ 12 ] 3 men and 3 women need to be seated in 2 rows with 3 chairs in each row. All men have to be seated in the back row. How many ways can this be done?\n",
      "[ 13 ] Bert and Ernie are among 12 tenants on Sesame Street, from which 9 tenants are to be selected for the neighborhood watch. Of the different possible selections, how many contain neither Bert nor Ernie?\n",
      "[ 14 ] Marla starts running around a circular track at the same time Nick starts walking around the same circular track. Marla completes 32 laps around the track per hour and Nick completes 12 laps around the track per hour. How many minutes after Marla and Nick begin moving will Marla have completed 5 more laps around the track than Nick?\n",
      "[ 15 ] John buys koolaid for 12$ at a local store. If he bought it at the wholesale store he would get an extra liter of koolaid for the same cost. Also, the koolaid is 1$ cheaper per liter at the wholesale store. What is the price per liter of the koolaid at the local store?\n",
      "[ 16 ] A circular gear with a diameter of 25 cm is mounted directly over another circular gear with a diameter of 100 cm. Both gears run on the same axle at their exact centers and each gear has a single notch at the 12 o'clock position. At the same moment, the gears start to rotate at the same rate in cm/s, with the larger gear moving clockwise and the smaller gear moving anticlockwise.\n",
      "How far in centimeters will the notch on the larger gear have moved the second time the notches pass each other?\n",
      "[ 17 ] A canteen requires 62 kgs of wheat for 6 days. How many kgs of wheat will it require for 60 days?\n",
      "[ 18 ] A shopkeeper gives a full bottle of soft drink in return for five empty bottles. A guy has 77 empty bottles and he can use them to get full soft drink bottles.\n",
      "How many filled bottles will he be able to collect?\n",
      "[ 19 ] A car travels at a speed of x kilometers per p hours. How many meters will it travel in s seconds, in terms of s, p and x. (xps ≠ 0; 1 kilometer = 1000 meters)?\n",
      "[ 20 ] The ratio between the speeds of the A and B is 2:3, and therefore A takes 10 min more than the time taken by B to reach the destination. If A had walked at double the speed, he would have covered the distance in\n",
      "[ 21 ] If 0.497 mark has the value of one dollar, what is the value to the nearest dollar of 150 marks?\n",
      "[ 22 ] There are two friends A and B. A starts with his car at the speed 40 kmph. B starts one hour later from the same place, in the same direction on his bike at the speed of 50 kmph. After how many hours will they meet ?\n",
      "[ 23 ] Every day a cyclist meets a train at a particular crossing. The road is straight before the crossing and both are travelling in the same direction. The cyclist travels with a speed of 10 kmph. One day the cyclist comes late by 25 min and meets the train 5km before the crossing. What is the speed of the train?\n",
      "[ 24 ] Two trains are running with speed 30 km/hr. and 58km/hr. in the same direction. A man in the slower train passes the faster train in 18 seconds. The length (in metres) of the faster trains is:\n",
      "[ 25 ] In a village, there are four tribes located at different distances from each other. Tribe R is 60 miles away from Tribe P; Tribe S 40 miles away from Tribe B and Tribe R is 10 miles nearer to the Tribe S than it is to Tribe Q.\n",
      "How far is the Tribe S located from the tribe P ?\n",
      "[ 26 ] Of the new vehicles registered in a week, 300 were neither SUVs nor were they powered by diesel. 3/4th of the SUVs registered were diesel powered and there were half as many SUVs as there were non SUVs. If SUVs not powered by diesel were a sixth of non SUVs not powered by diesel, how many vehicles V registered in the week were powered by diesel?\n",
      "[ 27 ] A soda can, in the shape of a circular cylinder, is 3/4 full of soda. If the volume of soda in the can is 72π cubic inches and the diameter of the can is 8 inches, then what is the height, in inches, of the can?\n",
      "[ 28 ] In a city, 20% of the population travels by car, 50% travels by bus and 10% travels by both car and bus. Then, the percentage of the population that travels by either car or bus is...\n",
      "[ 29 ] In how many ways to choose a group of 3 people from 6 couples so that no couple is chosen\n",
      "[ 30 ] A train does a journey without stopping for 8 hours. If it had traveled 5 km an hour faster, it would have done the journey in 6 hours 40 min. What is its slower speed?\n",
      "[ 31 ] The steamer going upstream would cover the distance between Town A and Town B in 5 hours. The same steamer going downstream would cover the distance between the towns in 3 hours. How long would it take a raft moving at the speed of the current to float from B to A?\n",
      "[ 32 ] In your study are displayed your 5 favourite puzzle books. If you decide to arrange the five books in every possible combination and moved just one book every minute, how long would it take you ?\n",
      "[ 33 ] A cheerleading squad practices 1 hour a day from Monday through Thursday for a competition on Saturday. How many hours would they need to practice on Friday in order to have practiced an average of 2 hours a day over the 5 days from Monday through Friday?\n",
      "[ 34 ] The binary representation of 0.6875 is ?\n",
      "[ 35 ] A letter has to be printed 100 lines with 80 character, if the same letter is printed with 40 characters per line, how many lines will it have?\n",
      "[ 36 ] The sum of 3rd and 15th elements of an arithmetic progression is equal to the sum of the 6th, 11th and 13th elements of the same progression. Then, which element of the series should necessarily be equal to zero ?\n",
      "[ 37 ] An accurate clock shows 7 o'clock in the morning. The hour hand then rotates by 90o. The time in the clock is:\n",
      "[ 38 ] How many parallelograms will be formed if 7 parallel horizontal lines intersect 6 parallel vertical lines?\n",
      "[ 39 ] The cost of Brand V paper is proportional to the weight. If 12 ounces of Brand V paper cost $ 12, what is the cost of 16 ounces of Brand V paper?\n",
      "[ 40 ] A, B and C start at the same time in the same direction to run around a circular stadium. A completes a round in 252 seconds, B in 308 seconds and c in 198 seconds, all starting at the same point. After what time will they again at the starting point ?\n",
      "[ 41 ] The distance between Omaha and Lincoln is 60 miles. John drives a car that gets 30 miles per gallon of gas, and David drives a car that gets 20 miles per gallon. How many more gallons of gas does David use on a round trip from Omaha to Lincoln?\n",
      "[ 42 ] In 1989 the price of a new model S car was x dollars. If the price of the model S car increased each year by 10 percent of the previous year's price, what was the price of the car, in dollars, in 1991?\n",
      "[ 43 ] Esteban is in a line at a theater. If he is the 26th person counting from the back of the line and the 18th person counting from the front of the line, how many people are in the line?\n",
      "[ 44 ] A cycled from P to Q at 10 kmph and returned at the rate of 9 kmph. B cycled both ways at 12 kmph. In the whole journey B took 10 minutes less than A. Find the distance between P and Q.\n",
      "[ 45 ] An engine of length 1000 m moving at 10 m/s. A bird is flying from the start of the engine to the end at x kmph and coming back at 2x. Take total time of bird traveling as 187.5 seconds. Find x and 2x\n",
      "[ 46 ] Davji Shop sells samosas in boxes of different sizes. The samosas are priced at Rs. 2 per samosa up to 200 samosas. For every additional 20 samosas, the price of the whole lot goes down by 10 paise per samosa. What should be the maximum size of the box that would maximise the revenue?\n",
      "[ 47 ] Fernando Alonso and Sebastian Vettel go for a car race. Before the start of race, both of them have the exactly same amount of fuel in their respective cars. With the given fuel Fernando can drive continuously for 4 hours while Vettel can drive 1 hour more.\n",
      "After some time they realize that amount of fuel left in Sebastian car is 4 times the fuel in Fernando car.\n",
      "For long have they been racing ?\n",
      "[ 48 ] Kelly finished 30th in a marathon race. if he was the 65th slowest in the race, how many runners were in the race?\n",
      "[ 49 ] A car is moving at the speed of 60 km per one hour. What is the time elapsed after traveling 130 km?\n",
      "[ 50 ] Company X receives 16 applications for a job, 6 of which are from present employees of the company. If 3 of the applicants are to be hired, including exactly one of the applicants who is not a present employee of the company, how many distinct groups of applicants can be selected?\n",
      "[ 51 ] An oculist charges $30.00 for an eye examination, frames, and glass lenses, but $48.00 for an eye examination, frames, and plastic lenses. If the plastic lenses cost four times as much as the glass lenses, how much do the glass lenses cost?\n",
      "[ 52 ] Ram has 12 pennies. He lost 5 of his pennies, how many does he have now?\n",
      "[ 53 ] A ticket to Disney land costs $24. Maria has been saving all summer to buy tickets for her and 15 friends. She has saved $323 so far. How much more will need to be saved in irder to buy the tickets.\n",
      "--------------------------------------------------------------------------------\n",
      "Questions in Cluster  7\n",
      "--------------------------------------------------------------------------------\n",
      "[ 0 ] A certain state imposes a 4% tax on the nightly rates of hotel room. A certain hotel in this state also charges a $2.00 nightly fee per room, which is not subject to tax. If the total charge for a room for one night was $72.72 , what was the nightly rate of the room?\n",
      "[ 1 ] Which is a longer period of time: 3 hours or 175 minutes?\n",
      "[ 2 ] A is 30% more efficient than B. How much time will they, working together, take to complete a job which A along could have done in 23 days?\n",
      "[ 3 ] An agent gets a 5% commission on sales of cloths. In a certain day he got $500 as commission. The cloths sold through him on that day is worth?\n",
      "[ 4 ] A certain prosthodontist specializes in implanting gold and silver teeth in his patients’ mouths. He charges $650 for a gold tooth and $325 for a silver tooth. If his total fees for implanting gold and silver teeth last week were $15,925 in total, and he implanted five more gold teeth than silver teeth, how many teeth in total did he implant over the week?\n",
      "[ 5 ] A tailor had a number of shirt pieces to cut from a roll of fabric. He cut each roll of equal length into 12 pieces. He cut at the rate of 40 cuts a minute. How many rolls would be cut in 30 minutes ?\n",
      "[ 6 ] A train running between two stations A and B arrives at its destination 10 minutes late when its speed is 50 km/h and 50 minutes late when its speed is 30 km/h. What is the distance between the stations A and B ?\n",
      "[ 7 ] Manoj left home for the bus stop 15 minutes earlier than the usual time. It takes 10 minutes to reach the stop. He reached the stop at 8.40 AM. What time does he usually leave home for the bus stop?\n",
      "[ 8 ] Rick can recite the entirety of Macbeth in 183 minutes. His grandson Morty has agreed to listen to Slippy recite Macbeth but doesn't really want to and so is planning to sneak away after 10 minutes and then come back five minutes before the end, as he knows Rick will be too self-absorbed to realise his absence. During this time he is planning to use an intergalactic portal to instantly teleport to an arcade, Blips and Chitz, and play his favorite virtual reality game, Life of Roy. If every round of Life of Roy takes 19 minutes, how many complete rounds can Morty play and still get back to Rick's recital in time?\n",
      "[ 9 ] It takes 4 men 6 hours to repair a road. How long will it take 8 men to do the job if they work at the same rate?\n",
      "[ 10 ] A password to a certain database consists of digits that cannot be repeated. If the password is known to consist of at least 8 digits and it takes 12 seconds to try one combination, what is the amount of time, in minutes, necessary to guarantee access to database?\n",
      "[ 11 ] Lindsay can paint 25% of a certain room in 20 minutes. What fraction of the same room can Joseph paint in 20 minutes if the two of them can paint the room in an hour, working together at their respective rates?\n",
      "[ 12 ] Of a certain high school graduating class, 25 percent of the students continued their formal education, and 50 percent of those who continued their formal education went to four-year colleges. If 100 students in the class went to four-year colleges, how many students were in the graduating class?\n",
      "[ 13 ] In the reading room of a library, there are 10 tables, 4 chairs per table. In each table there are different numbers of people seated. How many ways they will sit in the library so that no chair would be blank?\n",
      "[ 14 ] Four people need to cross a dark river at night.\n",
      "* They have only one torch and the river is too risky to cross without the torch.\n",
      "* If all people cross simultaneously then torch light wont be sufficient.\n",
      "* Speed of each person of crossing the river is different.cross time for each person is 1 min, 2 minutes, 7 minutes and 10 minutes.\n",
      "What is the shortest time needed for all four of them to cross the river ?\n",
      "[ 15 ] Find the cost of carpeting a room 13 m long and 9 m broad with a carpet 75 cm wide at the rate of Rs. 12.40 per square metre.\n",
      "[ 16 ] A green lizard can travel from the green cave to the blue cave in 72 minutes; the blue lizard can travel from the blue cave to the green cave in 25% less time. If the green lizard started to travel 5.5 minutes before the blue lizard, how many minutes after the blue lizard, will the green lizard pass the middle line?\n",
      "[ 17 ] How many hand shakes will be there, if 8 people shake hands with every other person in the room?\n",
      "[ 18 ] When Mary paints a house, it takes her 4 hours. When Lisa joins Mary, and they work together, it takes them only 3 hours to paint a house of the same size. How long would it take for Lisa to paint a house of the same size by herself?\n",
      "[ 19 ] At a company meeting, M men and W women meet in a conference room. If the ratio of men to women is 2:3 at the meeting and the conference room can hold no more than 64 people, then what is the maximum number of women who can be at the meeting?\n",
      "--------------------------------------------------------------------------------\n",
      "Questions in Cluster  8\n",
      "--------------------------------------------------------------------------------\n",
      "[ 0 ] A group of 5 friends were to contribute equally to purchase items from a store. If store offered them a promotional discount of 15%, how much did each friend pay, given a total bill of $ 1200?\n",
      "[ 1 ] A farming field can be ploughed by 6 tractors in 4 days. When 6 tractors work together, each of them ploughs 120 hectares a day. If two of the tractors were moved to another field, then the remaining 4 tractors could plough the same field in 5 days. How many hectares a day would one tractor plough then?\n",
      "[ 2 ] On sports day, if 24 children were made to stand in a column, then 10 columns could be formed. If 240 children were made to stand in a column, then how many columns could be formed?\n",
      "[ 3 ] One person has 2 children. At least one of them was a girl. Then the probability that 2 of the are girl is_____\n",
      "[ 4 ] In how many ways can 5 different candies be distributed among 4 children? (Children could get 0 candies or more than one candy)\n",
      "[ 5 ] A shrewd opportunist bought 50 equally priced Kale Kids in November for t dollars total. In December, he sold each Kale Kid for a profit of 100 percent. In terms of t, how much was each Kale Kid sold for?\n",
      "[ 6 ] Scott bought three bags of candy with 75 pieces in each one. He plans to divide all the candy evenly among seven friends. How many pieces of candy will Scott have left for himself?\n",
      "[ 7 ] 6 pigs cost the same as 9 sheep. 27 sheep cost the same as 30 goats. 50 goats cost the same as 3 elephants. If two elephants cost $4800, then the cost of one pig in dollar is\n",
      "[ 8 ] Santa distributes 2 gifts to every child in the street at the Christmas evening. He mistakenly gives 4 gifts to some children. If he distributed 50 gifts to 21 children. How many children got 4 gifts?\n",
      "[ 9 ] Terry has some oranges. Out of that, 4% were thrown away, 80% of the remaining oranges were sold and he is now left with 48 oranges. What was the initial number of oranges with him?\n",
      "[ 10 ] The total weight of a tin and the cookies it contains is 2 pounds. After 3/4 of the cookies are eaten, the tin and the remaining cookies weigh 0.8 pounds. What is the weight of the empty tin in pounds?\n",
      "[ 11 ] Rijon is the bass player in a wedding band which has 9 musicians. When the gig is over, the manager collects the payment of $1000 from the bride and groom. The manager has a fee of $100.00 for booking the gig. How much will the manager have to give each musician in order to pay them equally?\n",
      "[ 12 ] A family of 2 parents and 2 children is waiting in line to order at a fast-food restaurant. Joey, the younger child, has a tendency to cause mischief when he is not watched carefully. Because of this, the father wants to keep Joey ahead of him in line at all times. How many different ways can the family arrange themselves in line, such that the father is able to watch Joey?\n",
      "[ 13 ] Consider a courier company A which can deliver 100 parcels in 5 days with 5 men working for 8 hours a day. Consider another courier company B where every employee is equally efficient as that of company B. Company B is short of one man when compared to A and has a policy of asking its workers to work only for 6 hours a day. How long (in days) company B will take to deliver 100 parcels.\n",
      "[ 14 ] A man had 43 sheep. he wanted to divide them equally among his 6 children. How many sheep shall he keep to himself, so as to equally divide remaining sheep among his 6 children?\n",
      "--------------------------------------------------------------------------------\n",
      "Questions in Cluster  9\n",
      "--------------------------------------------------------------------------------\n",
      "[ 0 ] Lucy has enough money to go to Canada every 6 years, while Luke has enough to go every 9 years. If they pool their money, how often can they go?\n",
      "[ 1 ] If the ratio of the ages of Maya and Chhaya is 6:5 at present, and fifteen years from now, the ratio will get changed to 9:8, then find Maya's present age.\n",
      "[ 2 ] The average age of the first seven people to arrive at Nikhil’s birthday is 21. When Vijay (29) arrived, the mean age is increased to 22. Marry (also 29) arrived next. The tenth and last person to arrive at Nikhil's party is Nikhil himself, and the mean age increased to 30 years. How old is Nikhil on his birthday?\n",
      "[ 3 ] Proportion of Yuvaraj’s age to Ganguly’s age is 4:3. Yuvaraj will be 26 years old after 6 years. What is the age of Ganguly now?\n",
      "[ 4 ] Tanya's grandfather was 8 times older to her 16 years ago. He would be 3 times of her age 8 years from now. What was ratio of ages of Tanya and her grandfather 8 years ago.\n",
      "[ 5 ] Mr. X died when his age was 1/59th of year of birth. What was his date of birth?\n",
      "[ 6 ] There was a simple interest of Rs. 4016.25 on a principal amount at the rate of 9% p.a. in 5 years. Find the principal amount.\n",
      "[ 7 ] 1 year ago, Promila was 4 times as old as her daughter Jenilia. In 6 years, Promila's age will exceed her daughter’s age by 9 years. The ratio of the present ages of Promila and her daughter is :\n",
      "[ 8 ] Recently, scientists were able to sequence an individual's humane genome in just 4 weeks using a super fast modern computer. A computer manufactured just 2 years earlier would have taken 24 weeks to do the same amount of work.\n",
      "For more targeted treatment of his cancer, Steve needs his human genome to be sequenced as soon as possible and scientists plan to use both the super fast modern computer and the 2 year-old computer to get the job done. Assuming both computers can tackle discrete components of the genome sequencing process, how many days should doctors expect to have the results of Steve's human genome sequencing project?\n",
      "[ 9 ] The population of a city increases at the rate of 4% per annum. There is an additional annual increase of 1% in the population due to the influx of job seekers. Therefore, the % increase in the population after 2 years will be :\n",
      "[ 10 ] A house sold for $500,000 in 1990 and sold ten years later for $400,000. By what percent did the value of the house change?\n",
      "[ 11 ] In 4 years, Raj's father will be double Raj's age then. Two years ago, while his mother was twice his age that time. If Raj is going to be 32 years old 8 years from now, then what is the sum of his parents age now?\n",
      "[ 12 ] If the ratio of age of mother and son 3:5, and the mother is 12 years old, then what will be the age of son?\n"
     ]
    }
   ],
   "source": [
    "grouped = frame['question'].groupby(frame['cluster']) #groupby cluster for aggregation purposes\n",
    "for key, item in grouped:\n",
    "    print('-'*80)\n",
    "    print(\"Questions in Cluster \",key)\n",
    "    print('-'*80)\n",
    "    x = grouped.get_group(key)\n",
    "    cnt=0\n",
    "    for i in x:\n",
    "        print(\"[\",cnt,\"]\",i)\n",
    "        cnt=cnt+1;"
   ]
  },
  {
   "cell_type": "markdown",
   "metadata": {},
   "source": [
    "### Dimensionality Reduction with SVD"
   ]
  },
  {
   "cell_type": "code",
   "execution_count": 22,
   "metadata": {},
   "outputs": [
    {
     "name": "stdout",
     "output_type": "stream",
     "text": [
      "(254, 2)\n"
     ]
    }
   ],
   "source": [
    "from sklearn.decomposition import TruncatedSVD\n",
    "svd_m = TruncatedSVD(n_components=2,  algorithm='randomized', n_iter=10, random_state=42)\n",
    "svd = svd_m.fit_transform(tfidf_matrix)\n",
    "print(svd.shape)"
   ]
  },
  {
   "cell_type": "code",
   "execution_count": 23,
   "metadata": {},
   "outputs": [
    {
     "data": {
      "text/html": [
       "<div>\n",
       "<style>\n",
       "    .dataframe thead tr:only-child th {\n",
       "        text-align: right;\n",
       "    }\n",
       "\n",
       "    .dataframe thead th {\n",
       "        text-align: left;\n",
       "    }\n",
       "\n",
       "    .dataframe tbody tr th {\n",
       "        vertical-align: top;\n",
       "    }\n",
       "</style>\n",
       "<table border=\"1\" class=\"dataframe\">\n",
       "  <thead>\n",
       "    <tr style=\"text-align: right;\">\n",
       "      <th></th>\n",
       "      <th>cluster</th>\n",
       "      <th>x</th>\n",
       "      <th>y</th>\n",
       "    </tr>\n",
       "  </thead>\n",
       "  <tbody>\n",
       "    <tr>\n",
       "      <th>0</th>\n",
       "      <td>6</td>\n",
       "      <td>0.061861</td>\n",
       "      <td>0.172964</td>\n",
       "    </tr>\n",
       "    <tr>\n",
       "      <th>1</th>\n",
       "      <td>0</td>\n",
       "      <td>0.017393</td>\n",
       "      <td>0.066637</td>\n",
       "    </tr>\n",
       "    <tr>\n",
       "      <th>2</th>\n",
       "      <td>0</td>\n",
       "      <td>0.048430</td>\n",
       "      <td>0.062719</td>\n",
       "    </tr>\n",
       "    <tr>\n",
       "      <th>3</th>\n",
       "      <td>5</td>\n",
       "      <td>0.032553</td>\n",
       "      <td>0.052516</td>\n",
       "    </tr>\n",
       "    <tr>\n",
       "      <th>4</th>\n",
       "      <td>6</td>\n",
       "      <td>0.064251</td>\n",
       "      <td>0.037107</td>\n",
       "    </tr>\n",
       "    <tr>\n",
       "      <th>5</th>\n",
       "      <td>1</td>\n",
       "      <td>0.101029</td>\n",
       "      <td>0.016200</td>\n",
       "    </tr>\n",
       "    <tr>\n",
       "      <th>6</th>\n",
       "      <td>8</td>\n",
       "      <td>0.199906</td>\n",
       "      <td>-0.074938</td>\n",
       "    </tr>\n",
       "    <tr>\n",
       "      <th>7</th>\n",
       "      <td>6</td>\n",
       "      <td>0.020793</td>\n",
       "      <td>0.046490</td>\n",
       "    </tr>\n",
       "    <tr>\n",
       "      <th>8</th>\n",
       "      <td>3</td>\n",
       "      <td>0.044526</td>\n",
       "      <td>0.038320</td>\n",
       "    </tr>\n",
       "    <tr>\n",
       "      <th>9</th>\n",
       "      <td>2</td>\n",
       "      <td>0.171823</td>\n",
       "      <td>-0.036859</td>\n",
       "    </tr>\n",
       "  </tbody>\n",
       "</table>\n",
       "</div>"
      ],
      "text/plain": [
       "   cluster         x         y\n",
       "0        6  0.061861  0.172964\n",
       "1        0  0.017393  0.066637\n",
       "2        0  0.048430  0.062719\n",
       "3        5  0.032553  0.052516\n",
       "4        6  0.064251  0.037107\n",
       "5        1  0.101029  0.016200\n",
       "6        8  0.199906 -0.074938\n",
       "7        6  0.020793  0.046490\n",
       "8        3  0.044526  0.038320\n",
       "9        2  0.171823 -0.036859"
      ]
     },
     "execution_count": 23,
     "metadata": {},
     "output_type": "execute_result"
    }
   ],
   "source": [
    "d = {\"cluster\":clusters,\"x\":svd[:,0],\"y\":svd[:,1]}\n",
    "pts=pd.DataFrame(d)\n",
    "pts.head(10)"
   ]
  },
  {
   "cell_type": "code",
   "execution_count": 25,
   "metadata": {},
   "outputs": [
    {
     "data": {
      "text/plain": [
       "<seaborn.axisgrid.FacetGrid at 0x1a21e08208>"
      ]
     },
     "execution_count": 25,
     "metadata": {},
     "output_type": "execute_result"
    },
    {
     "data": {
      "image/png": "[encoded data removed]",
      "text/plain": [
       "<matplotlib.figure.Figure at 0x1a1c3987f0>"
      ]
     },
     "metadata": {},
     "output_type": "display_data"
    }
   ],
   "source": [
    "%matplotlib inline\n",
    "import seaborn as sns\n",
    "sns.lmplot( x=\"x\", y=\"y\", data=pts, fit_reg=False, hue='cluster', legend=False,size=10, aspect=1)\n"
   ]
  },
  {
   "cell_type": "code",
   "execution_count": null,
   "metadata": {
    "collapsed": true
   },
   "outputs": [],
   "source": []
  }
 ],
 "metadata": {
  "anaconda-cloud": {},
  "kernelspec": {
   "display_name": "Python [Root]",
   "language": "python",
   "name": "Python [Root]"
  },
  "language_info": {
   "codemirror_mode": {
    "name": "ipython",
    "version": 3
   },
   "file_extension": ".py",
   "mimetype": "text/x-python",
   "name": "python",
   "nbconvert_exporter": "python",
   "pygments_lexer": "ipython3",
   "version": "3.5.2"
  }
 },
 "nbformat": 4,
 "nbformat_minor": 1
}
