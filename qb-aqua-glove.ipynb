{
 "cells": [
  {
   "cell_type": "markdown",
   "metadata": {},
   "source": [
    "### Load the DeepMind AQuA Data Set "
   ]
  },
  {
   "cell_type": "code",
   "execution_count": 1,
   "metadata": {
    "collapsed": true
   },
   "outputs": [],
   "source": [
    "import pandas as pd\n",
    "import numpy as np\n",
    "import json "
   ]
  },
  {
   "cell_type": "code",
   "execution_count": 2,
   "metadata": {},
   "outputs": [
    {
     "data": {
      "text/plain": [
       "Index(['correct', 'options', 'question', 'rationale'], dtype='object')"
      ]
     },
     "execution_count": 2,
     "metadata": {},
     "output_type": "execute_result"
    }
   ],
   "source": [
    "qb =  pd.read_json('AQuA-master/dev.json',lines=True)\n",
    "qb.columns"
   ]
  },
  {
   "cell_type": "code",
   "execution_count": 3,
   "metadata": {},
   "outputs": [
    {
     "data": {
      "text/html": [
       "<div>\n",
       "<style>\n",
       "    .dataframe thead tr:only-child th {\n",
       "        text-align: right;\n",
       "    }\n",
       "\n",
       "    .dataframe thead th {\n",
       "        text-align: left;\n",
       "    }\n",
       "\n",
       "    .dataframe tbody tr th {\n",
       "        vertical-align: top;\n",
       "    }\n",
       "</style>\n",
       "<table border=\"1\" class=\"dataframe\">\n",
       "  <thead>\n",
       "    <tr style=\"text-align: right;\">\n",
       "      <th></th>\n",
       "      <th>correct</th>\n",
       "      <th>options</th>\n",
       "      <th>question</th>\n",
       "      <th>rationale</th>\n",
       "    </tr>\n",
       "  </thead>\n",
       "  <tbody>\n",
       "    <tr>\n",
       "      <th>0</th>\n",
       "      <td>A</td>\n",
       "      <td>[A)32400, B)6000, C)600, D)60000, E)10]</td>\n",
       "      <td>Three birds are flying at a fast rate of 900 k...</td>\n",
       "      <td>To calculate the equivalent of miles in a kilo...</td>\n",
       "    </tr>\n",
       "    <tr>\n",
       "      <th>1</th>\n",
       "      <td>D</td>\n",
       "      <td>[A)100 m, B)150 m, C)200 m, D)250 m, E)300 m]</td>\n",
       "      <td>A ship is leaving a port. It takes 240 seconds...</td>\n",
       "      <td>Let the length of the ship be x metres and its...</td>\n",
       "    </tr>\n",
       "    <tr>\n",
       "      <th>2</th>\n",
       "      <td>C</td>\n",
       "      <td>[A)6, B)18, C)24, D)36, E)48]</td>\n",
       "      <td>A rectangular piece of cloth 2 feet wide was c...</td>\n",
       "      <td>The question says, length of shorter piece is ...</td>\n",
       "    </tr>\n",
       "    <tr>\n",
       "      <th>3</th>\n",
       "      <td>B</td>\n",
       "      <td>[A)(1,1), B)(0,3), C)(2,0), D)(3,6), E)(6,3)]</td>\n",
       "      <td>In the xy-coordinate plane, which of the follo...</td>\n",
       "      <td>For a point to satisfy the given equation for ...</td>\n",
       "    </tr>\n",
       "    <tr>\n",
       "      <th>4</th>\n",
       "      <td>C</td>\n",
       "      <td>[A)7, B)9, C)13, D)27, E)45]</td>\n",
       "      <td>A travel company wants to charter a plane to t...</td>\n",
       "      <td>Additional passengers (i.e., an integer, let's...</td>\n",
       "    </tr>\n",
       "  </tbody>\n",
       "</table>\n",
       "</div>"
      ],
      "text/plain": [
       "  correct                                        options  \\\n",
       "0       A        [A)32400, B)6000, C)600, D)60000, E)10]   \n",
       "1       D  [A)100 m, B)150 m, C)200 m, D)250 m, E)300 m]   \n",
       "2       C                  [A)6, B)18, C)24, D)36, E)48]   \n",
       "3       B  [A)(1,1), B)(0,3), C)(2,0), D)(3,6), E)(6,3)]   \n",
       "4       C                   [A)7, B)9, C)13, D)27, E)45]   \n",
       "\n",
       "                                            question  \\\n",
       "0  Three birds are flying at a fast rate of 900 k...   \n",
       "1  A ship is leaving a port. It takes 240 seconds...   \n",
       "2  A rectangular piece of cloth 2 feet wide was c...   \n",
       "3  In the xy-coordinate plane, which of the follo...   \n",
       "4  A travel company wants to charter a plane to t...   \n",
       "\n",
       "                                           rationale  \n",
       "0  To calculate the equivalent of miles in a kilo...  \n",
       "1  Let the length of the ship be x metres and its...  \n",
       "2  The question says, length of shorter piece is ...  \n",
       "3  For a point to satisfy the given equation for ...  \n",
       "4  Additional passengers (i.e., an integer, let's...  "
      ]
     },
     "execution_count": 3,
     "metadata": {},
     "output_type": "execute_result"
    }
   ],
   "source": [
    "qb.head()"
   ]
  },
  {
   "cell_type": "markdown",
   "metadata": {},
   "source": [
    "### Remove Named Entities "
   ]
  },
  {
   "cell_type": "code",
   "execution_count": 4,
   "metadata": {
    "collapsed": true
   },
   "outputs": [],
   "source": [
    "import nltk\n",
    "import string\n",
    "def untokenize(tokens):\n",
    "    return(\"\".join([\" \"+i if not i.startswith(\"'\") and i not in string.punctuation else i for i in tokens]).strip())\n",
    "\n",
    "\n",
    "def extract_nonentities(tree):\n",
    "    tokens = [leaf[0] for leaf in tree if type(leaf) != nltk.Tree]\n",
    "    return(untokenize(tokens))\n",
    "\n",
    "def ne_removal(text_list):\n",
    "    token_list = [nltk.word_tokenize(text) for text in text_list]\n",
    "    tagged = nltk.pos_tag_sents(token_list)\n",
    "    chunked = nltk.ne_chunk_sents(tagged)\n",
    "    non_entities = []\n",
    "    for tree in chunked:\n",
    "        non_entities.append(extract_nonentities(tree))\n",
    "    return(non_entities)"
   ]
  },
  {
   "cell_type": "code",
   "execution_count": 5,
   "metadata": {
    "collapsed": true
   },
   "outputs": [],
   "source": [
    "# removal of named entities\n",
    "qb['qn'] = ne_removal(qb['question'])\n"
   ]
  },
  {
   "cell_type": "markdown",
   "metadata": {},
   "source": [
    "### Pre process text  - convert to lower case , remove numeric , special characters"
   ]
  },
  {
   "cell_type": "code",
   "execution_count": 6,
   "metadata": {},
   "outputs": [],
   "source": [
    "import re\n",
    "qb.qn = qb.qn.apply(lambda x: x.lower())\n",
    "qb['qn'] = qb['qn'].apply(lambda x: re.sub(r'\\%', 'percent', x))\n",
    "qb['qn'] = qb['qn'].apply(lambda x:re.sub(\"[^a-zA-Z]\",' ',x))\n"
   ]
  },
  {
   "cell_type": "code",
   "execution_count": 7,
   "metadata": {
    "collapsed": true
   },
   "outputs": [],
   "source": [
    "import logging\n",
    "logging.basicConfig(format='%(asctime)s : %(levelname)s : %(message)s', level=logging.INFO)"
   ]
  },
  {
   "cell_type": "markdown",
   "metadata": {},
   "source": [
    "### Split the question into word list for vectorization"
   ]
  },
  {
   "cell_type": "code",
   "execution_count": 8,
   "metadata": {},
   "outputs": [
    {
     "data": {
      "text/html": [
       "<div>\n",
       "<style>\n",
       "    .dataframe thead tr:only-child th {\n",
       "        text-align: right;\n",
       "    }\n",
       "\n",
       "    .dataframe thead th {\n",
       "        text-align: left;\n",
       "    }\n",
       "\n",
       "    .dataframe tbody tr th {\n",
       "        vertical-align: top;\n",
       "    }\n",
       "</style>\n",
       "<table border=\"1\" class=\"dataframe\">\n",
       "  <thead>\n",
       "    <tr style=\"text-align: right;\">\n",
       "      <th></th>\n",
       "      <th>correct</th>\n",
       "      <th>options</th>\n",
       "      <th>question</th>\n",
       "      <th>rationale</th>\n",
       "      <th>qn</th>\n",
       "    </tr>\n",
       "  </thead>\n",
       "  <tbody>\n",
       "    <tr>\n",
       "      <th>0</th>\n",
       "      <td>A</td>\n",
       "      <td>[A)32400, B)6000, C)600, D)60000, E)10]</td>\n",
       "      <td>Three birds are flying at a fast rate of 900 k...</td>\n",
       "      <td>To calculate the equivalent of miles in a kilo...</td>\n",
       "      <td>[three, birds, are, flying, at, a, fast, rate,...</td>\n",
       "    </tr>\n",
       "    <tr>\n",
       "      <th>1</th>\n",
       "      <td>D</td>\n",
       "      <td>[A)100 m, B)150 m, C)200 m, D)250 m, E)300 m]</td>\n",
       "      <td>A ship is leaving a port. It takes 240 seconds...</td>\n",
       "      <td>Let the length of the ship be x metres and its...</td>\n",
       "      <td>[a, ship, is, leaving, a, port, it, takes, sec...</td>\n",
       "    </tr>\n",
       "    <tr>\n",
       "      <th>2</th>\n",
       "      <td>C</td>\n",
       "      <td>[A)6, B)18, C)24, D)36, E)48]</td>\n",
       "      <td>A rectangular piece of cloth 2 feet wide was c...</td>\n",
       "      <td>The question says, length of shorter piece is ...</td>\n",
       "      <td>[a, rectangular, piece, of, cloth, feet, wide,...</td>\n",
       "    </tr>\n",
       "    <tr>\n",
       "      <th>3</th>\n",
       "      <td>B</td>\n",
       "      <td>[A)(1,1), B)(0,3), C)(2,0), D)(3,6), E)(6,3)]</td>\n",
       "      <td>In the xy-coordinate plane, which of the follo...</td>\n",
       "      <td>For a point to satisfy the given equation for ...</td>\n",
       "      <td>[in, the, xy, coordinate, plane, which, of, th...</td>\n",
       "    </tr>\n",
       "    <tr>\n",
       "      <th>4</th>\n",
       "      <td>C</td>\n",
       "      <td>[A)7, B)9, C)13, D)27, E)45]</td>\n",
       "      <td>A travel company wants to charter a plane to t...</td>\n",
       "      <td>Additional passengers (i.e., an integer, let's...</td>\n",
       "      <td>[a, travel, company, wants, to, charter, a, pl...</td>\n",
       "    </tr>\n",
       "  </tbody>\n",
       "</table>\n",
       "</div>"
      ],
      "text/plain": [
       "  correct                                        options  \\\n",
       "0       A        [A)32400, B)6000, C)600, D)60000, E)10]   \n",
       "1       D  [A)100 m, B)150 m, C)200 m, D)250 m, E)300 m]   \n",
       "2       C                  [A)6, B)18, C)24, D)36, E)48]   \n",
       "3       B  [A)(1,1), B)(0,3), C)(2,0), D)(3,6), E)(6,3)]   \n",
       "4       C                   [A)7, B)9, C)13, D)27, E)45]   \n",
       "\n",
       "                                            question  \\\n",
       "0  Three birds are flying at a fast rate of 900 k...   \n",
       "1  A ship is leaving a port. It takes 240 seconds...   \n",
       "2  A rectangular piece of cloth 2 feet wide was c...   \n",
       "3  In the xy-coordinate plane, which of the follo...   \n",
       "4  A travel company wants to charter a plane to t...   \n",
       "\n",
       "                                           rationale  \\\n",
       "0  To calculate the equivalent of miles in a kilo...   \n",
       "1  Let the length of the ship be x metres and its...   \n",
       "2  The question says, length of shorter piece is ...   \n",
       "3  For a point to satisfy the given equation for ...   \n",
       "4  Additional passengers (i.e., an integer, let's...   \n",
       "\n",
       "                                                  qn  \n",
       "0  [three, birds, are, flying, at, a, fast, rate,...  \n",
       "1  [a, ship, is, leaving, a, port, it, takes, sec...  \n",
       "2  [a, rectangular, piece, of, cloth, feet, wide,...  \n",
       "3  [in, the, xy, coordinate, plane, which, of, th...  \n",
       "4  [a, travel, company, wants, to, charter, a, pl...  "
      ]
     },
     "execution_count": 8,
     "metadata": {},
     "output_type": "execute_result"
    }
   ],
   "source": [
    "qb['qn']=qb['qn'].apply(lambda x: x.split())\n",
    "qb.head()"
   ]
  },
  {
   "cell_type": "markdown",
   "metadata": {},
   "source": [
    "### Tokenize all the word vectors"
   ]
  },
  {
   "cell_type": "code",
   "execution_count": 9,
   "metadata": {},
   "outputs": [
    {
     "name": "stderr",
     "output_type": "stream",
     "text": [
      "Using TensorFlow backend.\n"
     ]
    },
    {
     "name": "stdout",
     "output_type": "stream",
     "text": [
      "1573\n"
     ]
    }
   ],
   "source": [
    "AllText = qb['qn'].values\n",
    "\n",
    "from keras.preprocessing.text import Tokenizer\n",
    "from keras.preprocessing.sequence import pad_sequences\n",
    "\n",
    "# prepare tokenizer\n",
    "t = Tokenizer()\n",
    "t.fit_on_texts(AllText)\n",
    "vocab_size = len(t.word_index) + 1\n",
    "print(vocab_size)\n"
   ]
  },
  {
   "cell_type": "markdown",
   "metadata": {},
   "source": [
    "### Load the GloVe Word embeddings "
   ]
  },
  {
   "cell_type": "code",
   "execution_count": 41,
   "metadata": {},
   "outputs": [
    {
     "name": "stdout",
     "output_type": "stream",
     "text": [
      "Loaded 400000 word vectors from GloVe.\n"
     ]
    }
   ],
   "source": [
    "# load the whole embedding into memory\n",
    "embeddings_index = dict()\n",
    "f = open('./glove.6B/glove.6B.300d.txt')\n",
    "for line in f:\n",
    "    values = line.split()\n",
    "    word = values[0]\n",
    "    coefs = np.asarray(values[1:], dtype='float32')\n",
    "    embeddings_index[word] = coefs\n",
    "f.close()\n",
    "print('Loaded %s word vectors from GloVe.' % len(embeddings_index))"
   ]
  },
  {
   "cell_type": "markdown",
   "metadata": {},
   "source": [
    "### Create a word embeddings for the question vocabulary using the GloVe embeddings"
   ]
  },
  {
   "cell_type": "code",
   "execution_count": 42,
   "metadata": {},
   "outputs": [
    {
     "name": "stdout",
     "output_type": "stream",
     "text": [
      "Can't find Glove word vector for :yuvaraj\n",
      "Can't find Glove word vector for :huhulians\n",
      "Can't find Glove word vector for :prosthodontist\n",
      "Can't find Glove word vector for :whatpercent\n",
      "Can't find Glove word vector for :irder\n",
      "Can't find Glove word vector for :thepercent\n",
      "Can't find Glove word vector for :dbef\n",
      "Can't find Glove word vector for :koolaid\n",
      "Can't find Glove word vector for :playerwho\n"
     ]
    }
   ],
   "source": [
    "# create a weight matrix for words in training docs\n",
    "vocab = []\n",
    "embedding_matrix = np.zeros((vocab_size, 300))\n",
    "err_count = 0\n",
    "for word, i in t.word_index.items():\n",
    "    vocab.append(word)\n",
    "    embedding_vector = embeddings_index.get(word)\n",
    "    if embedding_vector is not None:\n",
    "        embedding_matrix[i] = embedding_vector\n",
    "    else :\n",
    "        print(\"Can't find Glove word vector for :{}\".format(word))\n",
    "        err_count +=1\n",
    "vocab.append(\"-null\")"
   ]
  },
  {
   "cell_type": "code",
   "execution_count": 43,
   "metadata": {},
   "outputs": [
    {
     "name": "stdout",
     "output_type": "stream",
     "text": [
      "(1573, 300)\n"
     ]
    }
   ],
   "source": [
    "print(embedding_matrix.shape)"
   ]
  },
  {
   "cell_type": "markdown",
   "metadata": {},
   "source": [
    "### Dimensionality Reduction using TSNE "
   ]
  },
  {
   "cell_type": "code",
   "execution_count": 44,
   "metadata": {},
   "outputs": [],
   "source": [
    "import sklearn.manifold\n",
    "tsne = sklearn.manifold.TSNE(n_components=2, random_state=0)\n",
    "embedding_matrix_2d = tsne.fit_transform(embedding_matrix)"
   ]
  },
  {
   "cell_type": "code",
   "execution_count": 45,
   "metadata": {},
   "outputs": [
    {
     "name": "stdout",
     "output_type": "stream",
     "text": [
      "1573\n"
     ]
    },
    {
     "data": {
      "text/html": [
       "<div>\n",
       "<style>\n",
       "    .dataframe thead tr:only-child th {\n",
       "        text-align: right;\n",
       "    }\n",
       "\n",
       "    .dataframe thead th {\n",
       "        text-align: left;\n",
       "    }\n",
       "\n",
       "    .dataframe tbody tr th {\n",
       "        vertical-align: top;\n",
       "    }\n",
       "</style>\n",
       "<table border=\"1\" class=\"dataframe\">\n",
       "  <thead>\n",
       "    <tr style=\"text-align: right;\">\n",
       "      <th></th>\n",
       "      <th>word</th>\n",
       "      <th>x</th>\n",
       "      <th>y</th>\n",
       "    </tr>\n",
       "  </thead>\n",
       "  <tbody>\n",
       "    <tr>\n",
       "      <th>0</th>\n",
       "      <td>played</td>\n",
       "      <td>19.759895</td>\n",
       "      <td>-20.468645</td>\n",
       "    </tr>\n",
       "    <tr>\n",
       "      <th>1</th>\n",
       "      <td>pq</td>\n",
       "      <td>1.633576</td>\n",
       "      <td>9.820148</td>\n",
       "    </tr>\n",
       "    <tr>\n",
       "      <th>2</th>\n",
       "      <td>character</td>\n",
       "      <td>2.220507</td>\n",
       "      <td>10.114603</td>\n",
       "    </tr>\n",
       "    <tr>\n",
       "      <th>3</th>\n",
       "      <td>necessarily</td>\n",
       "      <td>4.625420</td>\n",
       "      <td>12.980789</td>\n",
       "    </tr>\n",
       "    <tr>\n",
       "      <th>4</th>\n",
       "      <td>become</td>\n",
       "      <td>-6.019231</td>\n",
       "      <td>4.154238</td>\n",
       "    </tr>\n",
       "    <tr>\n",
       "      <th>5</th>\n",
       "      <td>leaving</td>\n",
       "      <td>-1.552037</td>\n",
       "      <td>6.126178</td>\n",
       "    </tr>\n",
       "    <tr>\n",
       "      <th>6</th>\n",
       "      <td>keeps</td>\n",
       "      <td>0.951316</td>\n",
       "      <td>14.498993</td>\n",
       "    </tr>\n",
       "    <tr>\n",
       "      <th>7</th>\n",
       "      <td>last</td>\n",
       "      <td>-11.132826</td>\n",
       "      <td>-8.034027</td>\n",
       "    </tr>\n",
       "    <tr>\n",
       "      <th>8</th>\n",
       "      <td>enters</td>\n",
       "      <td>-11.316639</td>\n",
       "      <td>-1.656354</td>\n",
       "    </tr>\n",
       "    <tr>\n",
       "      <th>9</th>\n",
       "      <td>seven</td>\n",
       "      <td>13.063579</td>\n",
       "      <td>-0.149262</td>\n",
       "    </tr>\n",
       "  </tbody>\n",
       "</table>\n",
       "</div>"
      ],
      "text/plain": [
       "          word          x          y\n",
       "0       played  19.759895 -20.468645\n",
       "1           pq   1.633576   9.820148\n",
       "2    character   2.220507  10.114603\n",
       "3  necessarily   4.625420  12.980789\n",
       "4       become  -6.019231   4.154238\n",
       "5      leaving  -1.552037   6.126178\n",
       "6        keeps   0.951316  14.498993\n",
       "7         last -11.132826  -8.034027\n",
       "8       enters -11.316639  -1.656354\n",
       "9        seven  13.063579  -0.149262"
      ]
     },
     "execution_count": 45,
     "metadata": {},
     "output_type": "execute_result"
    }
   ],
   "source": [
    "d = {\"word\":vocab,\"x\":embedding_matrix_2d[:,0],\"y\":embedding_matrix_2d[:,1]}\n",
    "print(len(vocab))\n",
    "pts=pd.DataFrame(d)\n",
    "pts.head(10)"
   ]
  },
  {
   "cell_type": "markdown",
   "metadata": {},
   "source": [
    "### Scatter plot of the word vectors "
   ]
  },
  {
   "cell_type": "code",
   "execution_count": 46,
   "metadata": {},
   "outputs": [
    {
     "data": {
      "image/png": "[encoded data removed]",
      "text/plain": [
       "<matplotlib.figure.Figure at 0x1a3235d358>"
      ]
     },
     "metadata": {},
     "output_type": "display_data"
    }
   ],
   "source": [
    "import seaborn as sns\n",
    "%matplotlib inline\n",
    "pts.plot.scatter(\"x\", \"y\", s=12, figsize=(20, 12));"
   ]
  },
  {
   "cell_type": "markdown",
   "metadata": {},
   "source": [
    "### Function to calculate the average vector for the sentence "
   ]
  },
  {
   "cell_type": "code",
   "execution_count": 47,
   "metadata": {},
   "outputs": [],
   "source": [
    "import numpy as np\n",
    "from scipy import spatial\n",
    "\n",
    "\n",
    "def avg_feature_vector(wordlist,  nfeatures):\n",
    "    feature_vec = np.zeros((nfeatures, ), dtype='float32')\n",
    "    nwords = 0\n",
    "\n",
    "    for word in wordlist:\n",
    "\n",
    "        if word in vocab : # word is glove-vocab\n",
    "            nwords += 1\n",
    "            if (embeddings_index.get(word)) is not None:\n",
    "                feature_vec = np.add(feature_vec, embeddings_index.get(word))\n",
    "    if (nwords > 0):\n",
    "        feature_vec = np.divide(feature_vec, nwords)\n",
    "    return feature_vec"
   ]
  },
  {
   "cell_type": "markdown",
   "metadata": {},
   "source": [
    "### For all the questions in Dataframe calculate the average feature vector"
   ]
  },
  {
   "cell_type": "code",
   "execution_count": 48,
   "metadata": {},
   "outputs": [],
   "source": [
    "afv = []\n",
    "for i in range(len(qb)) :\n",
    "    fv = avg_feature_vector(qb['qn'][i], nfeatures=300)\n",
    "    afv.append(fv)"
   ]
  },
  {
   "cell_type": "markdown",
   "metadata": {},
   "source": [
    "### Cluster using the Average feature vector and cosine_distance as the "
   ]
  },
  {
   "cell_type": "code",
   "execution_count": 50,
   "metadata": {},
   "outputs": [],
   "source": [
    "from nltk.cluster import KMeansClusterer\n",
    "import nltk\n",
    "\n",
    "kclusterer = KMeansClusterer(10, distance=nltk.cluster.util.cosine_distance, repeats=25)\n",
    "assigned_clusters = kclusterer.cluster(afv, assign_clusters=True)\n",
    "qb['clusters'] = assigned_clusters\n",
    "qb.to_csv(\"dev300.csv\")"
   ]
  },
  {
   "cell_type": "code",
   "execution_count": 51,
   "metadata": {
    "collapsed": true
   },
   "outputs": [],
   "source": [
    "qset = { 'question': qb.question, 'cluster': assigned_clusters }\n",
    "frame = pd.DataFrame(qset, columns = ['question','cluster'])"
   ]
  },
  {
   "cell_type": "code",
   "execution_count": 52,
   "metadata": {},
   "outputs": [
    {
     "name": "stdout",
     "output_type": "stream",
     "text": [
      "11     In how many arrangements can you arrange 3 gre...\n",
      "22     Bill's shop sells candy bars by the full case....\n",
      "34     At an elite baseball camp, 60% of players can ...\n",
      "49     Scott bought three bags of candy with 75 piece...\n",
      "52     A certain prosthodontist specializes in implan...\n",
      "59     3 men and 3 women need to be seated in 2 rows ...\n",
      "64     There are N numbers of gold biscuits in the ho...\n",
      "93     A fair coin is tossed 6 times. If heads appear...\n",
      "107    A shopkeeper gives a full bottle of soft drink...\n",
      "123    A girl counted in the following way on the fin...\n",
      "188    Lindsay can paint 25% of a certain room in 20 ...\n",
      "211    In the reading room of a library, there are 10...\n",
      "236    An oculist charges $30.00 for an eye examinati...\n",
      "242    How many hand shakes will be there, if 8 peopl...\n",
      "248    I have an amazing bath tub having both hot and...\n",
      "Name: question, dtype: object \n",
      "\n",
      "\n",
      "8      ABC company pays an average of $120 per vehicl...\n",
      "14     In a certain conservative mutual fund, 60 perc...\n",
      "20     A trader bought some books for Rs 8 each. The ...\n",
      "30     A wholesaler allows a discount of 20 % on the ...\n",
      "40     An investor purchased shares of stock at a cer...\n",
      "43     The marked price of a clock is Rs.6400. It is ...\n",
      "45     A shrewd opportunist bought 50 equally priced ...\n",
      "46     If a cellphone is purchased for Rs.490 and sol...\n",
      "51     6 pigs cost the same as 9 sheep. 27 sheep cost...\n",
      "53     David bought 13 BMW cars for a total price of ...\n",
      "55     If a man reduces the selling price of a fan fr...\n",
      "56     A small business invests $9,800 in equipment t...\n",
      "68     A man says that he gained 10 percent as profit...\n",
      "79     The ratio of A’s and B’s salary is 9 : 4. If A...\n",
      "83     John invested $100 in each of the funds A and ...\n",
      "87     During a 10-week period, a doughnut store cond...\n",
      "92     There was a simple interest of Rs. 4016.25 on ...\n",
      "96     John buys koolaid for 12$ at a local store. If...\n",
      "101    Under a buy one get one free offer, with the s...\n",
      "104    If a quarter kilogram costs Rs.60 then how muc...\n",
      "105    A shop is offering discounts on shirts costing...\n",
      "106    John and Mike had equal amount of money in sav...\n",
      "112    Anil invests an amount for 2 years at the rate...\n",
      "114    If 0.497 mark has the value of one dollar, wha...\n",
      "117    If 300 billion French francs is equivalent to ...\n",
      "119    Varsha bought a Laptop for $1060, which was th...\n",
      "121    The promoters of the Springfield music festiva...\n",
      "127    A shop gives 10% discount on the purchase of a...\n",
      "128    When an item is sold for Rs. 18,700 the owner ...\n",
      "129    A loan was repaid in two annual instalments of...\n",
      "130    A banana costs Rs.3 and an apple costs Rs.4. W...\n",
      "150    Eesha has a wheat business. She purchases whea...\n",
      "158    The population of a city increases at the rate...\n",
      "161    A certain business printer can print 100 chara...\n",
      "177    You are buying pumpkins at a local farmer's ma...\n",
      "180    A man buys a watch for Rs. 1950 in cash and se...\n",
      "182    Last year Joe grew 2 inch and Sally grew 200 p...\n",
      "183    Akhil has twice as much money as Sohan and Soh...\n",
      "187    A man invests Rs. 128 and obtained Rs. 16. The...\n",
      "194    At a delivery store, seven packages have an av...\n",
      "196    In 1989 the price of a new model S car was x d...\n",
      "202    Gina and Tina's average grade is 23 points hig...\n",
      "207    The prices of a scooter and a television set a...\n",
      "208    A scooter and a television cost ratio is 8:7. ...\n",
      "215    Davji Shop sells samosas in boxes of different...\n",
      "217                    Divide Rs.32000 in the ratio 3:5?\n",
      "218    What is the interest due after 40 days for Rs....\n",
      "225    In 1978, a kg of paper was sold at Rs25/-. If ...\n",
      "230    John spent 72% of his budget on fruits ( inclu...\n",
      "233    A farmer is trying to grow the largest pumpkin...\n",
      "244    A salesman makes a 10% commission on the selli...\n",
      "250    If a jewelry store wants to sell a necklace fo...\n",
      "253    In a end-of-season sale, the prices at a store...\n",
      "Name: question, dtype: object \n",
      "\n",
      "\n",
      "6      A group of 5 friends were to contribute equall...\n",
      "16     Alex has enough money to buy 30 bricks. If the...\n",
      "17     In a poll of 45,000 dentists, only 30 percent ...\n",
      "19     Glenn gains 10% from selling her scarf at $44....\n",
      "21     Elliot has $1500 to buy a new laptop. His fath...\n",
      "23     Lucy has enough money to go to Canada every 6 ...\n",
      "28     On sports day, if 24 children were made to sta...\n",
      "41     In how many ways can 5 different candies be di...\n",
      "42     A is 30% more efficient than B. How much time ...\n",
      "63     Bert and Ernie are among 12 tenants on Sesame ...\n",
      "78     Santa distributes 2 gifts to every child in th...\n",
      "99     A college has 10 basketball players. A 5-membe...\n",
      "124    Rick can recite the entirety of Macbeth in 183...\n",
      "125    Country Club has an indoor swimming club. Thir...\n",
      "126    Recently, scientists were able to sequence an ...\n",
      "131    It takes 4 men 6 hours to repair a road. How l...\n",
      "132    Company X has 40 employees and company Y has 5...\n",
      "148    In how many ways to choose a group of 3 people...\n",
      "149    There are 6 multiple choice questions in an ex...\n",
      "159    In your study are displayed your 5 favourite p...\n",
      "162    50% of all high school students hate roller co...\n",
      "164    A letter has to be printed 100 lines with 80 c...\n",
      "173    A fisherman's day is rated as good if he catch...\n",
      "174    Some students arranged picnic. The budget was ...\n",
      "175    A family of 2 parents and 2 children is waitin...\n",
      "199    A Doctor must see 35 patients in a day. At 4 P...\n",
      "200    Jay is selling his shoes and making a 15% gain...\n",
      "203    Of a certain high school graduating class, 25 ...\n",
      "219    A bakery has 4 varieties of pastries. Each var...\n",
      "224    My company's funding allows for 5 employees. T...\n",
      "229    One day in December 2015, three 2-digit prime ...\n",
      "231    In a group of 18 children, there are twice as ...\n",
      "239    Ram has 12 pennies. He lost 5 of his pennies, ...\n",
      "243    A ticket to Disney land costs $24. Maria has b...\n",
      "246    When Mary paints a house, it takes her 4 hours...\n",
      "247    Consider a school which consists of boys, girl...\n",
      "249    A man had 43 sheep. he wanted to divide them e...\n",
      "252    A password needs to contain 2 letters and 3 nu...\n",
      "Name: question, dtype: object \n",
      "\n",
      "\n",
      "9      Solution A has 5% salt concentration and remai...\n",
      "12     In a mixture, the ratio of spirit and water is...\n",
      "75     In a mixture of milk and water, there is only ...\n",
      "85     Vegetables contains 68% water and green vegeta...\n",
      "89     x contains 85% water and 15% oil; how many mor...\n",
      "95     In a shipment of 120 machine parts, 5 percent ...\n",
      "100    A canteen requires 62 kgs of wheat for 6 days....\n",
      "115    In a fuel station the service costs $2 per car...\n",
      "116    A sink contains exactly 11 liters of water. If...\n",
      "138    John needs to mix a cleaning solution in the f...\n",
      "140    Bill owns a large collection of fishing lures ...\n",
      "146    Three quarts of a bleaching chemical, Minum, c...\n",
      "147    The total weight of a tin and the cookies it c...\n",
      "157    A merchant has three different types of milk: ...\n",
      "171    A 5 liter mixture of water and sugar is 50% su...\n",
      "178    Preston's Health Foods makes a mixed nut blend...\n",
      "181    The cost of Brand V paper is proportional to t...\n",
      "185    A single refined oil can contains 20% impuriti...\n",
      "223    Equal quantities of three mixtures of milk and...\n",
      "Name: question, dtype: object \n",
      "\n",
      "\n",
      "1      A ship is leaving a port. It takes 240 seconds...\n",
      "13     A car traveled 40 mph from Belnap to Lincoln a...\n",
      "25     Which is a longer period of time: 3 hours or 1...\n",
      "27     A farming field can be ploughed by 6 tractors ...\n",
      "37     A man earns RS. 20 on the first day and spends...\n",
      "71     In tennis, service alternates for each game be...\n",
      "90     A batsman has scored an average of 46 runs for...\n",
      "103    Manoj left home for the bus stop 15 minutes ea...\n",
      "113    The ratio between the speeds of the A and B is...\n",
      "118    There are two friends A and B. A starts with h...\n",
      "151    A train does a journey without stopping for 8 ...\n",
      "154    The steamer going upstream would cover the dis...\n",
      "160    A cheerleading squad practices 1 hour a day fr...\n",
      "166    A printer started its work at 8.15 a.m and end...\n",
      "168    An accurate clock shows 7 o'clock in the morni...\n",
      "176    A certain straight corridor has four doors, A,...\n",
      "189    A, B and C start at the same time in the same ...\n",
      "193    A, B and C are three contestants in a 1000 m r...\n",
      "204    A cycled from P to Q at 10 kmph and returned a...\n",
      "214    Four people need to cross a dark river at nigh...\n",
      "220    Fernando Alonso and Sebastian Vettel go for a ...\n",
      "221    Kelly finished 30th in a marathon race. if he ...\n",
      "240    A green lizard can travel from the green cave ...\n",
      "Name: question, dtype: object \n",
      "\n",
      "\n",
      "0      Three birds are flying at a fast rate of 900 k...\n",
      "32     A car after covering 1/2 of a journey of 100 k...\n",
      "50     Two trains under a controlled experiment begin...\n",
      "61     A train running between two stations A and B a...\n",
      "66     Marla starts running around a circular track a...\n",
      "111    A car travels at a speed of x kilometers per p...\n",
      "120    Every day a cyclist meets a train at a particu...\n",
      "122    Two trains are running with speed 30 km/hr. an...\n",
      "136    In a village, there are four tribes located at...\n",
      "144    In a city, 20% of the population travels by ca...\n",
      "191    The distance between Omaha and Lincoln is 60 m...\n",
      "212    An engine of length 1000 m moving at 10 m/s. A...\n",
      "232    A car is moving at the speed of 60 km per one ...\n",
      "Name: question, dtype: object \n",
      "\n",
      "\n",
      "4      A travel company wants to charter a plane to t...\n",
      "5      Kirk sells cars. On two sales, Kirk has receiv...\n",
      "15     A certain state imposes a 4% tax on the nightl...\n",
      "18     In recent Malta elections, in a particular con...\n",
      "24     A group of stock analysts had a contest. Each ...\n",
      "29     The salaries of Kiran, Prakash and Sanjay are ...\n",
      "35     One person has 2 children. At least one of the...\n",
      "36     During a particular year in city X, there were...\n",
      "38     Money is paid into an account in portions of $...\n",
      "44     A dog takes 4 leaps for every 5 leaps of a har...\n",
      "47     An agent gets a 5% commission on sales of clot...\n",
      "54     30% of all Huhulians own at least one TV. 24% ...\n",
      "58     A tailor had a number of shirt pieces to cut f...\n",
      "60     If a number is chosen at random from the set {...\n",
      "72     Ashish is given Rs. 158 in one-rupee denominat...\n",
      "73     Last year Sahara, Tata, Singhania and Birla ea...\n",
      "74     Which of the following is the equation of a li...\n",
      "80     Of two numbers, 4 times the smaller one is les...\n",
      "86     M is a set of even numbers from 1 to 23 and od...\n",
      "88     The mean proportional between 45 and a certain...\n",
      "91     Mr. Bean chooses a number and he keeps on doub...\n",
      "108    A salesman enters the quantity sold and the pr...\n",
      "109    For a candidate to clear an examination, he/sh...\n",
      "139    Of the new vehicles registered in a week, 300 ...\n",
      "142    An engineering student has to secure 36% marks...\n",
      "145    Terry has some oranges. Out of that, 4% were t...\n",
      "155    Rijon is the bass player in a wedding band whi...\n",
      "156    A test consists of two sections. The first sec...\n",
      "167    At an amusement park, tom bought a number of r...\n",
      "172    In a very big class, 40% of the students enrol...\n",
      "184    A password to a certain database consists of d...\n",
      "186    In an election, 68% of the voters exercised th...\n",
      "190    A house sold for $500,000 in 1990 and sold ten...\n",
      "192    When a number is divided by 6 and then multipl...\n",
      "197    Esteban is in a line at a theater. If he is th...\n",
      "198    Divide the number 49 into two parts, such that...\n",
      "213    Consider a courier company A which can deliver...\n",
      "228    At a casino, gamblers spin a number-wheel cont...\n",
      "234    Company X receives 16 applications for a job, ...\n",
      "237    A salon spa loyalty program magazine charges a...\n",
      "238    A picks a number from the bag where the bag co...\n",
      "241    If an electricity bill is paid before due date...\n",
      "251    At a company meeting, M men and W women meet i...\n",
      "Name: question, dtype: object \n",
      "\n",
      "\n",
      "3      In the xy-coordinate plane, which of the follo...\n",
      "7      Let A, B and C denote the vertices of a triang...\n",
      "10     If a number of apples, say x, is divisible by ...\n",
      "26     The root(s) of 15/(x2 - 4) – 2/(x - 2) = 1 is ...\n",
      "39     If (x # y) represents the remainder that resul...\n",
      "57     The function P~ can be expressed as 2-P for al...\n",
      "62     The H.C.F and L.C.M. of two numbers are 50 and...\n",
      "70     The least possible value of |89 - 9a|, where a...\n",
      "82     Peter piper picked a pack of pickled peppers a...\n",
      "84     If P represents a single digit in the four dig...\n",
      "133    If 2s > 8 and 4t < 12, which of the following ...\n",
      "163             The binary representation of 0.6875 is ?\n",
      "165    The sum of 3rd and 15th elements of an arithme...\n",
      "206    Q is 30% of N. N is 170% of Y. What percentage...\n",
      "210          The sum of odd numbers between 20 and 30 is\n",
      "227    The ratio of a numerator to denominator is 2:3...\n",
      "245    G and H are each equal to 20% of Z. If G, H, a...\n",
      "Name: question, dtype: object \n",
      "\n",
      "\n",
      "48     If the ratio of the ages of Maya and Chhaya is...\n",
      "65     The average age of the first seven people to a...\n",
      "67     Proportion of Yuvaraj’s age to Ganguly’s age i...\n",
      "69     Tanya's grandfather was 8 times older to her 1...\n",
      "77     Mr. X died when his age was 1/59th of year of ...\n",
      "102    1 year ago, Promila was 4 times as old as her ...\n",
      "195    In 4 years, Raj's father will be double Raj's ...\n",
      "216    If the ratio of age of mother and son 3:5, and...\n",
      "Name: question, dtype: object \n",
      "\n",
      "\n",
      "2      A rectangular piece of cloth 2 feet wide was c...\n",
      "31     A cube shaped pool is half full of water. If t...\n",
      "33     A sphere is surrounded by the smallest cylinde...\n",
      "76     The least perfect square number, exactly divis...\n",
      "81     Cost of 3 cricket balls = cost of 2 pairs of l...\n",
      "94     A rectangle has twice the area of a square. Th...\n",
      "97     Box W and Box V each contain several blue stic...\n",
      "98     A circular gear with a diameter of 25 cm is mo...\n",
      "110    The volume of a wall, 5 times as high as it is...\n",
      "134    After measuring 200 meters of a rope. It was d...\n",
      "135    ASB is a quarter circle. PQRS is a rectangle w...\n",
      "137    A 2 metre broad pathway is to be constructed a...\n",
      "141    A wire is cut into three equal parts. The resu...\n",
      "143    A soda can, in the shape of a circular cylinde...\n",
      "152    The spherical ball of lead 3 cm in diameter is...\n",
      "153    A rope can make 70 rounds of the circumference...\n",
      "169    If the volume of a tank is 4,120 cubic centime...\n",
      "170    How many parallelograms will be formed if 7 pa...\n",
      "179    A builder has to pour a concrete slab 12 centi...\n",
      "201    If the area of a square region having sides of...\n",
      "205    If a rectangular box has two faces with an are...\n",
      "209    The length of each side of an equilateral tria...\n",
      "222    One side of a rectangular field is 4 m and its...\n",
      "226    Find the cost of carpeting a room 13 m long an...\n",
      "235    The measures of the interior angles taken in o...\n",
      "Name: question, dtype: object \n",
      "\n",
      "\n"
     ]
    }
   ],
   "source": [
    "grouped = frame['question'].groupby(frame['cluster']) #groupby cluster for aggregation purposes\n",
    "#print(grouped)\n",
    "for key, item in grouped:\n",
    "    print (grouped.get_group(key), \"\\n\\n\")"
   ]
  },
  {
   "cell_type": "code",
   "execution_count": null,
   "metadata": {
    "collapsed": true
   },
   "outputs": [],
   "source": []
  }
 ],
 "metadata": {
  "anaconda-cloud": {},
  "kernelspec": {
   "display_name": "Python [Root]",
   "language": "python",
   "name": "Python [Root]"
  },
  "language_info": {
   "codemirror_mode": {
    "name": "ipython",
    "version": 3
   },
   "file_extension": ".py",
   "mimetype": "text/x-python",
   "name": "python",
   "nbconvert_exporter": "python",
   "pygments_lexer": "ipython3",
   "version": "3.5.2"
  }
 },
 "nbformat": 4,
 "nbformat_minor": 1
}
