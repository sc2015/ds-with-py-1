{
 "cells": [
  {
   "cell_type": "markdown",
   "metadata": {},
   "source": [
    "# EdX Dataset - Data wrangling"
   ]
  },
  {
   "cell_type": "code",
   "execution_count": 1,
   "metadata": {
    "collapsed": true
   },
   "outputs": [],
   "source": [
    "import numpy as np \n",
    "import pandas as pd \n",
    "\n",
    "import matplotlib.pyplot as plt\n",
    "import seaborn as sb"
   ]
  },
  {
   "cell_type": "markdown",
   "metadata": {},
   "source": [
    "## EdX Dataset\n",
    "The dataset contains data about particpants who enrolled in MITx and HarvardX courses on EdX platform (Academic Year 2013: Fall 2012, Spring 2013, and Summer 2013). The data includes aggregate records of participants activities on EdX (which some information such as 'user name' de-identified). The dataset has been downloaded from\n",
    "\n",
    "https://dataverse.harvard.edu/dataset.xhtml?persistentId=doi:10.7910/DVN/26147&version=10.0"
   ]
  },
  {
   "cell_type": "code",
   "execution_count": 2,
   "metadata": {
    "collapsed": true
   },
   "outputs": [],
   "source": [
    "# PATH to data file\n",
    "file='HMXPC13_DI_v2_5-14-14.csv'\n",
    "path='/Users/suka/Downloads/dataverse_files'\n",
    "filename=path+'/'+file"
   ]
  },
  {
   "cell_type": "markdown",
   "metadata": {},
   "source": [
    "# Description of the DataSet  \n",
    "\n",
    "* **course_id** unique identifier with information about institution , course name and semester\n",
    "* **userid_DI:** identifies  user / course participant \n",
    "* **registered** registered for course, (=1 for all records ) \n",
    "* **viewed:**  indicates the user has viewed the course content \n",
    "* **explored** indicates user has  accessed at least half of the chapters in the courseware \n",
    "* **certified** indicates the user has completed the course with passing grade \n",
    "* **final_cc_cname_DI** indicates the country / region of the user\n",
    "* **LoE** level of education of the user\n",
    "* **YoB** user-provided, year of birth. \n",
    "* **gender** user-provided. Possible values: m (male), f (female) and o (other). \n",
    "* **grade** final grade of the user  i\n",
    "* **start_time_DI**  date of course registration.\n",
    "* **last_event_DI** date of last interaction with course,\n",
    "* **nevents** number of interactions with the course,\n",
    "* **ndays_act** number of unique days student interacted with course.\n",
    "* **nplay_video** number of play video events within the course. Example: “52”. \n",
    "* **nchapters**  number of chapters  completed by the student \n",
    "* **inconsistent_flag** identifies records that are internally inconsistent. \n",
    "\n"
   ]
  },
  {
   "cell_type": "code",
   "execution_count": 3,
   "metadata": {},
   "outputs": [
    {
     "data": {
      "text/plain": [
       "641138"
      ]
     },
     "execution_count": 3,
     "metadata": {},
     "output_type": "execute_result"
    }
   ],
   "source": [
    "#  READ THE CSV to data frame \n",
    "full_df = pd.read_csv(filename,parse_dates=True)\n",
    "len(full_df)"
   ]
  },
  {
   "cell_type": "markdown",
   "metadata": {},
   "source": [
    "# Cleanup\n",
    "Before we go any further, we need to convert/clean the dataset . Here are the changes done\n",
    "* drop the dataset which user specified information ( YoB,Education,Gender ) incomplete\n",
    "* split the course_id to retrieve institution , course name and semester / year\n",
    "* map the course-id/code to course title (eg 'CS50x':'Computer Science')\n",
    "* rename the column headings appropriately\n",
    "* fill NaN with 0 values\n",
    "* Insert \"Age\" column\n",
    "* Set the datatypes of the columns appropriately\n",
    "* add categorical order for the education level \n",
    "* convert the grade(0 to 1) to %"
   ]
  },
  {
   "cell_type": "code",
   "execution_count": 4,
   "metadata": {
    "collapsed": true
   },
   "outputs": [],
   "source": [
    "\n",
    "# Extract relevant fields \n",
    "data = full_df[['course_id','userid_DI','final_cc_cname_DI','LoE_DI','YoB','gender','start_time_DI','grade','viewed','explored','nevents','ndays_act','nplay_video','nchapters','certified','registered','incomplete_flag']].copy()\n",
    "\n",
    "# split the course id into multiple fields\n",
    "a,b,c = data['course_id'].str.split('/').str\n",
    "data.insert(1,'institution',a)\n",
    "data.insert(2,'course',b)\n",
    "\n",
    "# clean up the year which has the _spring,_fall suffixes \n",
    "a = c.str.split('_').str[0]\n",
    "b = c.str.split('_').str[1]\n",
    "\n",
    "data.insert(3,'year',a)\n",
    "data.insert(4,'term',b)\n",
    "\n",
    "data.drop('course_id',axis=1,inplace=True)\n",
    "\n",
    "# Create the mapping of course-id to title \n",
    "courselist = {'CB22x':'Greek Heros', 'CS50x':'Computer Science','ER22x':'Justice','PH207x':'Health Stat','PH278x':'Health Env','14.73x':'Poverty','2.01x':'Structures','3.091x':'SS Chemistry','6.002x':'Circuits','6.00x':'Computer Pgming','7.00x':'Biology','8.02x':'Electricity & Magnetism','8.MReV':'Mechanics'}\n",
    "data['course'].replace(courselist, inplace=True)\n",
    "\n",
    "#rename columns \n",
    "data.rename(columns={'nchapters':'chapters viewed','ndays_act':'days active','nplay_video':'videos played','course_id': 'course', 'final_cc_cname_DI': 'country','LoE_DI':'education','userid_DI':'user',\"start_time_DI\":\"start-time\"}, inplace=True)\n",
    "\n",
    "\n",
    "data['YoB'] = data.groupby('course')['YoB'].transform(lambda x: x.fillna(x.median()))\n",
    "data['gender'] = data.groupby('course')['gender'].transform(lambda x: x.fillna(x.value_counts().index[0]))\n",
    "data['education'] = data.groupby('course')['education'].transform(lambda x: x.fillna(x.value_counts().index[0]))\n",
    "\n"
   ]
  },
  {
   "cell_type": "code",
   "execution_count": 18,
   "metadata": {},
   "outputs": [
    {
     "data": {
      "text/html": [
       "<div>\n",
       "<style>\n",
       "    .dataframe thead tr:only-child th {\n",
       "        text-align: right;\n",
       "    }\n",
       "\n",
       "    .dataframe thead th {\n",
       "        text-align: left;\n",
       "    }\n",
       "\n",
       "    .dataframe tbody tr th {\n",
       "        vertical-align: top;\n",
       "    }\n",
       "</style>\n",
       "<table border=\"1\" class=\"dataframe\">\n",
       "  <thead>\n",
       "    <tr style=\"text-align: right;\">\n",
       "      <th></th>\n",
       "      <th>institution</th>\n",
       "      <th>course</th>\n",
       "      <th>year</th>\n",
       "      <th>term</th>\n",
       "      <th>user</th>\n",
       "      <th>country</th>\n",
       "      <th>education</th>\n",
       "      <th>YoB</th>\n",
       "      <th>gender</th>\n",
       "      <th>start-time</th>\n",
       "      <th>grade</th>\n",
       "      <th>viewed</th>\n",
       "      <th>explored</th>\n",
       "      <th>nevents</th>\n",
       "      <th>days active</th>\n",
       "      <th>videos played</th>\n",
       "      <th>chapters viewed</th>\n",
       "      <th>certified</th>\n",
       "      <th>registered</th>\n",
       "      <th>incomplete_flag</th>\n",
       "    </tr>\n",
       "  </thead>\n",
       "  <tbody>\n",
       "    <tr>\n",
       "      <th>0</th>\n",
       "      <td>HarvardX</td>\n",
       "      <td>Greek Heros</td>\n",
       "      <td>2013</td>\n",
       "      <td>Spring</td>\n",
       "      <td>MHxPC130442623</td>\n",
       "      <td>United States</td>\n",
       "      <td>Bachelor's</td>\n",
       "      <td>1986.0</td>\n",
       "      <td>m</td>\n",
       "      <td>2012-12-19</td>\n",
       "      <td>0</td>\n",
       "      <td>0</td>\n",
       "      <td>0</td>\n",
       "      <td>NaN</td>\n",
       "      <td>9.0</td>\n",
       "      <td>NaN</td>\n",
       "      <td>NaN</td>\n",
       "      <td>0</td>\n",
       "      <td>1</td>\n",
       "      <td>1.0</td>\n",
       "    </tr>\n",
       "    <tr>\n",
       "      <th>1</th>\n",
       "      <td>HarvardX</td>\n",
       "      <td>Computer Science</td>\n",
       "      <td>2012</td>\n",
       "      <td>NaN</td>\n",
       "      <td>MHxPC130442623</td>\n",
       "      <td>United States</td>\n",
       "      <td>Bachelor's</td>\n",
       "      <td>1987.0</td>\n",
       "      <td>m</td>\n",
       "      <td>2012-10-15</td>\n",
       "      <td>0</td>\n",
       "      <td>1</td>\n",
       "      <td>0</td>\n",
       "      <td>NaN</td>\n",
       "      <td>9.0</td>\n",
       "      <td>NaN</td>\n",
       "      <td>1.0</td>\n",
       "      <td>0</td>\n",
       "      <td>1</td>\n",
       "      <td>1.0</td>\n",
       "    </tr>\n",
       "    <tr>\n",
       "      <th>2</th>\n",
       "      <td>HarvardX</td>\n",
       "      <td>Greek Heros</td>\n",
       "      <td>2013</td>\n",
       "      <td>Spring</td>\n",
       "      <td>MHxPC130275857</td>\n",
       "      <td>United States</td>\n",
       "      <td>Bachelor's</td>\n",
       "      <td>1986.0</td>\n",
       "      <td>m</td>\n",
       "      <td>2013-02-08</td>\n",
       "      <td>0</td>\n",
       "      <td>0</td>\n",
       "      <td>0</td>\n",
       "      <td>NaN</td>\n",
       "      <td>16.0</td>\n",
       "      <td>NaN</td>\n",
       "      <td>NaN</td>\n",
       "      <td>0</td>\n",
       "      <td>1</td>\n",
       "      <td>1.0</td>\n",
       "    </tr>\n",
       "    <tr>\n",
       "      <th>3</th>\n",
       "      <td>HarvardX</td>\n",
       "      <td>Computer Science</td>\n",
       "      <td>2012</td>\n",
       "      <td>NaN</td>\n",
       "      <td>MHxPC130275857</td>\n",
       "      <td>United States</td>\n",
       "      <td>Bachelor's</td>\n",
       "      <td>1987.0</td>\n",
       "      <td>m</td>\n",
       "      <td>2012-09-17</td>\n",
       "      <td>0</td>\n",
       "      <td>0</td>\n",
       "      <td>0</td>\n",
       "      <td>NaN</td>\n",
       "      <td>16.0</td>\n",
       "      <td>NaN</td>\n",
       "      <td>NaN</td>\n",
       "      <td>0</td>\n",
       "      <td>1</td>\n",
       "      <td>1.0</td>\n",
       "    </tr>\n",
       "    <tr>\n",
       "      <th>4</th>\n",
       "      <td>HarvardX</td>\n",
       "      <td>Justice</td>\n",
       "      <td>2013</td>\n",
       "      <td>Spring</td>\n",
       "      <td>MHxPC130275857</td>\n",
       "      <td>United States</td>\n",
       "      <td>Bachelor's</td>\n",
       "      <td>1987.0</td>\n",
       "      <td>m</td>\n",
       "      <td>2012-12-19</td>\n",
       "      <td>0</td>\n",
       "      <td>0</td>\n",
       "      <td>0</td>\n",
       "      <td>NaN</td>\n",
       "      <td>16.0</td>\n",
       "      <td>NaN</td>\n",
       "      <td>NaN</td>\n",
       "      <td>0</td>\n",
       "      <td>1</td>\n",
       "      <td>1.0</td>\n",
       "    </tr>\n",
       "  </tbody>\n",
       "</table>\n",
       "</div>"
      ],
      "text/plain": [
       "  institution            course  year    term            user        country  \\\n",
       "0    HarvardX       Greek Heros  2013  Spring  MHxPC130442623  United States   \n",
       "1    HarvardX  Computer Science  2012     NaN  MHxPC130442623  United States   \n",
       "2    HarvardX       Greek Heros  2013  Spring  MHxPC130275857  United States   \n",
       "3    HarvardX  Computer Science  2012     NaN  MHxPC130275857  United States   \n",
       "4    HarvardX           Justice  2013  Spring  MHxPC130275857  United States   \n",
       "\n",
       "    education     YoB gender  start-time grade  viewed  explored  nevents  \\\n",
       "0  Bachelor's  1986.0      m  2012-12-19     0       0         0      NaN   \n",
       "1  Bachelor's  1987.0      m  2012-10-15     0       1         0      NaN   \n",
       "2  Bachelor's  1986.0      m  2013-02-08     0       0         0      NaN   \n",
       "3  Bachelor's  1987.0      m  2012-09-17     0       0         0      NaN   \n",
       "4  Bachelor's  1987.0      m  2012-12-19     0       0         0      NaN   \n",
       "\n",
       "   days active  videos played  chapters viewed  certified  registered  \\\n",
       "0          9.0            NaN              NaN          0           1   \n",
       "1          9.0            NaN              1.0          0           1   \n",
       "2         16.0            NaN              NaN          0           1   \n",
       "3         16.0            NaN              NaN          0           1   \n",
       "4         16.0            NaN              NaN          0           1   \n",
       "\n",
       "   incomplete_flag  \n",
       "0              1.0  \n",
       "1              1.0  \n",
       "2              1.0  \n",
       "3              1.0  \n",
       "4              1.0  "
      ]
     },
     "execution_count": 18,
     "metadata": {},
     "output_type": "execute_result"
    }
   ],
   "source": [
    "data.head()"
   ]
  },
  {
   "cell_type": "code",
   "execution_count": 5,
   "metadata": {},
   "outputs": [],
   "source": [
    "\n",
    "# change the datatypes of some of the columns\n",
    "data['institution']= data.institution.astype('category')\n",
    "data['course']= data.course.astype('category')\n",
    "\n",
    "e_order = [\"Less than Secondary\",\"Secondary\",\"Bachelor's\",\"Master's\",\"Doctorate\"]\n",
    "data['education']= data.education.astype('category').cat.set_categories(e_order, ordered=True)\n",
    "\n",
    "data['grade'] = pd.to_numeric(data['grade'],errors='coerce')\n",
    "data['grade'] = data['grade'].fillna(0).multiply(100)\n",
    "\n",
    "\n",
    "data['chapters viewed'].fillna(0,inplace=True) # replace NaN with 0 \n",
    "data['nevents'].fillna(0,inplace=True) # replace NaN with 0 \n",
    "data['videos played'].fillna(0,inplace=True) # replace NaN with 0 \n",
    "data['chapters viewed'].fillna(0,inplace=True) # replace NaN with 0 \n",
    "data['days active'].fillna(0,inplace=True) # replace NaN with 0 \n",
    "data['term'].fillna('Fall',inplace=True)\n",
    "\n",
    "data['gender']= data.gender.astype('category')\n",
    "data['year']= data.year.astype('int')\n",
    "data['YoB']= data.YoB.astype('int')\n",
    "data['nevents']= data.nevents.astype('int')\n",
    "\n",
    "\n",
    "data['start-time'] = pd.to_datetime(data['start-time'])\n",
    "\n",
    "# Add a column \"age\" using YoB (age calculated as on 2014)\n",
    "data.insert(3,\"age\", [(x.year-x.YoB) for index, x in data.iterrows() ])"
   ]
  },
  {
   "cell_type": "code",
   "execution_count": 12,
   "metadata": {},
   "outputs": [
    {
     "name": "stdout",
     "output_type": "stream",
     "text": [
      "  institution            course  year  age    term            user  \\\n",
      "0    HarvardX       Greek Heros  2013   27  Spring  MHxPC130442623   \n",
      "1    HarvardX  Computer Science  2012   25    Fall  MHxPC130442623   \n",
      "2    HarvardX       Greek Heros  2013   27  Spring  MHxPC130275857   \n",
      "3    HarvardX  Computer Science  2012   25    Fall  MHxPC130275857   \n",
      "4    HarvardX           Justice  2013   26  Spring  MHxPC130275857   \n",
      "\n",
      "         country   education   YoB gender       ...        grade  viewed  \\\n",
      "0  United States  Bachelor's  1986      m       ...          0.0       0   \n",
      "1  United States  Bachelor's  1987      m       ...          0.0       1   \n",
      "2  United States  Bachelor's  1986      m       ...          0.0       0   \n",
      "3  United States  Bachelor's  1987      m       ...          0.0       0   \n",
      "4  United States  Bachelor's  1987      m       ...          0.0       0   \n",
      "\n",
      "   explored  nevents  days active  videos played  chapters viewed  certified  \\\n",
      "0         0        0          9.0            0.0              0.0          0   \n",
      "1         0        0          9.0            0.0              1.0          0   \n",
      "2         0        0         16.0            0.0              0.0          0   \n",
      "3         0        0         16.0            0.0              0.0          0   \n",
      "4         0        0         16.0            0.0              0.0          0   \n",
      "\n",
      "   registered  incomplete_flag  \n",
      "0           1              1.0  \n",
      "1           1              1.0  \n",
      "2           1              1.0  \n",
      "3           1              1.0  \n",
      "4           1              1.0  \n",
      "\n",
      "[5 rows x 21 columns]\n"
     ]
    }
   ],
   "source": [
    "print(data.head(5))"
   ]
  },
  {
   "cell_type": "code",
   "execution_count": 6,
   "metadata": {},
   "outputs": [
    {
     "name": "stdout",
     "output_type": "stream",
     "text": [
      "<class 'pandas.core.frame.DataFrame'>\n",
      "RangeIndex: 641138 entries, 0 to 641137\n",
      "Data columns (total 21 columns):\n",
      "institution        641138 non-null category\n",
      "course             641138 non-null category\n",
      "year               641138 non-null int64\n",
      "age                641138 non-null int64\n",
      "term               641138 non-null object\n",
      "user               641138 non-null object\n",
      "country            641138 non-null object\n",
      "education          641138 non-null category\n",
      "YoB                641138 non-null int64\n",
      "gender             641138 non-null category\n",
      "start-time         641138 non-null datetime64[ns]\n",
      "grade              641138 non-null float64\n",
      "viewed             641138 non-null int64\n",
      "explored           641138 non-null int64\n",
      "nevents            641138 non-null int64\n",
      "days active        641138 non-null float64\n",
      "videos played      641138 non-null float64\n",
      "chapters viewed    641138 non-null float64\n",
      "certified          641138 non-null int64\n",
      "registered         641138 non-null int64\n",
      "incomplete_flag    100161 non-null float64\n",
      "dtypes: category(4), datetime64[ns](1), float64(5), int64(8), object(3)\n",
      "memory usage: 85.6+ MB\n"
     ]
    }
   ],
   "source": [
    "data.info()"
   ]
  },
  {
   "cell_type": "code",
   "execution_count": 7,
   "metadata": {},
   "outputs": [
    {
     "name": "stdout",
     "output_type": "stream",
     "text": [
      "Extracted 641138 clean records from 641138 in the originsl dataset\n",
      "No of certifications  in full dataset - 17687\n",
      "No of certifications  in cleaned dataset - 17687\n"
     ]
    }
   ],
   "source": [
    "print(\"Extracted \"+str(len(data))+\" clean records from \"+str(len(full_df))+\" in the originsl dataset\")\n",
    "print(\"No of certifications  in full dataset - \"+str(len(full_df[full_df.certified == 1])))\n",
    "print(\"No of certifications  in cleaned dataset - \"+str(len(data[data.certified == 1])))"
   ]
  }
 ],
 "metadata": {
  "anaconda-cloud": {},
  "celltoolbar": "Edit Metadata",
  "kernelspec": {
   "display_name": "Python [Root]",
   "language": "python",
   "name": "Python [Root]"
  },
  "language_info": {
   "codemirror_mode": {
    "name": "ipython",
    "version": 3
   },
   "file_extension": ".py",
   "mimetype": "text/x-python",
   "name": "python",
   "nbconvert_exporter": "python",
   "pygments_lexer": "ipython3",
   "version": "3.5.2"
  }
 },
 "nbformat": 4,
 "nbformat_minor": 1
}
